{
  "nbformat": 4,
  "nbformat_minor": 0,
  "metadata": {
    "colab": {
      "provenance": []
    },
    "kernelspec": {
      "name": "python3",
      "display_name": "Python 3"
    },
    "language_info": {
      "name": "python"
    }
  },
  "cells": [
    {
      "cell_type": "code",
      "execution_count": 14,
      "metadata": {
        "colab": {
          "base_uri": "https://localhost:8080/"
        },
        "id": "8A0u3GaetmRd",
        "outputId": "848c584a-2940-4afd-a76c-3ebf599d4916"
      },
      "outputs": [
        {
          "output_type": "stream",
          "name": "stdout",
          "text": [
            "Requirement already satisfied: Faker in /usr/local/lib/python3.10/dist-packages (25.2.0)\n",
            "Requirement already satisfied: python-dateutil>=2.4 in /usr/local/lib/python3.10/dist-packages (from Faker) (2.8.2)\n",
            "Requirement already satisfied: six>=1.5 in /usr/local/lib/python3.10/dist-packages (from python-dateutil>=2.4->Faker) (1.16.0)\n"
          ]
        }
      ],
      "source": [
        "!pip install Faker"
      ]
    },
    {
      "cell_type": "markdown",
      "source": [
        "## Generate Synthetic Data"
      ],
      "metadata": {
        "id": "t0i6WYtXt6Oj"
      }
    },
    {
      "cell_type": "code",
      "source": [
        "import pandas as pd\n",
        "from faker import Faker\n",
        "import random\n",
        "\n",
        "# Initialize Faker to generate synthetic data\n",
        "fake = Faker()\n",
        "\n",
        "# Set seed for reproducibility\n",
        "Faker.seed(42)\n",
        "\n",
        "# Generate synthetic data\n",
        "data = []\n",
        "for _ in range(1000):\n",
        "    data.append({\n",
        "        'Name': fake.name(),\n",
        "        'Age': random.randint(18, 70),\n",
        "        'Email': fake.email(),\n",
        "        'Phone': fake.phone_number(),\n",
        "        'Address': fake.address(),\n",
        "        'Salary': random.randint(20000, 150000),\n",
        "        'Join_Date': fake.date_this_decade(),\n",
        "        'Employment_Status': random.choice(['Full-Time', 'Part-Time', 'Contract']),\n",
        "        'Department': random.choice(['IT', 'Engineering','Finance', 'HR', 'Marketing'])\n",
        "    })\n",
        "\n",
        "# Let's tweak the records a bit!\n",
        "# Introduce missing values\n",
        "for i in random.sample(range(len(data)), 50):\n",
        "    data[i]['Email'] = None\n",
        "\n",
        "# Introduce duplicate records\n",
        "data.extend(random.sample(data, 100))\n",
        "\n",
        "# Introduce outliers\n",
        "for i in random.sample(range(len(data)), 20):\n",
        "    data[i]['Salary'] = random.randint(200000, 500000)\n",
        "\n",
        "# Create dataframe\n",
        "df = pd.DataFrame(data)"
      ],
      "metadata": {
        "id": "alqUacatt9q5"
      },
      "execution_count": 25,
      "outputs": []
    },
    {
      "cell_type": "markdown",
      "source": [
        "## Step 1: Understanding the Data"
      ],
      "metadata": {
        "id": "YqW2tmlrulss"
      }
    },
    {
      "cell_type": "code",
      "source": [
        "df.info()"
      ],
      "metadata": {
        "colab": {
          "base_uri": "https://localhost:8080/"
        },
        "id": "39YXRLDuuhee",
        "outputId": "713a0c95-2c63-41bd-cf6d-b291ecc40f95"
      },
      "execution_count": 26,
      "outputs": [
        {
          "output_type": "stream",
          "name": "stdout",
          "text": [
            "<class 'pandas.core.frame.DataFrame'>\n",
            "RangeIndex: 1100 entries, 0 to 1099\n",
            "Data columns (total 9 columns):\n",
            " #   Column             Non-Null Count  Dtype \n",
            "---  ------             --------------  ----- \n",
            " 0   Name               1100 non-null   object\n",
            " 1   Age                1100 non-null   int64 \n",
            " 2   Email              1047 non-null   object\n",
            " 3   Phone              1100 non-null   object\n",
            " 4   Address            1100 non-null   object\n",
            " 5   Salary             1100 non-null   int64 \n",
            " 6   Join_Date          1100 non-null   object\n",
            " 7   Employment_Status  1100 non-null   object\n",
            " 8   Department         1100 non-null   object\n",
            "dtypes: int64(2), object(7)\n",
            "memory usage: 77.5+ KB\n"
          ]
        }
      ]
    },
    {
      "cell_type": "code",
      "source": [
        "df.head()"
      ],
      "metadata": {
        "colab": {
          "base_uri": "https://localhost:8080/",
          "height": 415
        },
        "id": "5zOmR_p5urZA",
        "outputId": "18403003-bca1-439c-b98a-a146a9510b82"
      },
      "execution_count": 28,
      "outputs": [
        {
          "output_type": "execute_result",
          "data": {
            "text/plain": [
              "              Name  Age                     Email                   Phone  \\\n",
              "0     Allison Hill   43  donaldgarcia@example.net         +1-219-560-0133   \n",
              "1  Kimberly Dudley   44       smiller@example.net     +1-659-931-0341x316   \n",
              "2      Ethan Adams   32  robinbradley@example.net      837-767-2423x88496   \n",
              "3  Tricia Valencia   26  frazierdanny@example.net  001-645-514-6270x48281   \n",
              "4    Angela Dennis   20  spenceamanda@example.org           (578)624-8963   \n",
              "\n",
              "                                             Address  Salary   Join_Date  \\\n",
              "0  79402 Peterson Drives Apt. 511\\nDavisstad, PA ...   59590  2023-07-12   \n",
              "1  55341 Amanda Gardens Apt. 764\\nLake Mark, WI 0...  116362  2020-12-31   \n",
              "2             710 Eric Estate\\nCarlsonfurt, MS 78605   94306  2024-05-09   \n",
              "3             809 Burns Creek\\nNatashaport, IA 08093   91173  2021-01-19   \n",
              "4  8713 Caleb Brooks Apt. 930\\nLake Crystalbury, ...   68415  2023-10-04   \n",
              "\n",
              "  Employment_Status Department  \n",
              "0          Contract    Finance  \n",
              "1         Full-Time    Finance  \n",
              "2          Contract  Marketing  \n",
              "3         Full-Time         HR  \n",
              "4          Contract         IT  "
            ],
            "text/html": [
              "\n",
              "  <div id=\"df-a9a9d915-7e5f-4407-8fcc-d67f69c8bcef\" class=\"colab-df-container\">\n",
              "    <div>\n",
              "<style scoped>\n",
              "    .dataframe tbody tr th:only-of-type {\n",
              "        vertical-align: middle;\n",
              "    }\n",
              "\n",
              "    .dataframe tbody tr th {\n",
              "        vertical-align: top;\n",
              "    }\n",
              "\n",
              "    .dataframe thead th {\n",
              "        text-align: right;\n",
              "    }\n",
              "</style>\n",
              "<table border=\"1\" class=\"dataframe\">\n",
              "  <thead>\n",
              "    <tr style=\"text-align: right;\">\n",
              "      <th></th>\n",
              "      <th>Name</th>\n",
              "      <th>Age</th>\n",
              "      <th>Email</th>\n",
              "      <th>Phone</th>\n",
              "      <th>Address</th>\n",
              "      <th>Salary</th>\n",
              "      <th>Join_Date</th>\n",
              "      <th>Employment_Status</th>\n",
              "      <th>Department</th>\n",
              "    </tr>\n",
              "  </thead>\n",
              "  <tbody>\n",
              "    <tr>\n",
              "      <th>0</th>\n",
              "      <td>Allison Hill</td>\n",
              "      <td>43</td>\n",
              "      <td>donaldgarcia@example.net</td>\n",
              "      <td>+1-219-560-0133</td>\n",
              "      <td>79402 Peterson Drives Apt. 511\\nDavisstad, PA ...</td>\n",
              "      <td>59590</td>\n",
              "      <td>2023-07-12</td>\n",
              "      <td>Contract</td>\n",
              "      <td>Finance</td>\n",
              "    </tr>\n",
              "    <tr>\n",
              "      <th>1</th>\n",
              "      <td>Kimberly Dudley</td>\n",
              "      <td>44</td>\n",
              "      <td>smiller@example.net</td>\n",
              "      <td>+1-659-931-0341x316</td>\n",
              "      <td>55341 Amanda Gardens Apt. 764\\nLake Mark, WI 0...</td>\n",
              "      <td>116362</td>\n",
              "      <td>2020-12-31</td>\n",
              "      <td>Full-Time</td>\n",
              "      <td>Finance</td>\n",
              "    </tr>\n",
              "    <tr>\n",
              "      <th>2</th>\n",
              "      <td>Ethan Adams</td>\n",
              "      <td>32</td>\n",
              "      <td>robinbradley@example.net</td>\n",
              "      <td>837-767-2423x88496</td>\n",
              "      <td>710 Eric Estate\\nCarlsonfurt, MS 78605</td>\n",
              "      <td>94306</td>\n",
              "      <td>2024-05-09</td>\n",
              "      <td>Contract</td>\n",
              "      <td>Marketing</td>\n",
              "    </tr>\n",
              "    <tr>\n",
              "      <th>3</th>\n",
              "      <td>Tricia Valencia</td>\n",
              "      <td>26</td>\n",
              "      <td>frazierdanny@example.net</td>\n",
              "      <td>001-645-514-6270x48281</td>\n",
              "      <td>809 Burns Creek\\nNatashaport, IA 08093</td>\n",
              "      <td>91173</td>\n",
              "      <td>2021-01-19</td>\n",
              "      <td>Full-Time</td>\n",
              "      <td>HR</td>\n",
              "    </tr>\n",
              "    <tr>\n",
              "      <th>4</th>\n",
              "      <td>Angela Dennis</td>\n",
              "      <td>20</td>\n",
              "      <td>spenceamanda@example.org</td>\n",
              "      <td>(578)624-8963</td>\n",
              "      <td>8713 Caleb Brooks Apt. 930\\nLake Crystalbury, ...</td>\n",
              "      <td>68415</td>\n",
              "      <td>2023-10-04</td>\n",
              "      <td>Contract</td>\n",
              "      <td>IT</td>\n",
              "    </tr>\n",
              "  </tbody>\n",
              "</table>\n",
              "</div>\n",
              "    <div class=\"colab-df-buttons\">\n",
              "\n",
              "  <div class=\"colab-df-container\">\n",
              "    <button class=\"colab-df-convert\" onclick=\"convertToInteractive('df-a9a9d915-7e5f-4407-8fcc-d67f69c8bcef')\"\n",
              "            title=\"Convert this dataframe to an interactive table.\"\n",
              "            style=\"display:none;\">\n",
              "\n",
              "  <svg xmlns=\"http://www.w3.org/2000/svg\" height=\"24px\" viewBox=\"0 -960 960 960\">\n",
              "    <path d=\"M120-120v-720h720v720H120Zm60-500h600v-160H180v160Zm220 220h160v-160H400v160Zm0 220h160v-160H400v160ZM180-400h160v-160H180v160Zm440 0h160v-160H620v160ZM180-180h160v-160H180v160Zm440 0h160v-160H620v160Z\"/>\n",
              "  </svg>\n",
              "    </button>\n",
              "\n",
              "  <style>\n",
              "    .colab-df-container {\n",
              "      display:flex;\n",
              "      gap: 12px;\n",
              "    }\n",
              "\n",
              "    .colab-df-convert {\n",
              "      background-color: #E8F0FE;\n",
              "      border: none;\n",
              "      border-radius: 50%;\n",
              "      cursor: pointer;\n",
              "      display: none;\n",
              "      fill: #1967D2;\n",
              "      height: 32px;\n",
              "      padding: 0 0 0 0;\n",
              "      width: 32px;\n",
              "    }\n",
              "\n",
              "    .colab-df-convert:hover {\n",
              "      background-color: #E2EBFA;\n",
              "      box-shadow: 0px 1px 2px rgba(60, 64, 67, 0.3), 0px 1px 3px 1px rgba(60, 64, 67, 0.15);\n",
              "      fill: #174EA6;\n",
              "    }\n",
              "\n",
              "    .colab-df-buttons div {\n",
              "      margin-bottom: 4px;\n",
              "    }\n",
              "\n",
              "    [theme=dark] .colab-df-convert {\n",
              "      background-color: #3B4455;\n",
              "      fill: #D2E3FC;\n",
              "    }\n",
              "\n",
              "    [theme=dark] .colab-df-convert:hover {\n",
              "      background-color: #434B5C;\n",
              "      box-shadow: 0px 1px 3px 1px rgba(0, 0, 0, 0.15);\n",
              "      filter: drop-shadow(0px 1px 2px rgba(0, 0, 0, 0.3));\n",
              "      fill: #FFFFFF;\n",
              "    }\n",
              "  </style>\n",
              "\n",
              "    <script>\n",
              "      const buttonEl =\n",
              "        document.querySelector('#df-a9a9d915-7e5f-4407-8fcc-d67f69c8bcef button.colab-df-convert');\n",
              "      buttonEl.style.display =\n",
              "        google.colab.kernel.accessAllowed ? 'block' : 'none';\n",
              "\n",
              "      async function convertToInteractive(key) {\n",
              "        const element = document.querySelector('#df-a9a9d915-7e5f-4407-8fcc-d67f69c8bcef');\n",
              "        const dataTable =\n",
              "          await google.colab.kernel.invokeFunction('convertToInteractive',\n",
              "                                                    [key], {});\n",
              "        if (!dataTable) return;\n",
              "\n",
              "        const docLinkHtml = 'Like what you see? Visit the ' +\n",
              "          '<a target=\"_blank\" href=https://colab.research.google.com/notebooks/data_table.ipynb>data table notebook</a>'\n",
              "          + ' to learn more about interactive tables.';\n",
              "        element.innerHTML = '';\n",
              "        dataTable['output_type'] = 'display_data';\n",
              "        await google.colab.output.renderOutput(dataTable, element);\n",
              "        const docLink = document.createElement('div');\n",
              "        docLink.innerHTML = docLinkHtml;\n",
              "        element.appendChild(docLink);\n",
              "      }\n",
              "    </script>\n",
              "  </div>\n",
              "\n",
              "\n",
              "<div id=\"df-1f775a0d-4782-42f4-be70-3c19db7ba6db\">\n",
              "  <button class=\"colab-df-quickchart\" onclick=\"quickchart('df-1f775a0d-4782-42f4-be70-3c19db7ba6db')\"\n",
              "            title=\"Suggest charts\"\n",
              "            style=\"display:none;\">\n",
              "\n",
              "<svg xmlns=\"http://www.w3.org/2000/svg\" height=\"24px\"viewBox=\"0 0 24 24\"\n",
              "     width=\"24px\">\n",
              "    <g>\n",
              "        <path d=\"M19 3H5c-1.1 0-2 .9-2 2v14c0 1.1.9 2 2 2h14c1.1 0 2-.9 2-2V5c0-1.1-.9-2-2-2zM9 17H7v-7h2v7zm4 0h-2V7h2v10zm4 0h-2v-4h2v4z\"/>\n",
              "    </g>\n",
              "</svg>\n",
              "  </button>\n",
              "\n",
              "<style>\n",
              "  .colab-df-quickchart {\n",
              "      --bg-color: #E8F0FE;\n",
              "      --fill-color: #1967D2;\n",
              "      --hover-bg-color: #E2EBFA;\n",
              "      --hover-fill-color: #174EA6;\n",
              "      --disabled-fill-color: #AAA;\n",
              "      --disabled-bg-color: #DDD;\n",
              "  }\n",
              "\n",
              "  [theme=dark] .colab-df-quickchart {\n",
              "      --bg-color: #3B4455;\n",
              "      --fill-color: #D2E3FC;\n",
              "      --hover-bg-color: #434B5C;\n",
              "      --hover-fill-color: #FFFFFF;\n",
              "      --disabled-bg-color: #3B4455;\n",
              "      --disabled-fill-color: #666;\n",
              "  }\n",
              "\n",
              "  .colab-df-quickchart {\n",
              "    background-color: var(--bg-color);\n",
              "    border: none;\n",
              "    border-radius: 50%;\n",
              "    cursor: pointer;\n",
              "    display: none;\n",
              "    fill: var(--fill-color);\n",
              "    height: 32px;\n",
              "    padding: 0;\n",
              "    width: 32px;\n",
              "  }\n",
              "\n",
              "  .colab-df-quickchart:hover {\n",
              "    background-color: var(--hover-bg-color);\n",
              "    box-shadow: 0 1px 2px rgba(60, 64, 67, 0.3), 0 1px 3px 1px rgba(60, 64, 67, 0.15);\n",
              "    fill: var(--button-hover-fill-color);\n",
              "  }\n",
              "\n",
              "  .colab-df-quickchart-complete:disabled,\n",
              "  .colab-df-quickchart-complete:disabled:hover {\n",
              "    background-color: var(--disabled-bg-color);\n",
              "    fill: var(--disabled-fill-color);\n",
              "    box-shadow: none;\n",
              "  }\n",
              "\n",
              "  .colab-df-spinner {\n",
              "    border: 2px solid var(--fill-color);\n",
              "    border-color: transparent;\n",
              "    border-bottom-color: var(--fill-color);\n",
              "    animation:\n",
              "      spin 1s steps(1) infinite;\n",
              "  }\n",
              "\n",
              "  @keyframes spin {\n",
              "    0% {\n",
              "      border-color: transparent;\n",
              "      border-bottom-color: var(--fill-color);\n",
              "      border-left-color: var(--fill-color);\n",
              "    }\n",
              "    20% {\n",
              "      border-color: transparent;\n",
              "      border-left-color: var(--fill-color);\n",
              "      border-top-color: var(--fill-color);\n",
              "    }\n",
              "    30% {\n",
              "      border-color: transparent;\n",
              "      border-left-color: var(--fill-color);\n",
              "      border-top-color: var(--fill-color);\n",
              "      border-right-color: var(--fill-color);\n",
              "    }\n",
              "    40% {\n",
              "      border-color: transparent;\n",
              "      border-right-color: var(--fill-color);\n",
              "      border-top-color: var(--fill-color);\n",
              "    }\n",
              "    60% {\n",
              "      border-color: transparent;\n",
              "      border-right-color: var(--fill-color);\n",
              "    }\n",
              "    80% {\n",
              "      border-color: transparent;\n",
              "      border-right-color: var(--fill-color);\n",
              "      border-bottom-color: var(--fill-color);\n",
              "    }\n",
              "    90% {\n",
              "      border-color: transparent;\n",
              "      border-bottom-color: var(--fill-color);\n",
              "    }\n",
              "  }\n",
              "</style>\n",
              "\n",
              "  <script>\n",
              "    async function quickchart(key) {\n",
              "      const quickchartButtonEl =\n",
              "        document.querySelector('#' + key + ' button');\n",
              "      quickchartButtonEl.disabled = true;  // To prevent multiple clicks.\n",
              "      quickchartButtonEl.classList.add('colab-df-spinner');\n",
              "      try {\n",
              "        const charts = await google.colab.kernel.invokeFunction(\n",
              "            'suggestCharts', [key], {});\n",
              "      } catch (error) {\n",
              "        console.error('Error during call to suggestCharts:', error);\n",
              "      }\n",
              "      quickchartButtonEl.classList.remove('colab-df-spinner');\n",
              "      quickchartButtonEl.classList.add('colab-df-quickchart-complete');\n",
              "    }\n",
              "    (() => {\n",
              "      let quickchartButtonEl =\n",
              "        document.querySelector('#df-1f775a0d-4782-42f4-be70-3c19db7ba6db button');\n",
              "      quickchartButtonEl.style.display =\n",
              "        google.colab.kernel.accessAllowed ? 'block' : 'none';\n",
              "    })();\n",
              "  </script>\n",
              "</div>\n",
              "\n",
              "    </div>\n",
              "  </div>\n"
            ],
            "application/vnd.google.colaboratory.intrinsic+json": {
              "type": "dataframe",
              "variable_name": "df",
              "summary": "{\n  \"name\": \"df\",\n  \"rows\": 1100,\n  \"fields\": [\n    {\n      \"column\": \"Name\",\n      \"properties\": {\n        \"dtype\": \"string\",\n        \"num_unique_values\": 991,\n        \"samples\": [\n          \"David Hawkins DVM\",\n          \"Ryan Mills\",\n          \"Timothy Ryan\"\n        ],\n        \"semantic_type\": \"\",\n        \"description\": \"\"\n      }\n    },\n    {\n      \"column\": \"Age\",\n      \"properties\": {\n        \"dtype\": \"number\",\n        \"std\": 15,\n        \"min\": 18,\n        \"max\": 70,\n        \"num_unique_values\": 53,\n        \"samples\": [\n          28,\n          56,\n          38\n        ],\n        \"semantic_type\": \"\",\n        \"description\": \"\"\n      }\n    },\n    {\n      \"column\": \"Email\",\n      \"properties\": {\n        \"dtype\": \"string\",\n        \"num_unique_values\": 949,\n        \"samples\": [\n          \"nicole52@example.org\",\n          \"vshelton@example.org\",\n          \"jjordan@example.net\"\n        ],\n        \"semantic_type\": \"\",\n        \"description\": \"\"\n      }\n    },\n    {\n      \"column\": \"Phone\",\n      \"properties\": {\n        \"dtype\": \"string\",\n        \"num_unique_values\": 1000,\n        \"samples\": [\n          \"(460)341-8095\",\n          \"001-626-465-2824x685\",\n          \"811.905.8330\"\n        ],\n        \"semantic_type\": \"\",\n        \"description\": \"\"\n      }\n    },\n    {\n      \"column\": \"Address\",\n      \"properties\": {\n        \"dtype\": \"string\",\n        \"num_unique_values\": 1000,\n        \"samples\": [\n          \"8517 Bryant Squares Apt. 274\\nGuzmanland, CT 71517\",\n          \"Unit 7240 Box 0020\\nDPO AP 51766\",\n          \"USCGC Montgomery\\nFPO AA 18786\"\n        ],\n        \"semantic_type\": \"\",\n        \"description\": \"\"\n      }\n    },\n    {\n      \"column\": \"Salary\",\n      \"properties\": {\n        \"dtype\": \"number\",\n        \"std\": 53030,\n        \"min\": 20242,\n        \"max\": 491642,\n        \"num_unique_values\": 998,\n        \"samples\": [\n          56493,\n          89648,\n          140299\n        ],\n        \"semantic_type\": \"\",\n        \"description\": \"\"\n      }\n    },\n    {\n      \"column\": \"Join_Date\",\n      \"properties\": {\n        \"dtype\": \"date\",\n        \"min\": \"2020-01-02\",\n        \"max\": \"2024-05-14\",\n        \"num_unique_values\": 753,\n        \"samples\": [\n          \"2020-09-24\",\n          \"2024-01-06\",\n          \"2022-08-07\"\n        ],\n        \"semantic_type\": \"\",\n        \"description\": \"\"\n      }\n    },\n    {\n      \"column\": \"Employment_Status\",\n      \"properties\": {\n        \"dtype\": \"category\",\n        \"num_unique_values\": 3,\n        \"samples\": [\n          \"Contract\",\n          \"Full-Time\",\n          \"Part-Time\"\n        ],\n        \"semantic_type\": \"\",\n        \"description\": \"\"\n      }\n    },\n    {\n      \"column\": \"Department\",\n      \"properties\": {\n        \"dtype\": \"category\",\n        \"num_unique_values\": 5,\n        \"samples\": [\n          \"Marketing\",\n          \"Engineering\",\n          \"HR\"\n        ],\n        \"semantic_type\": \"\",\n        \"description\": \"\"\n      }\n    }\n  ]\n}"
            }
          },
          "metadata": {},
          "execution_count": 28
        }
      ]
    },
    {
      "cell_type": "markdown",
      "source": [
        "## Step 2: Handling Duplicate Records"
      ],
      "metadata": {
        "id": "wpDnM-Y3usUc"
      }
    },
    {
      "cell_type": "code",
      "source": [
        "# Check for duplicate rows\n",
        "duplicates = df.duplicated().sum()\n",
        "print(\"Number of duplicate rows:\", duplicates)\n",
        "\n",
        "# Removing duplicate rows\n",
        "df.drop_duplicates(inplace=True)"
      ],
      "metadata": {
        "colab": {
          "base_uri": "https://localhost:8080/"
        },
        "id": "d1xeZG8Quzs7",
        "outputId": "befe5cb2-c6b9-4bbb-82d0-62027b5356af"
      },
      "execution_count": 18,
      "outputs": [
        {
          "output_type": "stream",
          "name": "stdout",
          "text": [
            "Number of duplicate rows: 100\n"
          ]
        }
      ]
    },
    {
      "cell_type": "markdown",
      "source": [
        "## Step 3: Handling Missing Data"
      ],
      "metadata": {
        "id": "0kTb_S06u2cv"
      }
    },
    {
      "cell_type": "code",
      "source": [
        "# Check for missing values\n",
        "missing_values = df.isna().sum()\n",
        "print(\"Missing Values:\")\n",
        "print(missing_values)"
      ],
      "metadata": {
        "colab": {
          "base_uri": "https://localhost:8080/"
        },
        "id": "vl4mC2BVu3C7",
        "outputId": "6665f67f-27bb-43f3-b6b8-9c1c261da02b"
      },
      "execution_count": 19,
      "outputs": [
        {
          "output_type": "stream",
          "name": "stdout",
          "text": [
            "Missing Values:\n",
            "Name                  0\n",
            "Age                   0\n",
            "Email                50\n",
            "Phone                 0\n",
            "Address               0\n",
            "Salary                0\n",
            "Join_Date             0\n",
            "Employment_Status     0\n",
            "Department            0\n",
            "dtype: int64\n"
          ]
        }
      ]
    },
    {
      "cell_type": "code",
      "source": [
        "# Handling missing values by filling with a placeholder\n",
        "df['Email'].fillna('unknown@example.com', inplace=True)"
      ],
      "metadata": {
        "id": "Qmu8F-f3u7zk"
      },
      "execution_count": 20,
      "outputs": []
    },
    {
      "cell_type": "markdown",
      "source": [
        "##  Step 4: Transforming Data"
      ],
      "metadata": {
        "id": "hkJ4rUYNvBOr"
      }
    },
    {
      "cell_type": "code",
      "source": [
        "# Convert 'Join_Date' to datetime\n",
        "df['Join_Date'] = pd.to_datetime(df['Join_Date'])\n",
        "print(\"Join_Date after conversion:\")\n",
        "print(df['Join_Date'].head())"
      ],
      "metadata": {
        "colab": {
          "base_uri": "https://localhost:8080/"
        },
        "id": "LWNRCukEvDYq",
        "outputId": "45c88f4f-0a36-4859-f051-425ae5812203"
      },
      "execution_count": 21,
      "outputs": [
        {
          "output_type": "stream",
          "name": "stdout",
          "text": [
            "Join_Date after conversion:\n",
            "0   2023-07-12\n",
            "1   2020-12-31\n",
            "2   2024-05-09\n",
            "3   2021-01-19\n",
            "4   2023-10-04\n",
            "Name: Join_Date, dtype: datetime64[ns]\n"
          ]
        }
      ]
    },
    {
      "cell_type": "code",
      "source": [
        "# Creating a new feature 'Years_Employed' based on 'Join_Date'\n",
        "df['Years_Employed'] = pd.Timestamp.now().year - df['Join_Date'].dt.year\n",
        "print(\"New feature 'Years_Employed':\")\n",
        "print(df[['Join_Date', 'Years_Employed']].head())"
      ],
      "metadata": {
        "colab": {
          "base_uri": "https://localhost:8080/"
        },
        "id": "yR8s1ZBCvGLi",
        "outputId": "6ea303ec-bd81-462c-a3f7-e75dad2eb6c9"
      },
      "execution_count": 22,
      "outputs": [
        {
          "output_type": "stream",
          "name": "stdout",
          "text": [
            "New feature 'Years_Employed':\n",
            "   Join_Date  Years_Employed\n",
            "0 2023-07-12               1\n",
            "1 2020-12-31               4\n",
            "2 2024-05-09               0\n",
            "3 2021-01-19               3\n",
            "4 2023-10-04               1\n"
          ]
        }
      ]
    },
    {
      "cell_type": "markdown",
      "source": [
        "## Step 5: Cleaning Text Data"
      ],
      "metadata": {
        "id": "tM0tA5DCvJIH"
      }
    },
    {
      "cell_type": "code",
      "source": [
        "# Clean address strings\n",
        "df['Address'] = df['Address'].str.replace('\\n', ' ', regex=False)\n",
        "print(\"Address after text cleaning:\")\n",
        "print(df['Address'].head())"
      ],
      "metadata": {
        "colab": {
          "base_uri": "https://localhost:8080/"
        },
        "id": "PUerPDsZvMnM",
        "outputId": "730bbe83-675f-406a-9d69-85c33e08f894"
      },
      "execution_count": 23,
      "outputs": [
        {
          "output_type": "stream",
          "name": "stdout",
          "text": [
            "Address after text cleaning:\n",
            "0    79402 Peterson Drives Apt. 511 Davisstad, PA 35172\n",
            "1     55341 Amanda Gardens Apt. 764 Lake Mark, WI 07832\n",
            "2                 710 Eric Estate Carlsonfurt, MS 78605\n",
            "3                 809 Burns Creek Natashaport, IA 08093\n",
            "4    8713 Caleb Brooks Apt. 930 Lake Crystalbury, CA...\n",
            "Name: Address, dtype: object\n"
          ]
        }
      ]
    },
    {
      "cell_type": "markdown",
      "source": [
        "## Step 6: Handling Outliers"
      ],
      "metadata": {
        "id": "AzhTxdlcvQJU"
      }
    },
    {
      "cell_type": "code",
      "source": [
        "# Detecting outliers using z-score\n",
        "z_scores = (df['Salary'] - df['Salary'].mean()) / df['Salary'].std()\n",
        "outliers = df[abs(z_scores) > 3]\n",
        "print(\"Outliers based on Salary:\")\n",
        "print(outliers[['Name', 'Salary']].head())"
      ],
      "metadata": {
        "colab": {
          "base_uri": "https://localhost:8080/"
        },
        "id": "jgq2b1WuvSii",
        "outputId": "fbda892a-aff5-4715-8a34-1671b1b65b81"
      },
      "execution_count": 24,
      "outputs": [
        {
          "output_type": "stream",
          "name": "stdout",
          "text": [
            "Outliers based on Salary:\n",
            "                Name  Salary\n",
            "16    Michael Powell  414854\n",
            "131    Holly Jimenez  258727\n",
            "240  Daniel Williams  371500\n",
            "328    Walter Bishop  332554\n",
            "352     Ashley Munoz  278539\n"
          ]
        }
      ]
    }
  ]
}
