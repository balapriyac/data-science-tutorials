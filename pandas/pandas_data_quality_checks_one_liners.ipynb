{
  "nbformat": 4,
  "nbformat_minor": 0,
  "metadata": {
    "colab": {
      "provenance": []
    },
    "kernelspec": {
      "name": "python3",
      "display_name": "Python 3"
    },
    "language_info": {
      "name": "python"
    }
  },
  "cells": [
    {
      "cell_type": "code",
      "execution_count": null,
      "metadata": {
        "colab": {
          "base_uri": "https://localhost:8080/"
        },
        "id": "BqAJoDh7f_jn",
        "outputId": "5631b53b-a7bb-48b4-e6d4-62138ff69cb9"
      },
      "outputs": [
        {
          "output_type": "stream",
          "name": "stdout",
          "text": [
            "   TransactionID CustomerName Product  Price  Quantity TransactionDate\n",
            "0            101    Jane Rust  Laptop   1200       1.0      2024-12-01\n",
            "1            102   june young   Phone    800       2.0      2024/12/01\n",
            "2            103    Jane Rust  Laptop   1200       NaN      01-12-2024\n",
            "3            104         None  Tablet   -300       1.0            None\n",
            "4            105   JUNE YOUNG   Phone    850       1.0      2024-12-01\n"
          ]
        }
      ],
      "source": [
        "import pandas as pd\n",
        "import numpy as np\n",
        "\n",
        "# Sample e-commerce transaction data\n",
        "data = {\n",
        "    \"TransactionID\": [101, 102, 103, 104, 105],\n",
        "    \"CustomerName\": [\"Jane Rust\", \"june young\", \"Jane Rust\", None, \"JUNE YOUNG\"],\n",
        "    \"Product\": [\"Laptop\", \"Phone\", \"Laptop\", \"Tablet\", \"Phone\"],\n",
        "    \"Price\": [1200, 800, 1200, -300, 850],  # Negative value indicates an issue\n",
        "    \"Quantity\": [1, 2, None, 1,1],  # Missing value\n",
        "    \"TransactionDate\": [\"2024-12-01\", \"2024/12/01\", \"01-12-2024\", None, \"2024-12-01\"],\n",
        "}\n",
        "\n",
        "df = pd.DataFrame(data)\n",
        "\n",
        "# Display the DataFrame\n",
        "print(df)\n"
      ]
    },
    {
      "cell_type": "code",
      "source": [
        "df.info()"
      ],
      "metadata": {
        "colab": {
          "base_uri": "https://localhost:8080/"
        },
        "id": "HFs0bFP75P-S",
        "outputId": "f3d17322-2d06-4cbd-c125-2a340af1d51c"
      },
      "execution_count": null,
      "outputs": [
        {
          "output_type": "stream",
          "name": "stdout",
          "text": [
            "<class 'pandas.core.frame.DataFrame'>\n",
            "RangeIndex: 5 entries, 0 to 4\n",
            "Data columns (total 6 columns):\n",
            " #   Column           Non-Null Count  Dtype  \n",
            "---  ------           --------------  -----  \n",
            " 0   TransactionID    5 non-null      int64  \n",
            " 1   CustomerName     4 non-null      object \n",
            " 2   Product          5 non-null      object \n",
            " 3   Price            5 non-null      int64  \n",
            " 4   Quantity         4 non-null      float64\n",
            " 5   TransactionDate  4 non-null      object \n",
            "dtypes: float64(1), int64(2), object(3)\n",
            "memory usage: 368.0+ bytes\n"
          ]
        }
      ]
    },
    {
      "cell_type": "code",
      "source": [
        "missing_values = df.isnull().sum()\n",
        "print(\"Missing Values:\\n\", missing_values)\n"
      ],
      "metadata": {
        "colab": {
          "base_uri": "https://localhost:8080/"
        },
        "id": "gCthsJ2kgaa4",
        "outputId": "12e5ad1d-e9f0-41e4-a421-0caced3a384d"
      },
      "execution_count": null,
      "outputs": [
        {
          "output_type": "stream",
          "name": "stdout",
          "text": [
            "Missing Values:\n",
            " TransactionID      0\n",
            "CustomerName       1\n",
            "Product            0\n",
            "Price              0\n",
            "Quantity           1\n",
            "TransactionDate    1\n",
            "dtype: int64\n"
          ]
        }
      ]
    },
    {
      "cell_type": "code",
      "source": [
        "print(\"Data Types:\\n\", df.dtypes)"
      ],
      "metadata": {
        "colab": {
          "base_uri": "https://localhost:8080/"
        },
        "id": "WQthCnS0gcBi",
        "outputId": "d3f21204-399c-4fe3-9478-2450c2ee098e"
      },
      "execution_count": null,
      "outputs": [
        {
          "output_type": "stream",
          "name": "stdout",
          "text": [
            "Data Types:\n",
            " TransactionID        int64\n",
            "CustomerName        object\n",
            "Product             object\n",
            "Price                int64\n",
            "Quantity           float64\n",
            "TransactionDate     object\n",
            "dtype: object\n"
          ]
        }
      ]
    },
    {
      "cell_type": "code",
      "source": [
        "df[\"TransactionDate\"] = pd.to_datetime(df[\"TransactionDate\"], errors=\"coerce\")\n",
        "print(df[\"TransactionDate\"])\n"
      ],
      "metadata": {
        "colab": {
          "base_uri": "https://localhost:8080/"
        },
        "id": "Jy-p-Qy3gdx6",
        "outputId": "9b96fc62-b902-4026-94f2-255f7dee4674"
      },
      "execution_count": null,
      "outputs": [
        {
          "output_type": "stream",
          "name": "stdout",
          "text": [
            "0   2024-12-01\n",
            "1          NaT\n",
            "2          NaT\n",
            "3          NaT\n",
            "4   2024-12-01\n",
            "Name: TransactionDate, dtype: datetime64[ns]\n"
          ]
        }
      ]
    },
    {
      "cell_type": "code",
      "source": [
        "outliers = df[df[\"Price\"] < 0]\n",
        "print(\"Outliers:\\n\", outliers)\n"
      ],
      "metadata": {
        "colab": {
          "base_uri": "https://localhost:8080/"
        },
        "id": "i7smYGpvgfh4",
        "outputId": "277ad03b-1186-4380-dd51-6b6e534f0b82"
      },
      "execution_count": null,
      "outputs": [
        {
          "output_type": "stream",
          "name": "stdout",
          "text": [
            "Outliers:\n",
            "    TransactionID CustomerName Product  Price  Quantity TransactionDate\n",
            "3            104         None  Tablet   -300       1.0             NaT\n"
          ]
        }
      ]
    },
    {
      "cell_type": "code",
      "source": [
        "duplicates = df.duplicated(subset=[\"CustomerName\", \"Product\"], keep=False)\n",
        "print(\"Duplicate Records:\\n\", df[duplicates])\n"
      ],
      "metadata": {
        "colab": {
          "base_uri": "https://localhost:8080/"
        },
        "id": "dIp2HOilghYL",
        "outputId": "7b5a5b29-c2d5-47d4-fe81-78cc3d3655c9"
      },
      "execution_count": null,
      "outputs": [
        {
          "output_type": "stream",
          "name": "stdout",
          "text": [
            "Duplicate Records:\n",
            "    TransactionID CustomerName Product  Price  Quantity TransactionDate\n",
            "0            101    Jane Rust  Laptop   1200       1.0      2024-12-01\n",
            "2            103    Jane Rust  Laptop   1200       NaN             NaT\n"
          ]
        }
      ]
    },
    {
      "cell_type": "code",
      "source": [
        "df[\"CustomerName\"] = df[\"CustomerName\"].str.strip().str.title()\n",
        "print(df[\"CustomerName\"])\n"
      ],
      "metadata": {
        "colab": {
          "base_uri": "https://localhost:8080/"
        },
        "id": "mWIW43kvgjIX",
        "outputId": "c53f8270-9b4a-4214-9be7-1b5a73cbc3bb"
      },
      "execution_count": null,
      "outputs": [
        {
          "output_type": "stream",
          "name": "stdout",
          "text": [
            "0     Jane Rust\n",
            "1    June Young\n",
            "2     Jane Rust\n",
            "3          None\n",
            "4    June Young\n",
            "Name: CustomerName, dtype: object\n"
          ]
        }
      ]
    },
    {
      "cell_type": "code",
      "source": [
        "invalid_prices = df[~df[\"Price\"].between(0, 5000)]\n",
        "print(\"Invalid Prices:\\n\", invalid_prices)\n"
      ],
      "metadata": {
        "colab": {
          "base_uri": "https://localhost:8080/"
        },
        "id": "C7ciFe6-gkxx",
        "outputId": "b2a73dff-c3d9-4a7a-f619-2c011e840aa3"
      },
      "execution_count": null,
      "outputs": [
        {
          "output_type": "stream",
          "name": "stdout",
          "text": [
            "Invalid Prices:\n",
            "    TransactionID CustomerName Product  Price  Quantity TransactionDate\n",
            "3            104         None  Tablet   -300       1.0             NaT\n"
          ]
        }
      ]
    },
    {
      "cell_type": "code",
      "source": [
        "unique_products = df[\"Product\"].value_counts()\n",
        "print(\"Unique Products:\\n\", unique_products)\n"
      ],
      "metadata": {
        "colab": {
          "base_uri": "https://localhost:8080/"
        },
        "id": "U9_V1fJ_gmS-",
        "outputId": "c1842f2f-ebeb-4a17-a1a9-c0887336c207"
      },
      "execution_count": null,
      "outputs": [
        {
          "output_type": "stream",
          "name": "stdout",
          "text": [
            "Unique Products:\n",
            " Product\n",
            "Laptop    2\n",
            "Phone     2\n",
            "Tablet    1\n",
            "Name: count, dtype: int64\n"
          ]
        }
      ]
    },
    {
      "cell_type": "code",
      "source": [
        "inconsistent_names = df[\"CustomerName\"].str.contains(r\"[A-Z]{2,}\", na=False)\n",
        "print(\"Inconsistent Formatting in Names:\\n\", df[inconsistent_names])\n"
      ],
      "metadata": {
        "colab": {
          "base_uri": "https://localhost:8080/"
        },
        "id": "2tWS4iMmgn6B",
        "outputId": "334ae93d-6628-4237-adf7-d54e1023a577"
      },
      "execution_count": null,
      "outputs": [
        {
          "output_type": "stream",
          "name": "stdout",
          "text": [
            "Inconsistent Formatting in Names:\n",
            " Empty DataFrame\n",
            "Columns: [TransactionID, CustomerName, Product, Price, Quantity, TransactionDate]\n",
            "Index: []\n"
          ]
        }
      ]
    },
    {
      "cell_type": "code",
      "source": [
        "issues = df.isnull().sum(axis=1) + (df[\"Price\"] < 0) + (~df[\"TransactionDate\"].notnull())\n",
        "problematic_rows = df[issues > 1]\n",
        "print(\"Rows with Multiple Issues:\\n\", problematic_rows)\n"
      ],
      "metadata": {
        "colab": {
          "base_uri": "https://localhost:8080/"
        },
        "id": "ZJEQ8_5Ugp7x",
        "outputId": "630c82dd-82b3-4bb5-a0a3-9b883d0985a7"
      },
      "execution_count": null,
      "outputs": [
        {
          "output_type": "stream",
          "name": "stdout",
          "text": [
            "Rows with Multiple Issues:\n",
            "    TransactionID CustomerName Product  Price  Quantity TransactionDate\n",
            "1            102   June Young   Phone    800       2.0             NaT\n",
            "2            103    Jane Rust  Laptop   1200       NaN             NaT\n",
            "3            104         None  Tablet   -300       1.0             NaT\n"
          ]
        }
      ]
    }
  ]
}