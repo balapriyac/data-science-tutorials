{
  "nbformat": 4,
  "nbformat_minor": 0,
  "metadata": {
    "colab": {
      "provenance": []
    },
    "kernelspec": {
      "name": "python3",
      "display_name": "Python 3"
    },
    "language_info": {
      "name": "python"
    }
  },
  "cells": [
    {
      "cell_type": "markdown",
      "source": [
        "## Imports"
      ],
      "metadata": {
        "id": "iQ19M12YbZyb"
      }
    },
    {
      "cell_type": "code",
      "source": [
        "import pandas as pd\n",
        "import numpy as np"
      ],
      "metadata": {
        "id": "xK802Ap0S-zj"
      },
      "execution_count": 2,
      "outputs": []
    },
    {
      "cell_type": "markdown",
      "source": [
        "## DataFrame Merge Key Mismatches"
      ],
      "metadata": {
        "id": "JFMxBg9Sa1h7"
      }
    },
    {
      "cell_type": "code",
      "execution_count": 3,
      "metadata": {
        "colab": {
          "base_uri": "https://localhost:8080/"
        },
        "id": "QkgwKOvRP8fI",
        "outputId": "eab79b13-a3e2-46de-afac-c793a8723b69"
      },
      "outputs": [
        {
          "output_type": "stream",
          "name": "stdout",
          "text": [
            "KeyError: 'customer_id'\n"
          ]
        }
      ],
      "source": [
        "# Create sample dataframes\n",
        "sales_df = pd.DataFrame({\n",
        "    'customer_id': [101, 102, 103, 104],\n",
        "    'sale_amount': [1500, 2300, 1800, 3200]\n",
        "})\n",
        "\n",
        "customer_df = pd.DataFrame({\n",
        "    'CustomerID': [101, 102, 103, 105],  # Note the different column name and slightly different data\n",
        "    'customer_name': ['Alice', 'Bob', 'Charlie', 'Eve']\n",
        "})\n",
        "\n",
        "# merged_df = sales_df.merge(customer_df, left_on='customer_id', right_on='customer_id')\n",
        "try:\n",
        "    # This will raise an error\n",
        "    merged_df = sales_df.merge(customer_df, left_on='customer_id', right_on='customer_id')\n",
        "except KeyError as e:\n",
        "    print(\"KeyError:\", e)\n"
      ]
    },
    {
      "cell_type": "code",
      "source": [
        "# Correct solution\n",
        "merged_df = sales_df.merge(customer_df, left_on='customer_id', right_on='CustomerID')\n",
        "print(merged_df)"
      ],
      "metadata": {
        "colab": {
          "base_uri": "https://localhost:8080/"
        },
        "id": "G36LCxC_TCfQ",
        "outputId": "94b58945-4268-42a8-f89f-cf04a6ca397d"
      },
      "execution_count": 4,
      "outputs": [
        {
          "output_type": "stream",
          "name": "stdout",
          "text": [
            "   customer_id  sale_amount  CustomerID customer_name\n",
            "0          101         1500         101         Alice\n",
            "1          102         2300         102           Bob\n",
            "2          103         1800         103       Charlie\n"
          ]
        }
      ]
    },
    {
      "cell_type": "markdown",
      "source": [
        "## Mixed Data Types in Operations"
      ],
      "metadata": {
        "id": "ZTHFjwq6a7fX"
      }
    },
    {
      "cell_type": "code",
      "source": [
        "# Create sample dataframe with mixed types\n",
        "mixed_df = pd.DataFrame({\n",
        "    'value': ['100', '200', 'NA', '400', '500']\n",
        "})\n",
        "\n",
        "try:\n",
        "    # This will raise an error\n",
        "    result = mixed_df['value'].mean()\n",
        "except TypeError as e:\n",
        "    print(\"TypeError:\", e)"
      ],
      "metadata": {
        "colab": {
          "base_uri": "https://localhost:8080/"
        },
        "id": "FIIy5XruTFas",
        "outputId": "f2264aef-2f43-408d-97d5-ef2f88ab3eb0"
      },
      "execution_count": 5,
      "outputs": [
        {
          "output_type": "stream",
          "name": "stdout",
          "text": [
            "TypeError: Could not convert string '100200NA400500' to numeric\n"
          ]
        }
      ]
    },
    {
      "cell_type": "code",
      "source": [
        "# Correct solution\n",
        "mixed_df['value'] = pd.to_numeric(mixed_df['value'], errors='coerce')\n",
        "result = mixed_df['value'].mean()\n",
        "result"
      ],
      "metadata": {
        "colab": {
          "base_uri": "https://localhost:8080/"
        },
        "id": "TPRwafI9TJ2I",
        "outputId": "806a5ce7-3df0-40db-b865-7727493013d5"
      },
      "execution_count": 6,
      "outputs": [
        {
          "output_type": "stream",
          "name": "stdout",
          "text": [
            "300.0\n"
          ]
        }
      ]
    },
    {
      "cell_type": "markdown",
      "source": [
        "## The SettingWithCopyWarning"
      ],
      "metadata": {
        "id": "PzP4xXO6bAek"
      }
    },
    {
      "cell_type": "code",
      "source": [
        "# Create sample dataframe\n",
        "data = pd.DataFrame({\n",
        "    'category': ['A', 'A', 'B', 'B', 'C'],\n",
        "    'value': [1, 2, 3, 4, 5]\n",
        "})\n",
        "\n",
        "# This will trigger a warning\n",
        "subset_data = data[data['category'] == 'A']\n",
        "subset_data['value'] = subset_data['value'] * 2\n"
      ],
      "metadata": {
        "colab": {
          "base_uri": "https://localhost:8080/"
        },
        "id": "FjME1ARzT6Lv",
        "outputId": "20470eaf-cd12-4d3e-fd77-5051067319c9"
      },
      "execution_count": 8,
      "outputs": [
        {
          "output_type": "stream",
          "name": "stderr",
          "text": [
            "<ipython-input-8-c9c7f18deb8f>:9: SettingWithCopyWarning: \n",
            "A value is trying to be set on a copy of a slice from a DataFrame.\n",
            "Try using .loc[row_indexer,col_indexer] = value instead\n",
            "\n",
            "See the caveats in the documentation: https://pandas.pydata.org/pandas-docs/stable/user_guide/indexing.html#returning-a-view-versus-a-copy\n",
            "  subset_data['value'] = subset_data['value'] * 2\n"
          ]
        }
      ]
    },
    {
      "cell_type": "code",
      "source": [
        "# Correct solution\n",
        "subset_data = data[data['category'] == 'A'].copy()\n",
        "subset_data['value'] = subset_data['value'] * 2"
      ],
      "metadata": {
        "id": "eknmCXacUa_z"
      },
      "execution_count": 9,
      "outputs": []
    },
    {
      "cell_type": "markdown",
      "source": [
        "## NaN Propagation in Calculations"
      ],
      "metadata": {
        "id": "OIVKGtKHbFI4"
      }
    },
    {
      "cell_type": "code",
      "source": [
        "# Create sample dataframe with NaN values\n",
        "finance_df = pd.DataFrame({\n",
        "    'revenue': [1000, 2000, np.nan, 4000],\n",
        "    'costs': [500, np.nan, 1500, 2000]\n",
        "})\n",
        "\n",
        "# This will give unexpected results\n",
        "profit = finance_df['revenue'] - finance_df['costs']\n",
        "print(profit)"
      ],
      "metadata": {
        "colab": {
          "base_uri": "https://localhost:8080/"
        },
        "id": "3mRA0A5BCwzd",
        "outputId": "c859c4a0-b106-455a-df8a-19f681c69d6f"
      },
      "execution_count": 15,
      "outputs": [
        {
          "output_type": "stream",
          "name": "stdout",
          "text": [
            "0     500.0\n",
            "1       NaN\n",
            "2       NaN\n",
            "3    2000.0\n",
            "dtype: float64\n"
          ]
        }
      ]
    },
    {
      "cell_type": "code",
      "source": [
        "profit = finance_df['revenue'].fillna(0) - finance_df['costs'].fillna(0)\n",
        "print(profit)"
      ],
      "metadata": {
        "colab": {
          "base_uri": "https://localhost:8080/"
        },
        "id": "1RtMWq7fEQHy",
        "outputId": "ed76a0b2-f224-42e4-ecd7-c9e4517ba356"
      },
      "execution_count": 16,
      "outputs": [
        {
          "output_type": "stream",
          "name": "stdout",
          "text": [
            "0     500.0\n",
            "1    2000.0\n",
            "2   -1500.0\n",
            "3    2000.0\n",
            "dtype: float64\n"
          ]
        }
      ]
    },
    {
      "cell_type": "markdown",
      "source": [
        "## Index Alignment Issues"
      ],
      "metadata": {
        "id": "bgh2sZgBbPpz"
      }
    },
    {
      "cell_type": "code",
      "source": [
        "# Create sample dataframes with different indices\n",
        "df_1 = pd.DataFrame({'value': [1, 2, 3]}, index=['A', 'B', 'C'])\n",
        "df_2 = pd.DataFrame({'value': [4, 5, 6]}, index=['B', 'C', 'D'])\n",
        "\n",
        "try:\n",
        "    # This might give unexpected results\n",
        "    result = df_1['value'] + df_2['value']\n",
        "except Exception as e:\n",
        "    print(\"Exception:\", e)\n",
        "\n",
        "print(result)"
      ],
      "metadata": {
        "colab": {
          "base_uri": "https://localhost:8080/"
        },
        "id": "5WEXateJErUp",
        "outputId": "4e4e192f-bca7-47e3-f452-de3d32f8d28f"
      },
      "execution_count": 24,
      "outputs": [
        {
          "output_type": "stream",
          "name": "stdout",
          "text": [
            "A    NaN\n",
            "B    6.0\n",
            "C    8.0\n",
            "D    NaN\n",
            "Name: value, dtype: float64\n"
          ]
        }
      ]
    },
    {
      "cell_type": "code",
      "source": [
        "result = df_1['value'].add(df_2['value'], fill_value=0)\n",
        "print(result)"
      ],
      "metadata": {
        "colab": {
          "base_uri": "https://localhost:8080/"
        },
        "id": "bm5_CbaXE-iV",
        "outputId": "c977b1d6-2b2d-4a35-e32a-f6ed633d3167"
      },
      "execution_count": 25,
      "outputs": [
        {
          "output_type": "stream",
          "name": "stdout",
          "text": [
            "A    1.0\n",
            "B    6.0\n",
            "C    8.0\n",
            "D    6.0\n",
            "Name: value, dtype: float64\n"
          ]
        }
      ]
    },
    {
      "cell_type": "markdown",
      "source": [
        "## Memory Issues with Large DataFrames"
      ],
      "metadata": {
        "id": "mOIXbJHSbVyh"
      }
    },
    {
      "cell_type": "code",
      "source": [
        "def simulate_memory_issue():\n",
        "    # Create a large dataframe (this is a small example)\n",
        "    big_df = pd.DataFrame(np.random.randn(1000000, 10))\n",
        "\n",
        "    # Inefficient way (creates multiple copies)\n",
        "    processed_df = big_df\n",
        "    for col in big_df.columns:\n",
        "        processed_df = processed_df[processed_df[col] > 0]\n",
        "\n",
        "    return processed_df\n",
        "\n",
        "proc_df = simulate_memory_issue()"
      ],
      "metadata": {
        "id": "H2PlISoBFOBu"
      },
      "execution_count": 23,
      "outputs": []
    },
    {
      "cell_type": "code",
      "source": [
        "def a_better_processing_func():\n",
        "    # Create a large dataframe (this is a small example)\n",
        "    big_df = pd.DataFrame(np.random.randn(1000000, 10))\n",
        "\n",
        "    # Efficient solution (chain operations)\n",
        "    mask = (big_df > 0).all(axis=1)\n",
        "    processed_df = big_df[mask]\n",
        "\n",
        "    return processed_df"
      ],
      "metadata": {
        "id": "SSbPWzRpF9fK"
      },
      "execution_count": null,
      "outputs": []
    }
  ]
}