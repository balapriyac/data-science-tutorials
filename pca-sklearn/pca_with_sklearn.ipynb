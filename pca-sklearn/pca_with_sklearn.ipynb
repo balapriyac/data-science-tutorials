{
  "nbformat": 4,
  "nbformat_minor": 0,
  "metadata": {
    "colab": {
      "provenance": []
    },
    "kernelspec": {
      "name": "python3",
      "display_name": "Python 3"
    },
    "language_info": {
      "name": "python"
    }
  },
  "cells": [
    {
      "cell_type": "code",
      "execution_count": 2,
      "metadata": {
        "id": "qw2f5FHibMmp"
      },
      "outputs": [],
      "source": [
        "from sklearn import datasets\n",
        "wine_data = datasets.load_wine(as_frame=True)\n",
        "df = wine_data.data"
      ]
    },
    {
      "cell_type": "code",
      "source": [
        "print(df.shape)"
      ],
      "metadata": {
        "colab": {
          "base_uri": "https://localhost:8080/"
        },
        "id": "hvCxMnITbSXt",
        "outputId": "4121f6ae-32b4-4b97-e6f1-45158b5db732"
      },
      "execution_count": 3,
      "outputs": [
        {
          "output_type": "stream",
          "name": "stdout",
          "text": [
            "(178, 13)\n"
          ]
        }
      ]
    },
    {
      "cell_type": "code",
      "source": [
        "from sklearn.preprocessing import StandardScaler\n",
        "std_scaler = StandardScaler()\n",
        "scaled_df = std_scaler.fit_transform(df)"
      ],
      "metadata": {
        "id": "U2_COGbWbYIv"
      },
      "execution_count": 4,
      "outputs": []
    },
    {
      "cell_type": "code",
      "source": [
        "from sklearn.decomposition import PCA\n",
        "pca = PCA(n_components=3)\n",
        "pca.fit_transform(scaled_df)"
      ],
      "metadata": {
        "colab": {
          "base_uri": "https://localhost:8080/"
        },
        "id": "putbbd5mba7K",
        "outputId": "368a4d19-8740-4d17-e6af-34f52a7bfd6d"
      },
      "execution_count": 5,
      "outputs": [
        {
          "output_type": "execute_result",
          "data": {
            "text/plain": [
              "array([[ 3.31675081e+00,  1.44346263e+00, -1.65739045e-01],\n",
              "       [ 2.20946492e+00, -3.33392887e-01, -2.02645737e+00],\n",
              "       [ 2.51674015e+00,  1.03115130e+00,  9.82818670e-01],\n",
              "       [ 3.75706561e+00,  2.75637191e+00, -1.76191842e-01],\n",
              "       [ 1.00890849e+00,  8.69830821e-01,  2.02668822e+00],\n",
              "       [ 3.05025392e+00,  2.12240111e+00, -6.29395827e-01],\n",
              "       [ 2.44908967e+00,  1.17485013e+00, -9.77094891e-01],\n",
              "       [ 2.05943687e+00,  1.60896307e+00,  1.46281883e-01],\n",
              "       [ 2.51087430e+00,  9.18070957e-01, -1.77096903e+00],\n",
              "       [ 2.75362819e+00,  7.89437674e-01, -9.84247490e-01],\n",
              "       [ 3.47973668e+00,  1.30233324e+00, -4.22735217e-01],\n",
              "       [ 1.75475290e+00,  6.11977229e-01, -1.19087832e+00],\n",
              "       [ 2.11346234e+00,  6.75706339e-01, -8.65086426e-01],\n",
              "       [ 3.45815682e+00,  1.13062988e+00, -1.20427635e+00],\n",
              "       [ 4.31278391e+00,  2.09597558e+00, -1.26391275e+00],\n",
              "       [ 2.30518820e+00,  1.66255173e+00,  2.17902616e-01],\n",
              "       [ 2.17195527e+00,  2.32730534e+00,  8.31729866e-01],\n",
              "       [ 1.89897118e+00,  1.63136888e+00,  7.94913792e-01],\n",
              "       [ 3.54198508e+00,  2.51834367e+00, -4.85458508e-01],\n",
              "       [ 2.08452220e+00,  1.06113799e+00, -1.64746678e-01],\n",
              "       [ 3.12440254e+00,  7.86897106e-01, -3.64887083e-01],\n",
              "       [ 1.08657007e+00,  2.41743551e-01,  9.36961600e-01],\n",
              "       [ 2.53522408e+00, -9.18406207e-02, -3.11932659e-01],\n",
              "       [ 1.64498834e+00, -5.16278930e-01,  1.43885095e-01],\n",
              "       [ 1.76157587e+00, -3.17148933e-01,  8.90285647e-01],\n",
              "       [ 9.90079102e-01,  9.40667338e-01,  3.82090801e+00],\n",
              "       [ 1.77527763e+00,  6.86175134e-01, -8.67004065e-02],\n",
              "       [ 1.23542396e+00, -8.98070414e-02, -1.38689654e+00],\n",
              "       [ 2.18840633e+00,  6.89569621e-01,  1.39456688e+00],\n",
              "       [ 2.25610898e+00,  1.91461937e-01, -1.09265726e+00],\n",
              "       [ 2.50022003e+00,  1.24083383e+00,  1.38601785e+00],\n",
              "       [ 2.67741105e+00,  1.47187365e+00, -3.32261728e-01],\n",
              "       [ 1.62857912e+00,  5.27044506e-02, -1.67128706e-01],\n",
              "       [ 1.90269086e+00,  1.63306043e+00,  1.17208212e+00],\n",
              "       [ 1.41038853e+00,  6.97934325e-01,  4.79743025e-01],\n",
              "       [ 1.90382623e+00,  1.76710951e-01,  4.50835040e-01],\n",
              "       [ 1.38486223e+00,  6.58639854e-01,  4.58438581e-01],\n",
              "       [ 1.12220741e+00,  1.14109760e-01, -3.91072767e-02],\n",
              "       [ 1.50219450e+00, -7.69432006e-01, -1.42617735e+00],\n",
              "       [ 2.52980109e+00,  1.80300198e+00, -3.43152389e-01],\n",
              "       [ 2.58809543e+00,  7.79616304e-01, -1.18477466e-01],\n",
              "       [ 6.68481994e-01,  1.69960941e-01, -7.83362548e-01],\n",
              "       [ 3.07080699e+00,  1.15591896e+00, -3.12758084e-01],\n",
              "       [ 4.62209138e-01,  3.30742132e-01, -2.01476496e-01],\n",
              "       [ 2.10135193e+00, -7.10089210e-02, -6.55849415e-01],\n",
              "       [ 1.13616618e+00,  1.77710739e+00,  2.87057358e-02],\n",
              "       [ 2.72660096e+00,  1.19133469e+00, -5.39773261e-01],\n",
              "       [ 2.82133927e+00,  6.46258599e-01, -1.15555241e+00],\n",
              "       [ 2.00985085e+00,  1.24702946e+00, -5.72939879e-02],\n",
              "       [ 2.70749130e+00,  1.75196741e+00, -6.43113612e-01],\n",
              "       [ 3.21491747e+00,  1.66991995e-01, -1.97357168e+00],\n",
              "       [ 2.85895983e+00,  7.45278804e-01,  4.71950216e-03],\n",
              "       [ 3.50560436e+00,  1.61273386e+00, -5.20774530e-01],\n",
              "       [ 2.22479138e+00,  1.87516800e+00,  3.39549850e-01],\n",
              "       [ 2.14698782e+00,  1.01675154e+00, -9.57762762e-01],\n",
              "       [ 2.46932948e+00,  1.32900831e+00,  5.13437453e-01],\n",
              "       [ 2.74151791e+00,  1.43654878e+00, -6.12473396e-01],\n",
              "       [ 2.17374092e+00,  1.21219984e+00,  2.61779593e-01],\n",
              "       [ 3.13938015e+00,  1.73157912e+00, -2.85661413e-01],\n",
              "       [-9.28581969e-01, -3.07348616e+00, -4.58506401e+00],\n",
              "       [-1.54248014e+00, -1.38144351e+00, -8.74683112e-01],\n",
              "       [-1.83624976e+00, -8.29984123e-01, -1.60570219e+00],\n",
              "       [ 3.06068341e-02, -1.26278614e+00, -1.78440801e+00],\n",
              "       [ 2.05026161e+00, -1.92503260e+00, -7.36877735e-03],\n",
              "       [-6.09680827e-01, -1.90805881e+00,  6.79357938e-01],\n",
              "       [ 9.00227839e-01, -7.63911474e-01,  5.73361302e-01],\n",
              "       [ 2.24850719e+00, -1.88459248e+00, -2.03184019e+00],\n",
              "       [ 1.83384027e-01, -2.42714611e+00, -1.06974556e+00],\n",
              "       [-8.12805027e-01, -2.20513987e-01, -7.07005396e-01],\n",
              "       [ 1.97562050e+00, -1.40328323e+00, -1.23827622e+00],\n",
              "       [-1.57221622e+00, -8.84983137e-01, -6.28997950e-01],\n",
              "       [ 1.65768181e+00, -9.56712197e-01,  1.95258422e+00],\n",
              "       [-7.25372388e-01, -1.06364540e+00,  8.03322286e-02],\n",
              "       [ 2.56222717e+00,  2.60198551e-01,  3.37439396e+00],\n",
              "       [ 1.83256757e+00, -1.28787820e+00,  4.58280027e-01],\n",
              "       [-8.67992903e-01, -2.44410119e+00, -1.56333318e+00],\n",
              "       [ 3.70014404e-01, -2.15390698e+00, -2.44938635e+00],\n",
              "       [-1.45737704e+00, -1.38335177e+00, -2.27306902e-01],\n",
              "       [ 1.26293085e+00, -7.70849530e-01, -1.18422452e+00],\n",
              "       [ 3.76150372e-01, -1.02704340e+00,  1.79446629e+00],\n",
              "       [ 7.62063904e-01, -3.37505381e+00, -3.57470056e-01],\n",
              "       [ 1.03457797e+00, -1.45070974e+00, -3.63011773e-01],\n",
              "       [-4.94876756e-01, -2.38124353e+00,  1.33574318e+00],\n",
              "       [-2.53897708e+00, -8.74433573e-02,  4.74251393e-01],\n",
              "       [ 8.35320145e-01, -1.47367055e+00,  6.10093576e-01],\n",
              "       [ 7.87904615e-01, -2.02662652e+00, -2.54723404e-01],\n",
              "       [-8.06832156e-01, -2.23383039e+00,  7.72855797e-01],\n",
              "       [-5.58042625e-01, -2.37298543e+00,  2.30761140e+00],\n",
              "       [-1.11511104e+00, -1.80224719e+00,  9.59253308e-01],\n",
              "       [-5.55722830e-01, -2.65754004e+00,  8.49126898e-01],\n",
              "       [-1.34928528e+00, -2.11800147e+00, -4.76523208e-02],\n",
              "       [-1.56448261e+00, -1.85221452e+00,  7.81067031e-01],\n",
              "       [-1.93255561e+00, -1.55949546e+00, -8.92746761e-02],\n",
              "       [ 7.46665942e-01, -2.31293171e+00,  1.14679769e-01],\n",
              "       [ 9.57455364e-01, -2.22352843e+00,  1.42444774e-01],\n",
              "       [ 2.54386518e+00,  1.69274023e-01,  7.88696991e-01],\n",
              "       [-5.43952589e-01, -3.68926546e-01,  1.30889593e+00],\n",
              "       [ 1.03104975e+00, -2.56556935e+00, -1.08639017e+00],\n",
              "       [ 2.25190942e+00, -1.43274138e+00, -2.30208244e-01],\n",
              "       [ 1.41021602e+00, -2.16619177e+00,  7.48896411e-01],\n",
              "       [ 7.97719793e-01, -2.37694880e+00, -1.56811253e+00],\n",
              "       [-5.49531727e-01, -2.29312864e+00, -1.49893532e+00],\n",
              "       [-1.61173740e-01, -1.16448332e+00,  1.00371310e+00],\n",
              "       [-6.59794942e-01, -2.67996119e+00, -7.64920868e-01],\n",
              "       [ 3.92354408e-01, -2.09873171e+00, -4.71850008e-01],\n",
              "       [-1.77249908e+00, -1.71728847e+00,  9.47033174e-01],\n",
              "       [-3.66267357e-01, -2.16935330e+00, -4.81324235e-01],\n",
              "       [-1.62067257e+00, -1.35558339e+00,  2.87159001e-01],\n",
              "       [ 8.25357835e-02, -2.30623459e+00, -4.63574989e-01],\n",
              "       [ 1.57827507e+00, -1.46203429e+00,  1.77964595e+00],\n",
              "       [ 1.42056925e+00, -1.41820664e+00,  1.39275829e-01],\n",
              "       [-2.78702754e-01, -1.93056809e+00,  7.86705530e-02],\n",
              "       [-1.30314497e+00, -7.63172314e-01,  1.99959651e+00],\n",
              "       [-4.57071866e-01, -2.26941561e+00,  1.06133897e+00],\n",
              "       [-4.94185847e-01, -1.93904505e+00,  1.32393807e+00],\n",
              "       [ 4.82074410e-01, -3.87178385e+00,  1.34427122e+00],\n",
              "       [-2.52888878e-01, -2.82149237e+00, -3.02639785e-01],\n",
              "       [-1.07227638e-01, -1.92892204e+00,  6.90148243e-01],\n",
              "       [-2.43301260e+00, -1.25714104e+00, -1.90302740e+00],\n",
              "       [-5.51089539e-01, -2.22216155e+00, -3.56228830e-01],\n",
              "       [ 7.39621929e-01, -1.40895667e+00,  1.12534549e+00],\n",
              "       [ 1.33632173e+00,  2.53336931e-01,  5.34538818e+00],\n",
              "       [-1.17708700e+00, -6.63966840e-01,  3.01022189e+00],\n",
              "       [-4.62335008e-01, -6.18288179e-01,  4.83442366e-01],\n",
              "       [ 9.78474079e-01, -1.44557050e+00,  1.48123697e+00],\n",
              "       [-9.68097263e-02, -2.10999799e+00,  4.34826116e-01],\n",
              "       [ 3.84871459e-02, -1.26676211e+00,  6.87577913e-01],\n",
              "       [-1.59715850e+00, -1.20814357e+00,  3.36117556e+00],\n",
              "       [-4.79564916e-01, -1.93884066e+00,  1.29650752e+00],\n",
              "       [-1.79283347e+00, -1.15028810e+00,  7.82800173e-01],\n",
              "       [-1.32710166e+00,  1.70389232e-01, -1.18001336e+00],\n",
              "       [-2.38450083e+00,  3.74582606e-01, -7.23822595e-01],\n",
              "       [-2.93694010e+00,  2.63861830e-01, -1.67639816e-01],\n",
              "       [-2.14681113e+00,  3.68254952e-01, -4.53301301e-01],\n",
              "       [-2.36986949e+00, -4.59634809e-01, -1.10139979e+00],\n",
              "       [-3.06384157e+00,  3.53412835e-01, -1.09912410e+00],\n",
              "       [-3.91575378e+00,  1.54582519e-01,  2.21827800e-01],\n",
              "       [-3.93646339e+00,  6.59687233e-01,  1.71221542e+00],\n",
              "       [-3.09427612e+00,  3.48842759e-01, -1.02683141e+00],\n",
              "       [-2.37447163e+00,  2.91980352e-01,  1.24191433e+00],\n",
              "       [-2.77881295e+00,  2.86804873e-01,  6.09670124e-01],\n",
              "       [-2.28656128e+00,  3.72507845e-01, -9.71643032e-01],\n",
              "       [-2.98563349e+00,  4.89217908e-01,  9.46952932e-01],\n",
              "       [-2.37519470e+00,  4.82333717e-01, -2.52883994e-01],\n",
              "       [-2.20986553e+00,  1.16005250e+00, -1.24512523e+00],\n",
              "       [-2.62562100e+00,  5.63160764e-01, -8.55961082e-01],\n",
              "       [-4.28063878e+00,  6.49670964e-01, -1.45819696e+00],\n",
              "       [-3.58264137e+00,  1.27270275e+00, -1.10784038e-01],\n",
              "       [-2.80706372e+00,  1.57053379e+00, -4.72527935e-01],\n",
              "       [-2.89965933e+00,  2.04105701e+00, -4.95959810e-01],\n",
              "       [-2.32073698e+00,  2.35636608e+00,  4.37681744e-01],\n",
              "       [-2.54983095e+00,  2.04528309e+00, -3.12267999e-01],\n",
              "       [-1.81254128e+00,  1.52764595e+00,  1.36258978e+00],\n",
              "       [-2.76014464e+00,  2.13893235e+00, -9.64628688e-01],\n",
              "       [-2.73715050e+00,  4.09886271e-01, -1.19040468e+00],\n",
              "       [-3.60486887e+00,  1.80238422e+00, -9.40368613e-02],\n",
              "       [-2.88982600e+00,  1.92521861e+00, -7.82322556e-01],\n",
              "       [-3.39215608e+00,  1.31187639e+00,  1.60202597e+00],\n",
              "       [-1.04818190e+00,  3.51508969e+00,  1.16003857e+00],\n",
              "       [-1.60991228e+00,  2.40663816e+00,  5.48559697e-01],\n",
              "       [-3.14313097e+00,  7.38161044e-01, -9.09987239e-02],\n",
              "       [-2.24015690e+00,  1.17546529e+00, -1.01376932e-01],\n",
              "       [-2.84767378e+00,  5.56043966e-01,  8.04215218e-01],\n",
              "       [-2.59749706e+00,  6.97965537e-01, -8.84939521e-01],\n",
              "       [-2.94929937e+00,  1.55530896e+00, -9.83400727e-01],\n",
              "       [-3.53003227e+00,  8.82526796e-01, -4.66029128e-01],\n",
              "       [-2.40611054e+00,  2.59235618e+00,  4.28226211e-01],\n",
              "       [-2.92908473e+00,  1.27444695e+00, -1.21335827e+00],\n",
              "       [-2.18141278e+00,  2.07753731e+00,  7.63782552e-01],\n",
              "       [-2.38092779e+00,  2.58866743e+00,  1.41804403e+00],\n",
              "       [-3.21161722e+00, -2.51249104e-01, -8.47129152e-01],\n",
              "       [-3.67791872e+00,  8.47747844e-01, -1.33942023e+00],\n",
              "       [-2.46555580e+00,  2.19379830e+00, -9.18780960e-01],\n",
              "       [-3.37052415e+00,  2.21628914e+00, -3.42569512e-01],\n",
              "       [-2.60195585e+00,  1.75722935e+00,  2.07581355e-01],\n",
              "       [-2.67783946e+00,  2.76089913e+00, -9.40941877e-01],\n",
              "       [-2.38701709e+00,  2.29734668e+00, -5.50696197e-01],\n",
              "       [-3.20875816e+00,  2.76891957e+00,  1.01391366e+00]])"
            ]
          },
          "metadata": {},
          "execution_count": 5
        }
      ]
    },
    {
      "cell_type": "code",
      "source": [
        "pca.components_"
      ],
      "metadata": {
        "colab": {
          "base_uri": "https://localhost:8080/"
        },
        "id": "4EnXya88beYl",
        "outputId": "c5a1cf8d-3ae4-4aa0-9c11-7eaa44485ea4"
      },
      "execution_count": 6,
      "outputs": [
        {
          "output_type": "execute_result",
          "data": {
            "text/plain": [
              "array([[ 0.1443294 , -0.24518758, -0.00205106, -0.23932041,  0.14199204,\n",
              "         0.39466085,  0.4229343 , -0.2985331 ,  0.31342949, -0.0886167 ,\n",
              "         0.29671456,  0.37616741,  0.28675223],\n",
              "       [ 0.48365155,  0.22493093,  0.31606881, -0.0105905 ,  0.299634  ,\n",
              "         0.06503951, -0.00335981,  0.02877949,  0.03930172,  0.52999567,\n",
              "        -0.27923515, -0.16449619,  0.36490283],\n",
              "       [-0.20738262,  0.08901289,  0.6262239 ,  0.61208035,  0.13075693,\n",
              "         0.14617896,  0.1506819 ,  0.17036816,  0.14945431, -0.13730621,\n",
              "         0.08522192,  0.16600459, -0.12674592]])"
            ]
          },
          "metadata": {},
          "execution_count": 6
        }
      ]
    },
    {
      "cell_type": "code",
      "source": [
        "sum(pca.explained_variance_ratio_)"
      ],
      "metadata": {
        "colab": {
          "base_uri": "https://localhost:8080/"
        },
        "id": "4viPfWE6bipu",
        "outputId": "43af519c-dbbb-4dc1-c0c1-afd8c550197f"
      },
      "execution_count": 7,
      "outputs": [
        {
          "output_type": "execute_result",
          "data": {
            "text/plain": [
              "np.float64(0.6652996889318524)"
            ]
          },
          "metadata": {},
          "execution_count": 7
        }
      ]
    },
    {
      "cell_type": "code",
      "source": [
        "import numpy as np\n",
        "nums = np.arange(14)"
      ],
      "metadata": {
        "id": "682vWqgIbl4H"
      },
      "execution_count": 8,
      "outputs": []
    },
    {
      "cell_type": "code",
      "source": [
        "var_ratio = []\n",
        "for num in nums:\n",
        "  pca = PCA(n_components=num)\n",
        "  pca.fit(scaled_df)\n",
        "  var_ratio.append(np.sum(pca.explained_variance_ratio_))"
      ],
      "metadata": {
        "id": "7PeCsQ-wbodw"
      },
      "execution_count": 9,
      "outputs": []
    },
    {
      "cell_type": "code",
      "source": [
        "import matplotlib.pyplot as plt\n",
        "\n",
        "plt.figure(figsize=(4,3),dpi=150)\n",
        "plt.grid()\n",
        "plt.plot(nums,var_ratio,marker='o')\n",
        "plt.xlabel('n_components')\n",
        "plt.ylabel('Explained variance ratio')\n",
        "plt.title('n_components vs. Explained Variance Ratio')"
      ],
      "metadata": {
        "colab": {
          "base_uri": "https://localhost:8080/",
          "height": 504
        },
        "id": "uBJv6HxQbsES",
        "outputId": "ec9da0ae-7c34-4afa-8d49-a99741a386fd"
      },
      "execution_count": 11,
      "outputs": [
        {
          "output_type": "execute_result",
          "data": {
            "text/plain": [
              "Text(0.5, 1.0, 'n_components vs. Explained Variance Ratio')"
            ]
          },
          "metadata": {},
          "execution_count": 11
        },
        {
          "output_type": "display_data",
          "data": {
            "text/plain": [
              "<Figure size 600x450 with 1 Axes>"
            ],
            "image/png": "[encoded data removed]"
          },
          "metadata": {}
        }
      ]
    },
    {
      "cell_type": "code",
      "source": [],
      "metadata": {
        "id": "cx7c5SEcbzb0"
      },
      "execution_count": null,
      "outputs": []
    }
  ]
}