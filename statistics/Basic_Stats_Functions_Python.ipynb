{
  "nbformat": 4,
  "nbformat_minor": 0,
  "metadata": {
    "colab": {
      "provenance": []
    },
    "kernelspec": {
      "name": "python3",
      "display_name": "Python 3"
    },
    "language_info": {
      "name": "python"
    }
  },
  "cells": [
    {
      "cell_type": "markdown",
      "source": [
        "## Import the Built-In `statistics` Module"
      ],
      "metadata": {
        "id": "s8yOidchG5UV"
      }
    },
    {
      "cell_type": "code",
      "source": [
        "import statistics"
      ],
      "metadata": {
        "id": "cOmUhMH9bIAb"
      },
      "execution_count": null,
      "outputs": []
    },
    {
      "cell_type": "markdown",
      "source": [
        "## 1. Mean"
      ],
      "metadata": {
        "id": "Cy_sSAo4bExW"
      }
    },
    {
      "cell_type": "code",
      "execution_count": null,
      "metadata": {
        "colab": {
          "base_uri": "https://localhost:8080/"
        },
        "id": "v-3qQD50a9hT",
        "outputId": "2a7d7cd5-d8f9-445d-f56f-59ac7f4e57b6"
      },
      "outputs": [
        {
          "output_type": "stream",
          "name": "stdout",
          "text": [
            "Mean: 30\n"
          ]
        }
      ],
      "source": [
        "data = [10, 20, 30, 40, 50]\n",
        "mean = statistics.mean(data)\n",
        "print(\"Mean:\", mean)"
      ]
    },
    {
      "cell_type": "markdown",
      "source": [
        "## 2. Median"
      ],
      "metadata": {
        "id": "obFi961MbQ46"
      }
    },
    {
      "cell_type": "code",
      "source": [
        "data = [15, 20, 35, 40, 50]\n",
        "median = statistics.median(data)\n",
        "print(\"Median:\", median)"
      ],
      "metadata": {
        "colab": {
          "base_uri": "https://localhost:8080/"
        },
        "id": "FrS8KYaXbPWy",
        "outputId": "f07a115a-5f18-462a-ae47-ab3c239db261"
      },
      "execution_count": null,
      "outputs": [
        {
          "output_type": "stream",
          "name": "stdout",
          "text": [
            "Median: 35\n"
          ]
        }
      ]
    },
    {
      "cell_type": "markdown",
      "source": [
        "## 3. Mode"
      ],
      "metadata": {
        "id": "b9ybgj32bYKy"
      }
    },
    {
      "cell_type": "code",
      "source": [
        "data = [1, 2, 2, 3, 4, 4, 4]\n",
        "mode = statistics.mode(data)\n",
        "print(\"Mode:\", mode)"
      ],
      "metadata": {
        "colab": {
          "base_uri": "https://localhost:8080/"
        },
        "id": "AgrG9I5fbWU0",
        "outputId": "eebf7a08-b1d0-42f7-f982-3a20b9241082"
      },
      "execution_count": null,
      "outputs": [
        {
          "output_type": "stream",
          "name": "stdout",
          "text": [
            "Mode: 4\n"
          ]
        }
      ]
    },
    {
      "cell_type": "code",
      "source": [
        "data = [1, 2, 2, 2, 3, 4, 4, 4, 7, 7, 7]\n",
        "mode = statistics.mode(data)\n",
        "print(\"Modes:\", mode)"
      ],
      "metadata": {
        "colab": {
          "base_uri": "https://localhost:8080/"
        },
        "id": "d3D3oyVBccaa",
        "outputId": "93c7fa31-ca9c-429f-df8d-d93ca9eef080"
      },
      "execution_count": null,
      "outputs": [
        {
          "output_type": "stream",
          "name": "stdout",
          "text": [
            "Modes: 2\n"
          ]
        }
      ]
    },
    {
      "cell_type": "code",
      "source": [
        "data = [1, 2, 2, 2, 3, 4, 4, 4, 7, 7, 7]\n",
        "modes = statistics.multimode(data)\n",
        "print(\"Modes:\", modes)"
      ],
      "metadata": {
        "colab": {
          "base_uri": "https://localhost:8080/"
        },
        "id": "62_XzwJhcH3d",
        "outputId": "e7cf6cd4-50b3-42a5-b1ad-d45be40c602a"
      },
      "execution_count": null,
      "outputs": [
        {
          "output_type": "stream",
          "name": "stdout",
          "text": [
            "Modes: [2, 4, 7]\n"
          ]
        }
      ]
    },
    {
      "cell_type": "markdown",
      "source": [
        "## 4. Standard Deviation"
      ],
      "metadata": {
        "id": "neQiIHTC6CtL"
      }
    },
    {
      "cell_type": "code",
      "source": [
        "data = [12, 15, 22, 29, 35]\n",
        "std_dev = statistics.stdev(data)\n",
        "print(f\"Standard Deviation: {std_dev:.3f}\")"
      ],
      "metadata": {
        "colab": {
          "base_uri": "https://localhost:8080/"
        },
        "id": "uY-DcaV4cRux",
        "outputId": "98166ea5-b57c-4e1b-f526-5cfbb3f9aed7"
      },
      "execution_count": null,
      "outputs": [
        {
          "output_type": "stream",
          "name": "stdout",
          "text": [
            "Standard Deviation: 9.555\n"
          ]
        }
      ]
    },
    {
      "cell_type": "markdown",
      "source": [
        "## 5. Variance"
      ],
      "metadata": {
        "id": "q6Ra31AD7jcU"
      }
    },
    {
      "cell_type": "code",
      "source": [
        "data = [8, 10, 12, 14, 16]\n",
        "variance = statistics.variance(data)\n",
        "print(f\"Variance: {variance:.2f}\")"
      ],
      "metadata": {
        "colab": {
          "base_uri": "https://localhost:8080/"
        },
        "id": "ALOJxc4V6G0a",
        "outputId": "ff7c8a7d-8250-4fc3-b48a-a59dc1e15877"
      },
      "execution_count": null,
      "outputs": [
        {
          "output_type": "stream",
          "name": "stdout",
          "text": [
            "Variance: 10.00\n"
          ]
        }
      ]
    },
    {
      "cell_type": "markdown",
      "source": [
        "## 6. Covariance"
      ],
      "metadata": {
        "id": "oXGwdDsci1AP"
      }
    },
    {
      "cell_type": "code",
      "source": [
        "data1 = [2, 4, 6, 8, 10]\n",
        "data2 = [1, 3, 5, 7, 9]\n",
        "covariance = statistics.covariance(data1, data2)\n",
        "print(\"Covariance:\", covariance)"
      ],
      "metadata": {
        "id": "5wjqe8n67uoT",
        "colab": {
          "base_uri": "https://localhost:8080/"
        },
        "outputId": "7c11b3be-9d00-47ef-b05d-ad6faff58c65"
      },
      "execution_count": 1,
      "outputs": [
        {
          "output_type": "stream",
          "name": "stdout",
          "text": [
            "Covariance: 10.0\n"
          ]
        }
      ]
    },
    {
      "cell_type": "markdown",
      "source": [
        "## 7. Quantiles"
      ],
      "metadata": {
        "id": "DqquyE0XmKg-"
      }
    },
    {
      "cell_type": "code",
      "source": [
        "data = [1, 5, 7, 9, 10, 12, 16, 18, 19, 21]\n",
        "# Quartiles\n",
        "quantiles = statistics.quantiles(data, n=4)\n",
        "print(\"Quantiles (Quartiles):\", quantiles)"
      ],
      "metadata": {
        "colab": {
          "base_uri": "https://localhost:8080/"
        },
        "id": "5p1xVng-kwju",
        "outputId": "903cb4f8-5bb6-488a-c582-62126fbff758"
      },
      "execution_count": 4,
      "outputs": [
        {
          "output_type": "stream",
          "name": "stdout",
          "text": [
            "Quantiles (Quartiles): [6.5, 11.0, 18.25]\n"
          ]
        }
      ]
    },
    {
      "cell_type": "markdown",
      "source": [
        "## 8. Correlation"
      ],
      "metadata": {
        "id": "eUTp6xe2CCVM"
      }
    },
    {
      "cell_type": "code",
      "source": [
        "data1 = [1, 2, 3, 4, 5]\n",
        "data2 = [2, 4, 6, 8, 10]\n",
        "correlation = statistics.correlation(data1, data2)\n",
        "print(\"Correlation:\", correlation)"
      ],
      "metadata": {
        "colab": {
          "base_uri": "https://localhost:8080/"
        },
        "id": "1CFP4t68mO4r",
        "outputId": "a43c0f06-8c1e-4229-ab23-1c8a35aef2e7"
      },
      "execution_count": 5,
      "outputs": [
        {
          "output_type": "stream",
          "name": "stdout",
          "text": [
            "Correlation: 1.0\n"
          ]
        }
      ]
    },
    {
      "cell_type": "markdown",
      "source": [
        "## 9. Linear Regression"
      ],
      "metadata": {
        "id": "AMq5BdfuFMiB"
      }
    },
    {
      "cell_type": "code",
      "source": [
        "x = [1, 2, 3, 4, 5]\n",
        "y = [3, 4, 2, 5, 7]\n",
        "slope, intercept = statistics.linear_regression(x, y)\n",
        "print(\"Slope:\", slope)\n",
        "print(\"Intercept:\", intercept)"
      ],
      "metadata": {
        "colab": {
          "base_uri": "https://localhost:8080/"
        },
        "id": "TJVQAIjACFxz",
        "outputId": "e79e8709-0a67-4b51-dbb8-634fdc52ad3a"
      },
      "execution_count": 7,
      "outputs": [
        {
          "output_type": "stream",
          "name": "stdout",
          "text": [
            "Slope: 0.9\n",
            "Intercept: 1.5\n"
          ]
        }
      ]
    },
    {
      "cell_type": "markdown",
      "source": [
        "## 10. Normal Distribution"
      ],
      "metadata": {
        "id": "EjcEB4bcGILJ"
      }
    },
    {
      "cell_type": "code",
      "source": [
        "# Create a normal distribution with mean 30 and standard deviation 10\n",
        "normal_dist = statistics.NormalDist(mu=30, sigma=10)\n",
        "\n",
        "# Calculate the probability of a value less than or equal to 20\n",
        "probability = normal_dist.cdf(20)\n",
        "print(f\"Probability (CDF) of 20: {probability:.3f}\")\n",
        "\n",
        "# Calculate the z-score for a value\n",
        "z_score = normal_dist.inv_cdf(0.975)\n",
        "print(f\"Z-score for 97.5th percentile: {z_score:.3f}\")"
      ],
      "metadata": {
        "colab": {
          "base_uri": "https://localhost:8080/"
        },
        "id": "sYkVaHDtFQ6m",
        "outputId": "2f1db0e8-3b5e-4764-8151-02e92b413513"
      },
      "execution_count": 11,
      "outputs": [
        {
          "output_type": "stream",
          "name": "stdout",
          "text": [
            "Probability (CDF) of 20: 0.159\n",
            "Z-score for 97.5th percentile: 49.600\n"
          ]
        }
      ]
    },
    {
      "cell_type": "code",
      "source": [],
      "metadata": {
        "id": "w8eCKz1tJy55"
      },
      "execution_count": null,
      "outputs": []
    }
  ]
}