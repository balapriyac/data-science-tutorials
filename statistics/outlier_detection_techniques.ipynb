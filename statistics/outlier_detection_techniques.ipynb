{
  "nbformat": 4,
  "nbformat_minor": 0,
  "metadata": {
    "colab": {
      "provenance": []
    },
    "kernelspec": {
      "name": "python3",
      "display_name": "Python 3"
    },
    "language_info": {
      "name": "python"
    }
  },
  "cells": [
    {
      "cell_type": "markdown",
      "source": [
        "## Sample Dataset"
      ],
      "metadata": {
        "id": "CV2Mk0ne14_z"
      }
    },
    {
      "cell_type": "code",
      "execution_count": null,
      "metadata": {
        "id": "l_1URxJq113B"
      },
      "outputs": [],
      "source": [
        "import numpy as np\n",
        "\n",
        "np.random.seed(42)\n",
        "\n",
        "# Generate bimodal data\n",
        "low_spending = np.random.normal(50, 10, 225)  # 90% of data\n",
        "high_spending = np.random.normal(200, 20, 25)  # 10% of data (outliers)\n",
        "spending = np.concatenate([low_spending, high_spending])\n",
        "\n",
        "# Use spending directly as a NumPy array\n",
        "data = spending\n"
      ]
    },
    {
      "cell_type": "markdown",
      "source": [
        "## 1. Z-Score Method"
      ],
      "metadata": {
        "id": "LshNJbZX18cT"
      }
    },
    {
      "cell_type": "code",
      "source": [
        "def detect_outliers_zscore(data, threshold=3):\n",
        "    # Calculate mean and standard deviation\n",
        "    mean = np.mean(data)\n",
        "    std = np.std(data)\n",
        "    # Compute Z-scores\n",
        "    z_scores = (data - mean) / std\n",
        "    # Find indices where Z-scores exceed the threshold\n",
        "    outlier_indices = np.where(np.abs(z_scores) > threshold)\n",
        "    # Extract corresponding outlier values\n",
        "    outlier_values = data[outlier_indices]\n",
        "    return outlier_indices[0], outlier_values\n",
        "\n",
        "# Usage\n",
        "indices, values = detect_outliers_zscore(data)  # Pass the NumPy array\n",
        "print(\"Z-Score Outliers (Index, Value):\")\n",
        "for idx, val in zip(indices, values):\n",
        "    print(f\"Index: {idx}, Value: {val}\")"
      ],
      "metadata": {
        "colab": {
          "base_uri": "https://localhost:8080/"
        },
        "id": "UfcuDL7l-MEc",
        "outputId": "00802201-c7ff-4620-f3bb-4aa4ae7be8ef"
      },
      "execution_count": null,
      "outputs": [
        {
          "output_type": "stream",
          "name": "stdout",
          "text": [
            "Z-Score Outliers (Index, Value):\n",
            "Index: 225, Value: 221.77901193934733\n",
            "Index: 229, Value: 213.5919549786935\n",
            "Index: 231, Value: 204.3291717916395\n",
            "Index: 234, Value: 242.8788817865065\n",
            "Index: 235, Value: 212.67838044636022\n",
            "Index: 239, Value: 217.04866669592448\n",
            "Index: 242, Value: 210.09974557960913\n",
            "Index: 243, Value: 217.31510388340243\n",
            "Index: 248, Value: 235.30908480562192\n",
            "Index: 249, Value: 208.0996342192191\n"
          ]
        }
      ]
    },
    {
      "cell_type": "markdown",
      "source": [
        "## 2. Interquartile Range (IQR) Method"
      ],
      "metadata": {
        "id": "TupWgafV4zGr"
      }
    },
    {
      "cell_type": "code",
      "source": [
        "import numpy as np\n",
        "def detect_outliers_iqr(data):\n",
        "    q1 = np.percentile(data, 25)\n",
        "    q3 = np.percentile(data, 75)\n",
        "    iqr = q3 - q1\n",
        "    lower_bound = q1 - 1.5 * iqr\n",
        "    upper_bound = q3 + 1.5 * iqr\n",
        "    outlier_indices = np.where((data < lower_bound) | (data > upper_bound))\n",
        "    outlier_values = data[outlier_indices]\n",
        "    return outlier_indices[0], outlier_values\n",
        "\n",
        "indices, values = detect_outliers_iqr(data)\n",
        "print(\"IQR Outliers (Index, Value):\")\n",
        "for idx, val in zip(indices, values):\n",
        "    print(f\"Index: {idx}, Value: {val}\")\n"
      ],
      "metadata": {
        "colab": {
          "base_uri": "https://localhost:8080/"
        },
        "id": "dMBH405m-TP8",
        "outputId": "275986a4-4e05-4352-c351-977bea8fda3b"
      },
      "execution_count": null,
      "outputs": [
        {
          "output_type": "stream",
          "name": "stdout",
          "text": [
            "IQR Outliers (Index, Value):\n",
            "Index: 209, Value: 88.52731490654722\n",
            "Index: 225, Value: 221.77901193934733\n",
            "Index: 226, Value: 201.28560038190926\n",
            "Index: 227, Value: 178.4451044414139\n",
            "Index: 228, Value: 185.69392581480065\n",
            "Index: 229, Value: 213.5919549786935\n",
            "Index: 230, Value: 185.39266736565727\n",
            "Index: 231, Value: 204.3291717916395\n",
            "Index: 232, Value: 200.91143679807627\n",
            "Index: 233, Value: 186.96799304788365\n",
            "Index: 234, Value: 242.8788817865065\n",
            "Index: 235, Value: 212.67838044636022\n",
            "Index: 236, Value: 159.49714826684786\n",
            "Index: 237, Value: 203.72908629538856\n",
            "Index: 238, Value: 186.76427070463225\n",
            "Index: 239, Value: 217.04866669592448\n",
            "Index: 240, Value: 184.14958523134598\n",
            "Index: 241, Value: 197.70527117066203\n",
            "Index: 242, Value: 210.09974557960913\n",
            "Index: 243, Value: 217.31510388340243\n",
            "Index: 244, Value: 175.99407185888447\n",
            "Index: 245, Value: 193.30997528318102\n",
            "Index: 246, Value: 190.50109377678086\n",
            "Index: 247, Value: 186.93341534852576\n",
            "Index: 248, Value: 235.30908480562192\n",
            "Index: 249, Value: 208.0996342192191\n"
          ]
        }
      ]
    },
    {
      "cell_type": "markdown",
      "source": [
        "## 3. Local Outlier Factor (LOF)"
      ],
      "metadata": {
        "id": "XA1i-OI_4sv2"
      }
    },
    {
      "cell_type": "code",
      "source": [
        "from sklearn.neighbors import LocalOutlierFactor\n",
        "\n",
        "def detect_outliers_lof(data, n_neighbors=20, contamination=0.1):\n",
        "    \"\"\"\n",
        "    Detects outliers using the Local Outlier Factor (LOF) method.\n",
        "\n",
        "    Args:\n",
        "        data (numpy array): 1D array of numerical data.\n",
        "        n_neighbors (int): Number of neighbors to consider for LOF.\n",
        "        contamination (float): Proportion of the dataset assumed to be outliers.\n",
        "\n",
        "    Returns:\n",
        "        tuple: Indices and values of detected outliers.\n",
        "    \"\"\"\n",
        "    # Reshape the 1D array for LOF (it expects a 2D array as input)\n",
        "    reshaped_data = data.reshape(-1, 1)\n",
        "    # Initialize and fit the LOF model\n",
        "    lof = LocalOutlierFactor(n_neighbors=n_neighbors, contamination=contamination)\n",
        "    # Predict outliers: -1 for outliers, 1 for inliers\n",
        "    outliers = lof.fit_predict(reshaped_data)\n",
        "    # Get indices and values of outliers\n",
        "    outlier_indices = np.where(outliers == -1)[0]\n",
        "    outlier_values = data[outlier_indices]\n",
        "    return outlier_indices, outlier_values\n",
        "\n",
        "# Usage\n",
        "indices, values = detect_outliers_lof(data)  # Pass the 1D NumPy array\n",
        "print(\"LOF Outliers (Index, Value):\")\n",
        "for idx, val in zip(indices, values):\n",
        "    print(f\"Index: {idx}, Value: {val}\")"
      ],
      "metadata": {
        "colab": {
          "base_uri": "https://localhost:8080/"
        },
        "id": "fXUsaWdk-WD0",
        "outputId": "bfe88b87-ef1b-487b-f694-f64e3bb04a74"
      },
      "execution_count": null,
      "outputs": [
        {
          "output_type": "stream",
          "name": "stdout",
          "text": [
            "LOF Outliers (Index, Value):\n",
            "Index: 6, Value: 65.79212815507391\n",
            "Index: 13, Value: 30.86719755342202\n",
            "Index: 14, Value: 32.75082167486967\n",
            "Index: 31, Value: 68.52278184508938\n",
            "Index: 37, Value: 30.403298761202244\n",
            "Index: 49, Value: 32.36959844637266\n",
            "Index: 71, Value: 65.38036566465969\n",
            "Index: 73, Value: 65.64643655814007\n",
            "Index: 74, Value: 23.802548959102555\n",
            "Index: 79, Value: 30.124310853991073\n",
            "Index: 106, Value: 68.8618590121053\n",
            "Index: 110, Value: 30.812287847009586\n",
            "Index: 113, Value: 74.63242112485287\n",
            "Index: 122, Value: 64.02794310936099\n",
            "Index: 125, Value: 71.90455625809979\n",
            "Index: 135, Value: 65.4993440501754\n",
            "Index: 156, Value: 68.65774511144757\n",
            "Index: 167, Value: 68.96792982653947\n",
            "Index: 179, Value: 77.20169166589619\n",
            "Index: 209, Value: 88.52731490654722\n",
            "Index: 211, Value: 61.35565640180599\n",
            "Index: 220, Value: 73.14658566673509\n",
            "Index: 221, Value: 31.32734807408252\n",
            "Index: 234, Value: 242.8788817865065\n",
            "Index: 236, Value: 159.49714826684786\n"
          ]
        }
      ]
    },
    {
      "cell_type": "markdown",
      "source": [
        "## 4. Isolation Forest"
      ],
      "metadata": {
        "id": "LyOM0VE54ovC"
      }
    },
    {
      "cell_type": "code",
      "source": [
        "from sklearn.ensemble import IsolationForest\n",
        "\n",
        "def detect_outliers_isolation_forest(data, contamination=0.1):\n",
        "    iso = IsolationForest(contamination=contamination, random_state=42)\n",
        "    outliers = iso.fit_predict(data.reshape(-1, 1))\n",
        "    outlier_indices = np.where(outliers == -1)[0]\n",
        "    outlier_values = data[outlier_indices]\n",
        "    return outlier_indices, outlier_values\n",
        "\n",
        "indices, values = detect_outliers_isolation_forest(data)\n",
        "print(\"Isolation Forest Outliers (Index, Value):\")\n",
        "for idx, val in zip(indices, values):\n",
        "    print(f\"Index: {idx}, Value: {val}\")"
      ],
      "metadata": {
        "colab": {
          "base_uri": "https://localhost:8080/"
        },
        "id": "cjTO2AGN-ZGF",
        "outputId": "3ee0623c-90cf-4513-b86d-91f779e5e9e1"
      },
      "execution_count": null,
      "outputs": [
        {
          "output_type": "stream",
          "name": "stdout",
          "text": [
            "Isolation Forest Outliers (Index, Value):\n",
            "Index: 74, Value: 23.802548959102555\n",
            "Index: 79, Value: 30.124310853991073\n",
            "Index: 113, Value: 74.63242112485287\n",
            "Index: 125, Value: 71.90455625809979\n",
            "Index: 179, Value: 77.20169166589619\n",
            "Index: 209, Value: 88.52731490654722\n",
            "Index: 220, Value: 73.14658566673509\n",
            "Index: 225, Value: 221.77901193934733\n",
            "Index: 227, Value: 178.4451044414139\n",
            "Index: 229, Value: 213.5919549786935\n",
            "Index: 231, Value: 204.3291717916395\n",
            "Index: 234, Value: 242.8788817865065\n",
            "Index: 235, Value: 212.67838044636022\n",
            "Index: 236, Value: 159.49714826684786\n",
            "Index: 237, Value: 203.72908629538856\n",
            "Index: 239, Value: 217.04866669592448\n",
            "Index: 240, Value: 184.14958523134598\n",
            "Index: 241, Value: 197.70527117066203\n",
            "Index: 242, Value: 210.09974557960913\n",
            "Index: 243, Value: 217.31510388340243\n",
            "Index: 244, Value: 175.99407185888447\n",
            "Index: 245, Value: 193.30997528318102\n",
            "Index: 246, Value: 190.50109377678086\n",
            "Index: 248, Value: 235.30908480562192\n",
            "Index: 249, Value: 208.0996342192191\n"
          ]
        }
      ]
    },
    {
      "cell_type": "markdown",
      "source": [
        "## 5. Mahalanobis Distance"
      ],
      "metadata": {
        "id": "Pqg3Ue1n36Yy"
      }
    },
    {
      "cell_type": "code",
      "source": [
        "import numpy as np\n",
        "import pandas as pd\n",
        "from scipy.spatial.distance import mahalanobis\n",
        "\n",
        "# Generate synthetic data for Age and Annual Income\n",
        "np.random.seed(42)\n",
        "age = np.random.normal(30, 5, 200)  # Mean age = 30, std = 5\n",
        "income = np.random.normal(50000, 15000, 200)  # Mean income = 50,000, std = 15,000\n",
        "\n",
        "# Add some outliers\n",
        "age = np.concatenate([age, np.random.normal(60, 5, 5)])  # Add outlier ages (high)\n",
        "income = np.concatenate([income, np.random.normal(200000, 50000, 5)])  # Add outlier incomes (high)\n",
        "\n",
        "# Combine the data into a DataFrame\n",
        "df = pd.DataFrame({\n",
        "    'Age': age,\n",
        "    'Annual Income': income\n",
        "})\n",
        "\n",
        "# Function to detect outliers using Mahalanobis distance\n",
        "def detect_outliers_mahalanobis_multivariate(data):\n",
        "    mean = np.mean(data, axis=0)\n",
        "    cov_matrix = np.cov(data, rowvar=False)\n",
        "\n",
        "    try:\n",
        "        inv_cov_matrix = np.linalg.inv(cov_matrix)\n",
        "    except np.linalg.LinAlgError:\n",
        "        raise ValueError(\"Covariance matrix is singular and cannot be inverted.\")\n",
        "\n",
        "    distances = []\n",
        "    for row in data:\n",
        "        distance = mahalanobis(row, mean, inv_cov_matrix)\n",
        "        distances.append(distance)\n",
        "\n",
        "    threshold = np.percentile(distances, 97.5)  # 97.5 percentile threshold for outliers\n",
        "    outlier_indices = np.where(np.array(distances) > threshold)[0]\n",
        "    outlier_values = data[outlier_indices]\n",
        "\n",
        "    return outlier_indices, outlier_values\n",
        "\n",
        "# Using the function on our dataset (Age, Annual Income)\n",
        "indices, values = detect_outliers_mahalanobis_multivariate(df[['Age', 'Annual Income']].values)\n",
        "\n",
        "print(\"Mahalanobis Outliers (Index, Age, Annual Income):\")\n",
        "for idx, val in zip(indices, values):\n",
        "    print(f\"Index: {idx}, Age: {val[0]}, Annual Income: {val[1]}\")\n"
      ],
      "metadata": {
        "colab": {
          "base_uri": "https://localhost:8080/"
        },
        "id": "2RgI5coHBSXu",
        "outputId": "51c34965-5d89-4ff2-a45e-9840f6107c4a"
      },
      "execution_count": null,
      "outputs": [
        {
          "output_type": "stream",
          "name": "stdout",
          "text": [
            "Mahalanobis Outliers (Index, Age, Annual Income):\n",
            "Index: 179, Age: 43.600845832948096, Annual Income: 37875.525719672725\n",
            "Index: 200, Age: 52.02786170602816, Annual Income: 231142.49661737494\n",
            "Index: 201, Age: 57.00312488523114, Annual Income: 146618.97853087028\n",
            "Index: 202, Age: 60.026218498590914, Annual Income: 192881.02574893532\n",
            "Index: 203, Age: 60.23490296882371, Annual Income: 206014.78158559493\n",
            "Index: 204, Age: 57.749672642603784, Annual Income: 225721.94170293745\n"
          ]
        }
      ]
    }
  ]
}