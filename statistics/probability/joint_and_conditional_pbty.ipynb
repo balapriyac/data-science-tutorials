{
  "nbformat": 4,
  "nbformat_minor": 0,
  "metadata": {
    "colab": {
      "provenance": []
    },
    "kernelspec": {
      "name": "python3",
      "display_name": "Python 3"
    },
    "language_info": {
      "name": "python"
    }
  },
  "cells": [
    {
      "cell_type": "markdown",
      "source": [
        "## Step 1: Creating Sample Data"
      ],
      "metadata": {
        "id": "YjO9ZVZIM8Ye"
      }
    },
    {
      "cell_type": "code",
      "execution_count": null,
      "metadata": {
        "colab": {
          "base_uri": "https://localhost:8080/"
        },
        "id": "sAXOTiD9Ltz0",
        "outputId": "63fdc6fe-0ae1-4b61-ba92-4e481cc8c561"
      },
      "outputs": [
        {
          "output_type": "stream",
          "name": "stdout",
          "text": [
            "  Age_Group Sports_Interest\n",
            "0      Teen             Yes\n",
            "1      Teen              No\n",
            "2      Teen             Yes\n",
            "3     Adult              No\n",
            "4     Adult              No\n",
            "5    Senior             Yes\n",
            "6    Senior             Yes\n",
            "7    Senior              No\n"
          ]
        }
      ],
      "source": [
        "import pandas as pd\n",
        "\n",
        "# Sample data\n",
        "data = {\n",
        "    \"Age_Group\": [\"Teen\", \"Teen\", \"Teen\", \"Adult\", \"Adult\", \"Senior\", \"Senior\", \"Senior\"],\n",
        "    \"Sports_Interest\": [\"Yes\", \"No\", \"Yes\", \"No\", \"No\", \"Yes\", \"Yes\", \"No\"]\n",
        "}\n",
        "\n",
        "df = pd.DataFrame(data)\n",
        "\n",
        "# Display the data\n",
        "print(df)\n"
      ]
    },
    {
      "cell_type": "markdown",
      "source": [
        "## Step 2: Calculating Joint Probability"
      ],
      "metadata": {
        "id": "1VY0hLRKMWMr"
      }
    },
    {
      "cell_type": "code",
      "source": [
        "# Total number of observations\n",
        "total_count = len(df)\n",
        "\n",
        "# Count occurrences where Age_Group is \"Teen\" and Sports_Interest is \"Yes\"\n",
        "joint_count = len(df[(df['Age_Group'] == 'Teen') & (df['Sports_Interest'] == 'Yes')])\n",
        "\n",
        "# Joint probability\n",
        "joint_probability = joint_count / total_count\n",
        "\n",
        "print(f\"Joint Probability (Teen and Sports Interest Yes): {joint_probability}\")\n"
      ],
      "metadata": {
        "colab": {
          "base_uri": "https://localhost:8080/"
        },
        "id": "M32eM5NPMHNd",
        "outputId": "35e64e55-358f-471c-b583-ca322b9597c0"
      },
      "execution_count": null,
      "outputs": [
        {
          "output_type": "stream",
          "name": "stdout",
          "text": [
            "Joint Probability (Teen and Sports Interest Yes): 0.25\n"
          ]
        }
      ]
    },
    {
      "cell_type": "markdown",
      "source": [
        "## Step 3: Calculating Conditional Probability"
      ],
      "metadata": {
        "id": "OIs1olhPMZgq"
      }
    },
    {
      "cell_type": "code",
      "source": [
        "# Filter data for Age_Group = \"Teen\"\n",
        "teen_data = df[df['Age_Group'] == 'Teen']\n",
        "\n",
        "# Count occurrences of Sports_Interest = \"Yes\" among teens\n",
        "conditional_count = len(teen_data[teen_data['Sports_Interest'] == 'Yes'])\n",
        "\n",
        "# Conditional probability\n",
        "conditional_probability = conditional_count / len(teen_data)\n",
        "\n",
        "print(f\"Conditional Probability (Sports Interest Yes | Age Group Teen): {conditional_probability:.3f}\")\n"
      ],
      "metadata": {
        "colab": {
          "base_uri": "https://localhost:8080/"
        },
        "id": "vMTq6kaKMJdd",
        "outputId": "559e5632-7ca7-44bd-9d59-4f2aeb19f50a"
      },
      "execution_count": null,
      "outputs": [
        {
          "output_type": "stream",
          "name": "stdout",
          "text": [
            "Conditional Probability (Sports Interest Yes | Age Group Teen): 0.667\n"
          ]
        }
      ]
    },
    {
      "cell_type": "markdown",
      "source": [
        "## Step 4: Generalizing with Functions"
      ],
      "metadata": {
        "id": "L2uNqq9zM1I2"
      }
    },
    {
      "cell_type": "code",
      "source": [
        "def calculate_joint_probability(df, condition1, condition2):\n",
        "    total_count = len(df)\n",
        "    joint_count = len(df[(df[condition1[0]] == condition1[1]) & (df[condition2[0]] == condition2[1])])\n",
        "    return joint_count / total_count\n",
        "\n",
        "def calculate_conditional_probability(df, given_condition, target_condition):\n",
        "    subset = df[df[given_condition[0]] == given_condition[1]]\n",
        "    conditional_count = len(subset[subset[target_condition[0]] == target_condition[1]])\n",
        "    return conditional_count / len(subset)\n"
      ],
      "metadata": {
        "id": "VGoD5_-2MMfE"
      },
      "execution_count": null,
      "outputs": []
    },
    {
      "cell_type": "code",
      "source": [
        "# Joint Probability of \"Teen\" and \"Sports_Interest = Yes\"\n",
        "joint_prob = calculate_joint_probability(df, (\"Age_Group\", \"Teen\"), (\"Sports_Interest\", \"Yes\"))\n",
        "print(f\"Joint Probability (Teen and Sports Interest Yes): {joint_prob}\")\n",
        "\n",
        "# Conditional Probability of \"Sports_Interest = Yes\" given \"Age_Group = Teen\"\n",
        "conditional_prob = calculate_conditional_probability(df, (\"Age_Group\", \"Teen\"), (\"Sports_Interest\", \"Yes\"))\n",
        "print(f\"Conditional Probability (Sports Interest Yes | Age Group Teen): {conditional_prob:.3f}\")\n"
      ],
      "metadata": {
        "colab": {
          "base_uri": "https://localhost:8080/"
        },
        "id": "rSEt6qJgMQQN",
        "outputId": "0f5e0527-f942-4f4a-8081-7ec6d4591708"
      },
      "execution_count": null,
      "outputs": [
        {
          "output_type": "stream",
          "name": "stdout",
          "text": [
            "Joint Probability (Teen and Sports Interest Yes): 0.25\n",
            "Conditional Probability (Sports Interest Yes | Age Group Teen): 0.667\n"
          ]
        }
      ]
    }
  ]
}