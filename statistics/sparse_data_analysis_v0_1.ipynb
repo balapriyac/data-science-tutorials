{
  "nbformat": 4,
  "nbformat_minor": 0,
  "metadata": {
    "colab": {
      "provenance": []
    },
    "kernelspec": {
      "name": "python3",
      "display_name": "Python 3"
    },
    "language_info": {
      "name": "python"
    }
  },
  "cells": [
    {
      "cell_type": "markdown",
      "source": [
        "## Imports"
      ],
      "metadata": {
        "id": "DPt0ex-tOHxH"
      }
    },
    {
      "cell_type": "code",
      "execution_count": null,
      "metadata": {
        "id": "0R9gVhnIMrNH"
      },
      "outputs": [],
      "source": [
        "import numpy as np\n",
        "from scipy import sparse\n",
        "import pandas as pd\n",
        "from scipy import stats\n"
      ]
    },
    {
      "cell_type": "markdown",
      "source": [
        "## Creating a Sparse Matrix"
      ],
      "metadata": {
        "id": "M7kq8YzvOKG-"
      }
    },
    {
      "cell_type": "code",
      "source": [
        "# Create a sparse matrix where rows are users and columns are products\n",
        "# Only storing the actual interactions\n",
        "row = np.array([0, 3, 1, 0])     # User IDs\n",
        "col = np.array([0, 3, 1, 2])     # Product IDs\n",
        "data = np.array([4, 5, 7, 9])    # Interaction values (like ratings)\n",
        "\n",
        "# Create the sparse matrix\n",
        "sparse_matrix = sparse.coo_matrix((data, (row, col)), shape=(4, 4))\n",
        "\n",
        "# seeing the sparse matrix as a regular matrix\n",
        "print(\"Here's our sparse matrix as a regular array:\")\n",
        "print(sparse_matrix.toarray())\n"
      ],
      "metadata": {
        "colab": {
          "base_uri": "https://localhost:8080/"
        },
        "id": "RkAQQ8QCMzM7",
        "outputId": "96ee974b-f672-4c59-a965-4626b9bc1cf5"
      },
      "execution_count": null,
      "outputs": [
        {
          "output_type": "stream",
          "name": "stdout",
          "text": [
            "Here's our sparse matrix as a regular array:\n",
            "[[4 0 9 0]\n",
            " [0 7 0 0]\n",
            " [0 0 0 0]\n",
            " [0 0 0 5]]\n"
          ]
        }
      ]
    },
    {
      "cell_type": "markdown",
      "source": [
        "## Basic Statistical Analysis"
      ],
      "metadata": {
        "id": "VRm2aXYiOS3F"
      }
    },
    {
      "cell_type": "code",
      "source": [
        "def calculate_sparse_mean(sparse_matrix):\n",
        "    \"\"\"\n",
        "    Calculate mean of non-zero elements in a sparse matrix.\n",
        "    This is useful when zeros represent 'no data' rather than actual zeros.\n",
        "    \"\"\"\n",
        "    if sparse_matrix.nnz == 0:  # nnz is the number of non-zero elements\n",
        "        return 0.0\n",
        "    return sparse_matrix.sum() / sparse_matrix.nnz\n",
        "\n",
        "mean_value = calculate_sparse_mean(sparse_matrix)\n",
        "print(f\"\\nMean of non-zero elements: {mean_value:.2f}\")\n"
      ],
      "metadata": {
        "colab": {
          "base_uri": "https://localhost:8080/"
        },
        "id": "Dz0BFJXXM1ia",
        "outputId": "d3b9092d-2218-477a-80c5-551fcbf19cd5"
      },
      "execution_count": null,
      "outputs": [
        {
          "output_type": "stream",
          "name": "stdout",
          "text": [
            "\n",
            "Mean of non-zero elements: 6.25\n"
          ]
        }
      ]
    },
    {
      "cell_type": "markdown",
      "source": [
        "## Handling Row and Column Statistics"
      ],
      "metadata": {
        "id": "fDhW59jyOWl1"
      }
    },
    {
      "cell_type": "code",
      "source": [
        "def analyze_row_patterns(sparse_matrix):\n",
        "    \"\"\"\n",
        "    Analyze patterns in each row of a sparse matrix.\n",
        "    Returns dictionary with various row statistics.\n",
        "    \"\"\"\n",
        "    # Convert to CSR format for efficient row operations\n",
        "    csr_matrix = sparse_matrix.tocsr()\n",
        "\n",
        "    # Calculate statistics\n",
        "    row_sums = np.array(csr_matrix.sum(axis=1)).flatten()\n",
        "    row_nonzeros = np.diff(csr_matrix.indptr)  # Number of non-zeros per row\n",
        "\n",
        "    # Calculate means, handling empty rows\n",
        "    row_means = np.zeros_like(row_sums, dtype=float)\n",
        "    mask = row_nonzeros > 0\n",
        "    row_means[mask] = row_sums[mask] / row_nonzeros[mask]\n",
        "\n",
        "    return {\n",
        "        'activity_sum': row_sums,      # Total activity per user\n",
        "        'interaction_count': row_nonzeros,  # Number of interactions per user\n",
        "        'average_value': row_means     # Average value per user\n",
        "    }\n"
      ],
      "metadata": {
        "id": "SF3ygrrvM4Ks"
      },
      "execution_count": null,
      "outputs": []
    },
    {
      "cell_type": "code",
      "source": [
        "stats = analyze_row_patterns(sparse_matrix)\n",
        "print(\"\\nUser Statistics:\")\n",
        "for i, (sum_val, count, mean) in enumerate(zip(\n",
        "    stats['activity_sum'],\n",
        "    stats['interaction_count'],\n",
        "    stats['average_value']\n",
        ")):\n",
        "    print(f\"User {i}: {count} interactions, \"\n",
        "          f\"total activity = {sum_val}, \"\n",
        "          f\"average value = {mean:.2f}\")\n"
      ],
      "metadata": {
        "colab": {
          "base_uri": "https://localhost:8080/"
        },
        "id": "IAzJ8tHRM519",
        "outputId": "52a67420-34d2-4d81-ce3f-4af60177be04"
      },
      "execution_count": null,
      "outputs": [
        {
          "output_type": "stream",
          "name": "stdout",
          "text": [
            "\n",
            "User Statistics:\n",
            "User 0: 2 interactions, total activity = 13, average value = 6.50\n",
            "User 1: 1 interactions, total activity = 7, average value = 7.00\n",
            "User 2: 0 interactions, total activity = 0, average value = 0.00\n",
            "User 3: 1 interactions, total activity = 5, average value = 5.00\n"
          ]
        }
      ]
    },
    {
      "cell_type": "markdown",
      "source": [
        "## Correlation Analysis"
      ],
      "metadata": {
        "id": "m5ETMgcxOatl"
      }
    },
    {
      "cell_type": "code",
      "source": [
        "def calculate_sparse_correlation(sparse_matrix, min_overlap=2):\n",
        "    \"\"\"\n",
        "    Calculate correlation between columns, considering only overlapping non-zero elements.\n",
        "    Like finding which products are often rated similarly.\n",
        "    \"\"\"\n",
        "    # Convert to dense format for this calculation\n",
        "    # (For very large matrices, you'd want to do this differently)\n",
        "    dense_cols = sparse_matrix.toarray().T\n",
        "    n_cols = dense_cols.shape[0]\n",
        "    correlations = np.zeros((n_cols, n_cols))\n",
        "\n",
        "    for i in range(n_cols):\n",
        "        for j in range(i, n_cols):\n",
        "            # Find where both columns have non-zero values\n",
        "            mask = (dense_cols[i] != 0) & (dense_cols[j] != 0)\n",
        "            if mask.sum() >= min_overlap:\n",
        "                corr = stats.pearsonr(dense_cols[i][mask],\n",
        "                                    dense_cols[j][mask])[0]\n",
        "                correlations[i, j] = correlations[j, i] = corr\n",
        "\n",
        "    return correlations"
      ],
      "metadata": {
        "id": "ADRakCn4M8KD"
      },
      "execution_count": null,
      "outputs": []
    },
    {
      "cell_type": "code",
      "source": [
        "corr_matrix = calculate_sparse_correlation(sparse_matrix)\n",
        "print(\"\\nCorrelation matrix:\")\n",
        "print(corr_matrix)"
      ],
      "metadata": {
        "colab": {
          "base_uri": "https://localhost:8080/"
        },
        "id": "7UuFzRB6M979",
        "outputId": "af68a7bc-e862-40bc-ead4-eac28fd5b1f7"
      },
      "execution_count": null,
      "outputs": [
        {
          "output_type": "stream",
          "name": "stdout",
          "text": [
            "\n",
            "Correlation matrix:\n",
            "[[0. 0. 0. 0.]\n",
            " [0. 0. 0. 0.]\n",
            " [0. 0. 0. 0.]\n",
            " [0. 0. 0. 0.]]\n"
          ]
        }
      ]
    }
  ]
}