{
  "nbformat": 4,
  "nbformat_minor": 0,
  "metadata": {
    "colab": {
      "provenance": []
    },
    "kernelspec": {
      "name": "python3",
      "display_name": "Python 3"
    },
    "language_info": {
      "name": "python"
    }
  },
  "cells": [
    {
      "cell_type": "markdown",
      "source": [
        "## Generating a Sample CSV File"
      ],
      "metadata": {
        "id": "OZ9Opn4WYpKW"
      }
    },
    {
      "cell_type": "code",
      "execution_count": 1,
      "metadata": {
        "colab": {
          "base_uri": "https://localhost:8080/"
        },
        "id": "77UQHk7ePRj8",
        "outputId": "12ddc2a6-ddea-4f37-b37e-e4aabbbe00ec"
      },
      "outputs": [
        {
          "output_type": "stream",
          "name": "stdout",
          "text": [
            "Sample CSV file 'sample_sales_data.csv' generated successfully.\n"
          ]
        }
      ],
      "source": [
        "import pandas as pd\n",
        "from datetime import datetime, timedelta\n",
        "import random\n",
        "\n",
        "# Generate random data\n",
        "dates = [datetime.now().date() - timedelta(days=i) for i in range(10)]\n",
        "product_ids = [101, 102, 103, 104, 105]\n",
        "data = []\n",
        "\n",
        "for date in dates:\n",
        "    for product_id in product_ids:\n",
        "        quantity_sold = random.randint(1, 50)\n",
        "        unit_price = round(random.uniform(10, 100), 2)\n",
        "        total_sales = round(quantity_sold * unit_price, 2)\n",
        "        data.append([date, product_id, quantity_sold, unit_price, total_sales])\n",
        "\n",
        "# Create DataFrame and save to CSV\n",
        "df = pd.DataFrame(data, columns=['date', 'product_id', 'quantity_sold', 'unit_price', 'total_sales'])\n",
        "df.to_csv('sample_sales_data.csv', index=False)\n",
        "\n",
        "print(\"Sample CSV file 'sample_sales_data.csv' generated successfully.\")\n"
      ]
    },
    {
      "cell_type": "markdown",
      "source": [
        "## Reading CSV Files"
      ],
      "metadata": {
        "id": "CCNNaNe6YtSC"
      }
    },
    {
      "cell_type": "code",
      "source": [
        "# Import pandas and load CSV file\n",
        "import pandas as pd\n",
        "\n",
        "# Read CSV file\n",
        "df = pd.read_csv('sample_sales_data.csv')\n",
        "\n",
        "# Get the first few rows\n",
        "print(df.head())\n"
      ],
      "metadata": {
        "colab": {
          "base_uri": "https://localhost:8080/"
        },
        "id": "Hiu14lTtTrys",
        "outputId": "95022532-4b5a-4b69-e814-6a7f15469149"
      },
      "execution_count": 2,
      "outputs": [
        {
          "output_type": "stream",
          "name": "stdout",
          "text": [
            "         date  product_id  quantity_sold  unit_price  total_sales\n",
            "0  2024-11-07         101             31       15.63       484.53\n",
            "1  2024-11-07         102             39       84.24      3285.36\n",
            "2  2024-11-07         103             12       34.36       412.32\n",
            "3  2024-11-07         104             16       84.06      1344.96\n",
            "4  2024-11-07         105             50       86.64      4332.00\n"
          ]
        }
      ]
    },
    {
      "cell_type": "markdown",
      "source": [
        "## Exploring and Summarizing Data"
      ],
      "metadata": {
        "id": "tFm4lnhfiww2"
      }
    },
    {
      "cell_type": "code",
      "source": [
        "# Get info about the dataframe\n",
        "print(df.info())"
      ],
      "metadata": {
        "colab": {
          "base_uri": "https://localhost:8080/"
        },
        "id": "ACa8E6voTv7M",
        "outputId": "4103a946-d011-4b3e-a297-01c51a617f26"
      },
      "execution_count": 3,
      "outputs": [
        {
          "output_type": "stream",
          "name": "stdout",
          "text": [
            "<class 'pandas.core.frame.DataFrame'>\n",
            "RangeIndex: 50 entries, 0 to 49\n",
            "Data columns (total 5 columns):\n",
            " #   Column         Non-Null Count  Dtype  \n",
            "---  ------         --------------  -----  \n",
            " 0   date           50 non-null     object \n",
            " 1   product_id     50 non-null     int64  \n",
            " 2   quantity_sold  50 non-null     int64  \n",
            " 3   unit_price     50 non-null     float64\n",
            " 4   total_sales    50 non-null     float64\n",
            "dtypes: float64(2), int64(2), object(1)\n",
            "memory usage: 2.1+ KB\n",
            "None\n"
          ]
        }
      ]
    },
    {
      "cell_type": "code",
      "source": [
        "# Get descriptive statistics\n",
        "print(df.describe())"
      ],
      "metadata": {
        "colab": {
          "base_uri": "https://localhost:8080/"
        },
        "id": "9i8WdD0WTx-T",
        "outputId": "a0a8163f-ed28-4530-cbf9-18651ed056b9"
      },
      "execution_count": 4,
      "outputs": [
        {
          "output_type": "stream",
          "name": "stdout",
          "text": [
            "       product_id  quantity_sold  unit_price  total_sales\n",
            "count   50.000000      50.000000   50.000000    50.000000\n",
            "mean   103.000000      27.180000   58.599400  1559.238800\n",
            "std      1.428571      15.364536   25.783317  1214.010033\n",
            "min    101.000000       2.000000   12.220000   107.740000\n",
            "25%    102.000000      12.000000   34.322500   683.360000\n",
            "50%    103.000000      29.500000   60.145000  1179.510000\n",
            "75%    104.000000      39.750000   83.177500  2209.410000\n",
            "max    105.000000      50.000000   99.830000  4382.000000\n"
          ]
        }
      ]
    },
    {
      "cell_type": "markdown",
      "source": [
        "## Handling Missing Values"
      ],
      "metadata": {
        "id": "29tfueQ4i3-4"
      }
    },
    {
      "cell_type": "code",
      "source": [
        "# Check for missing values\n",
        "missing_values = df.isna().sum()\n",
        "print(missing_values)"
      ],
      "metadata": {
        "colab": {
          "base_uri": "https://localhost:8080/"
        },
        "id": "hvGoPO89i8jh",
        "outputId": "e1fbe8b5-b12c-464b-abca-f1430a2234de"
      },
      "execution_count": 5,
      "outputs": [
        {
          "output_type": "stream",
          "name": "stdout",
          "text": [
            "date             0\n",
            "product_id       0\n",
            "quantity_sold    0\n",
            "unit_price       0\n",
            "total_sales      0\n",
            "dtype: int64\n"
          ]
        }
      ]
    },
    {
      "cell_type": "markdown",
      "source": [
        "## Basic Data Manipulation"
      ],
      "metadata": {
        "id": "_ZP9K4ryi_gu"
      }
    },
    {
      "cell_type": "code",
      "source": [
        "# Filter rows where quantity_sold is greater than 20\n",
        "high_sales = df[df['quantity_sold'] > 20]\n",
        "print(high_sales)"
      ],
      "metadata": {
        "colab": {
          "base_uri": "https://localhost:8080/"
        },
        "id": "AKWSXob-T2Kk",
        "outputId": "23076cdc-8e29-4b1d-af42-cdeba228c03b"
      },
      "execution_count": 6,
      "outputs": [
        {
          "output_type": "stream",
          "name": "stdout",
          "text": [
            "          date  product_id  quantity_sold  unit_price  total_sales\n",
            "0   2024-11-07         101             31       15.63       484.53\n",
            "1   2024-11-07         102             39       84.24      3285.36\n",
            "4   2024-11-07         105             50       86.64      4332.00\n",
            "6   2024-11-06         102             36       26.02       936.72\n",
            "7   2024-11-06         103             46       62.21      2861.66\n",
            "8   2024-11-06         104             36       32.02      1152.72\n",
            "9   2024-11-06         105             37       22.46       831.02\n",
            "11  2024-11-05         102             32       50.31      1609.92\n",
            "15  2024-11-04         101             43       90.23      3879.89\n",
            "16  2024-11-04         102             49       28.86      1414.14\n",
            "17  2024-11-04         103             48       45.57      2187.36\n",
            "20  2024-11-03         101             33       52.68      1738.44\n",
            "21  2024-11-03         102             33       59.96      1978.68\n",
            "23  2024-11-03         104             40       78.17      3126.80\n",
            "24  2024-11-03         105             36       18.28       658.08\n",
            "25  2024-11-02         101             47       52.16      2451.52\n",
            "26  2024-11-02         102             24       37.47       899.28\n",
            "27  2024-11-02         103             50       87.64      4382.00\n",
            "30  2024-11-01         101             23       60.33      1387.59\n",
            "31  2024-11-01         102             24       33.73       809.52\n",
            "33  2024-11-01         104             24       74.41      1785.84\n",
            "34  2024-11-01         105             45       25.20      1134.00\n",
            "35  2024-10-31         101             39       69.15      2696.85\n",
            "36  2024-10-31         102             42       40.64      1706.88\n",
            "37  2024-10-31         103             48       83.70      4017.60\n",
            "38  2024-10-31         104             41       46.56      1908.96\n",
            "39  2024-10-31         105             29       76.44      2216.76\n",
            "40  2024-10-30         101             22       13.99       307.78\n",
            "41  2024-10-30         102             48       89.56      4298.88\n",
            "43  2024-10-30         104             27       95.67      2583.09\n",
            "46  2024-10-29         102             34       34.31      1166.54\n",
            "47  2024-10-29         103             30       87.65      2629.50\n"
          ]
        }
      ]
    },
    {
      "cell_type": "code",
      "source": [
        "# Select specific columns\n",
        "selected_columns = df[['date', 'product_id', 'total_sales']]\n",
        "print(selected_columns)\n"
      ],
      "metadata": {
        "colab": {
          "base_uri": "https://localhost:8080/"
        },
        "id": "_Or-k5zXT4qp",
        "outputId": "704ffb29-ad68-4b9b-aefb-71d95dd3bda4"
      },
      "execution_count": 7,
      "outputs": [
        {
          "output_type": "stream",
          "name": "stdout",
          "text": [
            "          date  product_id  total_sales\n",
            "0   2024-11-07         101       484.53\n",
            "1   2024-11-07         102      3285.36\n",
            "2   2024-11-07         103       412.32\n",
            "3   2024-11-07         104      1344.96\n",
            "4   2024-11-07         105      4332.00\n",
            "5   2024-11-06         101       816.10\n",
            "6   2024-11-06         102       936.72\n",
            "7   2024-11-06         103      2861.66\n",
            "8   2024-11-06         104      1152.72\n",
            "9   2024-11-06         105       831.02\n",
            "10  2024-11-05         101       121.92\n",
            "11  2024-11-05         102      1609.92\n",
            "12  2024-11-05         103       798.64\n",
            "13  2024-11-05         104       843.26\n",
            "14  2024-11-05         105       357.55\n",
            "15  2024-11-04         101      3879.89\n",
            "16  2024-11-04         102      1414.14\n",
            "17  2024-11-04         103      2187.36\n",
            "18  2024-11-04         104       619.40\n",
            "19  2024-11-04         105      1192.48\n",
            "20  2024-11-03         101      1738.44\n",
            "21  2024-11-03         102      1978.68\n",
            "22  2024-11-03         103       583.60\n",
            "23  2024-11-03         104      3126.80\n",
            "24  2024-11-03         105       658.08\n",
            "25  2024-11-02         101      2451.52\n",
            "26  2024-11-02         102       899.28\n",
            "27  2024-11-02         103      4382.00\n",
            "28  2024-11-02         104       232.50\n",
            "29  2024-11-02         105       146.64\n",
            "30  2024-11-01         101      1387.59\n",
            "31  2024-11-01         102       809.52\n",
            "32  2024-11-01         103       107.74\n",
            "33  2024-11-01         104      1785.84\n",
            "34  2024-11-01         105      1134.00\n",
            "35  2024-10-31         101      2696.85\n",
            "36  2024-10-31         102      1706.88\n",
            "37  2024-10-31         103      4017.60\n",
            "38  2024-10-31         104      1908.96\n",
            "39  2024-10-31         105      2216.76\n",
            "40  2024-10-30         101       307.78\n",
            "41  2024-10-30         102      4298.88\n",
            "42  2024-10-30         103       788.94\n",
            "43  2024-10-30         104      2583.09\n",
            "44  2024-10-30         105       390.24\n",
            "45  2024-10-29         101       759.20\n",
            "46  2024-10-29         102      1166.54\n",
            "47  2024-10-29         103      2629.50\n",
            "48  2024-10-29         104      1447.72\n",
            "49  2024-10-29         105       138.82\n"
          ]
        }
      ]
    },
    {
      "cell_type": "code",
      "source": [
        "# Add a new column for discounted sales\n",
        "df['discounted_sales'] = df['total_sales'] * 0.9\n",
        "print(df.head())\n"
      ],
      "metadata": {
        "colab": {
          "base_uri": "https://localhost:8080/"
        },
        "id": "78ciz9AYT6ik",
        "outputId": "ec29191b-a810-483c-bee4-9690d3181a6b"
      },
      "execution_count": 8,
      "outputs": [
        {
          "output_type": "stream",
          "name": "stdout",
          "text": [
            "         date  product_id  quantity_sold  unit_price  total_sales  \\\n",
            "0  2024-11-07         101             31       15.63       484.53   \n",
            "1  2024-11-07         102             39       84.24      3285.36   \n",
            "2  2024-11-07         103             12       34.36       412.32   \n",
            "3  2024-11-07         104             16       84.06      1344.96   \n",
            "4  2024-11-07         105             50       86.64      4332.00   \n",
            "\n",
            "   discounted_sales  \n",
            "0           436.077  \n",
            "1          2956.824  \n",
            "2           371.088  \n",
            "3          1210.464  \n",
            "4          3898.800  \n"
          ]
        }
      ]
    },
    {
      "cell_type": "markdown",
      "source": [
        "## Grouping and Aggregating Data"
      ],
      "metadata": {
        "id": "KKYniMeahbBJ"
      }
    },
    {
      "cell_type": "code",
      "source": [
        "# Calculate total sales by product_id\n",
        "total_sales_by_product = df.groupby('product_id')['total_sales'].sum().reset_index()\n",
        "print(total_sales_by_product)\n"
      ],
      "metadata": {
        "colab": {
          "base_uri": "https://localhost:8080/"
        },
        "id": "zPz_7ENSUCJX",
        "outputId": "236ea652-73f3-4cd0-a33f-bb131b27d62d"
      },
      "execution_count": 9,
      "outputs": [
        {
          "output_type": "stream",
          "name": "stdout",
          "text": [
            "   product_id  total_sales\n",
            "0         101     14643.82\n",
            "1         102     18105.92\n",
            "2         103     18769.36\n",
            "3         104     15045.25\n",
            "4         105     11397.59\n"
          ]
        }
      ]
    },
    {
      "cell_type": "code",
      "source": [
        "# Calculate total and average sales grouped by product_id\n",
        "sales_summary = df.groupby('product_id').agg(total_sales=('total_sales', 'sum'), average_sales=('total_sales', 'mean')).reset_index()\n",
        "print(sales_summary)\n"
      ],
      "metadata": {
        "colab": {
          "base_uri": "https://localhost:8080/"
        },
        "id": "XNL8muM_UEGv",
        "outputId": "7da7cba5-9480-48bd-f7c6-d84f932c5ead"
      },
      "execution_count": 10,
      "outputs": [
        {
          "output_type": "stream",
          "name": "stdout",
          "text": [
            "   product_id  total_sales  average_sales\n",
            "0         101     14643.82       1464.382\n",
            "1         102     18105.92       1810.592\n",
            "2         103     18769.36       1876.936\n",
            "3         104     15045.25       1504.525\n",
            "4         105     11397.59       1139.759\n"
          ]
        }
      ]
    }
  ]
}