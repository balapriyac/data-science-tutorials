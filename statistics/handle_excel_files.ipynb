{
  "nbformat": 4,
  "nbformat_minor": 0,
  "metadata": {
    "colab": {
      "provenance": []
    },
    "kernelspec": {
      "name": "python3",
      "display_name": "Python 3"
    },
    "language_info": {
      "name": "python"
    }
  },
  "cells": [
    {
      "cell_type": "markdown",
      "source": [
        "## Generating a Sample Excel File"
      ],
      "metadata": {
        "id": "TJ5jHxsTviGe"
      }
    },
    {
      "cell_type": "code",
      "execution_count": null,
      "metadata": {
        "id": "oGEfUQfJolvB",
        "colab": {
          "base_uri": "https://localhost:8080/"
        },
        "outputId": "8b18535d-bdfc-4198-a405-2071610bec82"
      },
      "outputs": [
        {
          "output_type": "stream",
          "name": "stdout",
          "text": [
            "Sample Excel file 'employee_data.xlsx' generated successfully.\n"
          ]
        }
      ],
      "source": [
        "import pandas as pd\n",
        "\n",
        "# Sample employee data\n",
        "data = {\n",
        "    'employee_id': [101, 102, 103, 104, 105],\n",
        "    'name': ['Alice', 'Bob', 'Charlie', 'David', 'Eva'],\n",
        "    'department': ['HR', 'Finance', 'IT', 'Sales', 'Marketing'],\n",
        "    'salary': [55000, 62000, 72000, 50000, 57000],\n",
        "    'performance_score': [3.8, 4.2, 4.5, 3.5, 4.0],\n",
        "    'years_at_company': [2, 5, 3, 4, 1]\n",
        "}\n",
        "\n",
        "# Create a DataFrame\n",
        "df = pd.DataFrame(data)\n",
        "\n",
        "# Save to an Excel file\n",
        "df.to_excel('employee_data.xlsx', index=False)\n",
        "\n",
        "print(\"Sample Excel file 'employee_data.xlsx' generated successfully.\")"
      ]
    },
    {
      "cell_type": "markdown",
      "source": [
        "## Reading in the Excel File"
      ],
      "metadata": {
        "id": "o0EPIZ8bvlWR"
      }
    },
    {
      "cell_type": "code",
      "source": [
        "# Read Excel file into a DataFrame\n",
        "df = pd.read_excel('employee_data.xlsx')\n",
        "\n",
        "print(df.head())"
      ],
      "metadata": {
        "colab": {
          "base_uri": "https://localhost:8080/"
        },
        "id": "cBRgGP-Wvs-P",
        "outputId": "c423480e-8cff-40f5-ef1a-fb3e5a55c0d6"
      },
      "execution_count": null,
      "outputs": [
        {
          "output_type": "stream",
          "name": "stdout",
          "text": [
            "   employee_id     name department  salary  performance_score  \\\n",
            "0          101    Alice         HR   55000                3.8   \n",
            "1          102      Bob    Finance   62000                4.2   \n",
            "2          103  Charlie         IT   72000                4.5   \n",
            "3          104    David      Sales   50000                3.5   \n",
            "4          105      Eva  Marketing   57000                4.0   \n",
            "\n",
            "   years_at_company  \n",
            "0                 2  \n",
            "1                 5  \n",
            "2                 3  \n",
            "3                 4  \n",
            "4                 1  \n"
          ]
        }
      ]
    },
    {
      "cell_type": "markdown",
      "source": [
        "## Exploring and Summarizing Data"
      ],
      "metadata": {
        "id": "ldEpbTVevteH"
      }
    },
    {
      "cell_type": "code",
      "source": [
        "# Get info about the DataFrame\n",
        "print(df.info())"
      ],
      "metadata": {
        "colab": {
          "base_uri": "https://localhost:8080/"
        },
        "id": "MCwxQH84vv5u",
        "outputId": "49d9df4b-94e6-4fd2-e515-d6ebdf5a2a85"
      },
      "execution_count": null,
      "outputs": [
        {
          "output_type": "stream",
          "name": "stdout",
          "text": [
            "<class 'pandas.core.frame.DataFrame'>\n",
            "RangeIndex: 5 entries, 0 to 4\n",
            "Data columns (total 6 columns):\n",
            " #   Column             Non-Null Count  Dtype  \n",
            "---  ------             --------------  -----  \n",
            " 0   employee_id        5 non-null      int64  \n",
            " 1   name               5 non-null      object \n",
            " 2   department         5 non-null      object \n",
            " 3   salary             5 non-null      int64  \n",
            " 4   performance_score  5 non-null      float64\n",
            " 5   years_at_company   5 non-null      int64  \n",
            "dtypes: float64(1), int64(3), object(2)\n",
            "memory usage: 368.0+ bytes\n",
            "None\n"
          ]
        }
      ]
    },
    {
      "cell_type": "code",
      "source": [
        "# Get descriptive statistics\n",
        "print(df.describe())"
      ],
      "metadata": {
        "colab": {
          "base_uri": "https://localhost:8080/"
        },
        "id": "UF_BXV17wUyv",
        "outputId": "ef65974f-d366-4d99-9b6f-2a776bb9a2ca"
      },
      "execution_count": null,
      "outputs": [
        {
          "output_type": "stream",
          "name": "stdout",
          "text": [
            "       employee_id        salary  performance_score  years_at_company\n",
            "count     5.000000      5.000000           5.000000          5.000000\n",
            "mean    103.000000  59200.000000           4.000000          3.000000\n",
            "std       1.581139   8348.652586           0.380789          1.581139\n",
            "min     101.000000  50000.000000           3.500000          1.000000\n",
            "25%     102.000000  55000.000000           3.800000          2.000000\n",
            "50%     103.000000  57000.000000           4.000000          3.000000\n",
            "75%     104.000000  62000.000000           4.200000          4.000000\n",
            "max     105.000000  72000.000000           4.500000          5.000000\n"
          ]
        }
      ]
    },
    {
      "cell_type": "markdown",
      "source": [
        "## Handling Missing Values"
      ],
      "metadata": {
        "id": "rVlV_FmmvwOP"
      }
    },
    {
      "cell_type": "code",
      "source": [
        "# Check for missing values\n",
        "missing_values = df.isna().sum()\n",
        "print(missing_values)"
      ],
      "metadata": {
        "colab": {
          "base_uri": "https://localhost:8080/"
        },
        "id": "5vMERpSvvzmH",
        "outputId": "8c9292f5-aa19-4f19-a2e6-76aaaaee6e82"
      },
      "execution_count": null,
      "outputs": [
        {
          "output_type": "stream",
          "name": "stdout",
          "text": [
            "employee_id          0\n",
            "name                 0\n",
            "department           0\n",
            "salary               0\n",
            "performance_score    0\n",
            "years_at_company     0\n",
            "dtype: int64\n"
          ]
        }
      ]
    },
    {
      "cell_type": "code",
      "source": [
        "# Fill missing performance scores with the average\n",
        "df['performance_score'] = df['performance_score'].fillna(df['performance_score'].mean())"
      ],
      "metadata": {
        "id": "f8QMM_3UweNm"
      },
      "execution_count": null,
      "outputs": []
    },
    {
      "cell_type": "markdown",
      "source": [
        "## Basic Data Manipulation"
      ],
      "metadata": {
        "id": "UoQF_uYxv2kR"
      }
    },
    {
      "cell_type": "code",
      "source": [
        " # Filter employees with a performance score above 4\n",
        "high_performers = df[df['performance_score'] > 4]\n",
        "print(high_performers)"
      ],
      "metadata": {
        "colab": {
          "base_uri": "https://localhost:8080/"
        },
        "id": "gyWnuUX8v10g",
        "outputId": "aad60691-ddfa-461e-efa5-0889de7bf047"
      },
      "execution_count": null,
      "outputs": [
        {
          "output_type": "stream",
          "name": "stdout",
          "text": [
            "   employee_id     name department  salary  performance_score  \\\n",
            "1          102      Bob    Finance   62000                4.2   \n",
            "2          103  Charlie         IT   72000                4.5   \n",
            "\n",
            "   years_at_company  \n",
            "1                 5  \n",
            "2                 3  \n"
          ]
        }
      ]
    },
    {
      "cell_type": "code",
      "source": [
        "# Select specific columns\n",
        "selected_columns = df[['name', 'department', 'salary']]\n",
        "print(selected_columns)"
      ],
      "metadata": {
        "colab": {
          "base_uri": "https://localhost:8080/"
        },
        "id": "2NYJXMEywkNm",
        "outputId": "5e3fe3ee-fe57-476d-d45b-84f8c41f3324"
      },
      "execution_count": null,
      "outputs": [
        {
          "output_type": "stream",
          "name": "stdout",
          "text": [
            "      name department  salary\n",
            "0    Alice         HR   55000\n",
            "1      Bob    Finance   62000\n",
            "2  Charlie         IT   72000\n",
            "3    David      Sales   50000\n",
            "4      Eva  Marketing   57000\n"
          ]
        }
      ]
    },
    {
      "cell_type": "code",
      "source": [
        "# Add a new column for bonus\n",
        "df['bonus'] = df['salary'].apply(lambda x: x * 0.10)\n",
        "print(df.head())"
      ],
      "metadata": {
        "colab": {
          "base_uri": "https://localhost:8080/"
        },
        "id": "jiVSYWN5wmO-",
        "outputId": "2aae7e21-c9b5-4b62-9e99-06265a1dfae1"
      },
      "execution_count": null,
      "outputs": [
        {
          "output_type": "stream",
          "name": "stdout",
          "text": [
            "   employee_id     name department  salary  performance_score  \\\n",
            "0          101    Alice         HR   55000                3.8   \n",
            "1          102      Bob    Finance   62000                4.2   \n",
            "2          103  Charlie         IT   72000                4.5   \n",
            "3          104    David      Sales   50000                3.5   \n",
            "4          105      Eva  Marketing   57000                4.0   \n",
            "\n",
            "   years_at_company   bonus  \n",
            "0                 2  5500.0  \n",
            "1                 5  6200.0  \n",
            "2                 3  7200.0  \n",
            "3                 4  5000.0  \n",
            "4                 1  5700.0  \n"
          ]
        }
      ]
    },
    {
      "cell_type": "markdown",
      "source": [
        "## Grouping and Aggregating Data"
      ],
      "metadata": {
        "id": "O3B9eGDsv8Bs"
      }
    },
    {
      "cell_type": "code",
      "source": [
        "# Calculate average salary grouped by department\n",
        "average_salary_by_department = df.groupby('department')['salary'].mean().reset_index()\n",
        "print(average_salary_by_department)"
      ],
      "metadata": {
        "colab": {
          "base_uri": "https://localhost:8080/"
        },
        "id": "nKeNszX6v9QA",
        "outputId": "8e5170dc-51f9-4032-9bfa-b0cd5404e651"
      },
      "execution_count": null,
      "outputs": [
        {
          "output_type": "stream",
          "name": "stdout",
          "text": [
            "  department   salary\n",
            "0    Finance  62000.0\n",
            "1         HR  55000.0\n",
            "2         IT  72000.0\n",
            "3  Marketing  57000.0\n",
            "4      Sales  50000.0\n"
          ]
        }
      ]
    }
  ]
}