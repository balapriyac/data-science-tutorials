{
  "nbformat": 4,
  "nbformat_minor": 0,
  "metadata": {
    "colab": {
      "provenance": []
    },
    "kernelspec": {
      "name": "python3",
      "display_name": "Python 3"
    },
    "language_info": {
      "name": "python"
    }
  },
  "cells": [
    {
      "cell_type": "markdown",
      "source": [
        "## 1. Python’s Built-in Statistics Module"
      ],
      "metadata": {
        "id": "_mcraYkAMRal"
      }
    },
    {
      "cell_type": "code",
      "execution_count": 1,
      "metadata": {
        "colab": {
          "base_uri": "https://localhost:8080/"
        },
        "id": "ctakakMpMNTQ",
        "outputId": "b0a39953-35a7-4839-f752-eadccb7c97b0"
      },
      "outputs": [
        {
          "output_type": "stream",
          "name": "stdout",
          "text": [
            "Mean of data1: 15.857142857142858\n",
            "Mean of data2: 21\n",
            "Mean difference: 5.142857142857142\n"
          ]
        }
      ],
      "source": [
        "import statistics as stats\n",
        "\n",
        "# Sample data\n",
        "data1 = [10, 12, 14, 15, 18, 20, 22]\n",
        "data2 = [16, 18, 20, 21, 22, 24, 26]\n",
        "\n",
        "# Calculate means\n",
        "mean1 = stats.mean(data1)\n",
        "mean2 = stats.mean(data2)\n",
        "\n",
        "# Mean difference\n",
        "mean_diff = mean2 - mean1\n",
        "\n",
        "print(f\"Mean of data1: {mean1}\")\n",
        "print(f\"Mean of data2: {mean2}\")\n",
        "print(f\"Mean difference: {mean_diff}\")"
      ]
    },
    {
      "cell_type": "markdown",
      "source": [
        "## 2. NumPy"
      ],
      "metadata": {
        "id": "NCtIl8XjMbQO"
      }
    },
    {
      "cell_type": "code",
      "source": [
        "import numpy as np\n",
        "\n",
        "# Example data\n",
        "X = np.random.rand(100)\n",
        "y = 2 * X + np.random.randn(100) * 0.2\n",
        "\n",
        "X = np.vstack([np.ones(len(X)), X]).T\n",
        "\n",
        "# Linear regression\n",
        "beta = np.linalg.inv(X.T @ X) @ X.T @ y\n",
        "\n",
        "print(f\"Intercept: {beta[0]:.2f}\")\n",
        "print(f\"Coefficient: {beta[1]:.2f}\")"
      ],
      "metadata": {
        "colab": {
          "base_uri": "https://localhost:8080/"
        },
        "id": "oJQmxCWRMXa6",
        "outputId": "1345c2df-ac4a-410f-ccd5-40d063b0cd87"
      },
      "execution_count": 5,
      "outputs": [
        {
          "output_type": "stream",
          "name": "stdout",
          "text": [
            "Intercept: 0.07\n",
            "Coefficient: 1.89\n"
          ]
        }
      ]
    },
    {
      "cell_type": "markdown",
      "source": [
        "## 3. SciPy"
      ],
      "metadata": {
        "id": "0eWqD5JRQsCs"
      }
    },
    {
      "cell_type": "code",
      "source": [
        "from scipy import stats\n",
        "\n",
        "# Sample data\n",
        "data1 = [10, 11, 14, 15, 18, 19, 21]\n",
        "data2 = [16, 18, 20, 21, 22, 24, 26]\n",
        "\n",
        "# Perform t-test\n",
        "t_stat, p_val = stats.ttest_ind(data1, data2)\n",
        "\n",
        "print(f\"T-statistic: {t_stat:.2f}\")\n",
        "print(f\"P-value: {p_val:.2f}\")"
      ],
      "metadata": {
        "colab": {
          "base_uri": "https://localhost:8080/"
        },
        "id": "l5rbG1RdMfX4",
        "outputId": "082cac7e-851a-4465-8558-a67b7c5e5e70"
      },
      "execution_count": 6,
      "outputs": [
        {
          "output_type": "stream",
          "name": "stdout",
          "text": [
            "T-statistic: -2.76\n",
            "P-value: 0.02\n"
          ]
        }
      ]
    },
    {
      "cell_type": "markdown",
      "source": [
        "## 4. Statsmodels"
      ],
      "metadata": {
        "id": "bgtvxd7BUHuW"
      }
    },
    {
      "cell_type": "code",
      "source": [
        "import statsmodels.api as sm\n",
        "import numpy as np\n",
        "\n",
        "# Example data\n",
        "X = np.random.rand(100)\n",
        "y = 2 * X + np.random.randn(100) * 0.3\n",
        "\n",
        "X = sm.add_constant(X)\n",
        "\n",
        "# Fitting the regression model\n",
        "model = sm.OLS(y, X).fit()\n",
        "\n",
        "# Model summary\n",
        "print(model.summary())\n"
      ],
      "metadata": {
        "colab": {
          "base_uri": "https://localhost:8080/"
        },
        "id": "lO5ZXxMZQ3_N",
        "outputId": "14d2e939-b9e9-42f7-e2ea-62c17f3e1a88"
      },
      "execution_count": 7,
      "outputs": [
        {
          "output_type": "stream",
          "name": "stdout",
          "text": [
            "                            OLS Regression Results                            \n",
            "==============================================================================\n",
            "Dep. Variable:                      y   R-squared:                       0.812\n",
            "Model:                            OLS   Adj. R-squared:                  0.810\n",
            "Method:                 Least Squares   F-statistic:                     423.9\n",
            "Date:                Wed, 14 Aug 2024   Prob (F-statistic):           2.27e-37\n",
            "Time:                        09:57:59   Log-Likelihood:                -14.206\n",
            "No. Observations:                 100   AIC:                             32.41\n",
            "Df Residuals:                      98   BIC:                             37.62\n",
            "Df Model:                           1                                         \n",
            "Covariance Type:            nonrobust                                         \n",
            "==============================================================================\n",
            "                 coef    std err          t      P>|t|      [0.025      0.975]\n",
            "------------------------------------------------------------------------------\n",
            "const          0.0420      0.053      0.800      0.426      -0.062       0.146\n",
            "x1             1.9012      0.092     20.590      0.000       1.718       2.084\n",
            "==============================================================================\n",
            "Omnibus:                        2.433   Durbin-Watson:                   1.804\n",
            "Prob(Omnibus):                  0.296   Jarque-Bera (JB):                1.852\n",
            "Skew:                          -0.303   Prob(JB):                        0.396\n",
            "Kurtosis:                       3.276   Cond. No.                         4.10\n",
            "==============================================================================\n",
            "\n",
            "Notes:\n",
            "[1] Standard Errors assume that the covariance matrix of the errors is correctly specified.\n"
          ]
        }
      ]
    },
    {
      "cell_type": "markdown",
      "source": [
        "## 5. Pingouin"
      ],
      "metadata": {
        "id": "pfeHYe75GY70"
      }
    },
    {
      "cell_type": "code",
      "source": [
        "! pip install pingouin"
      ],
      "metadata": {
        "colab": {
          "base_uri": "https://localhost:8080/"
        },
        "id": "4y36SPqwGk71",
        "outputId": "156145e8-cfc4-4b73-e326-74512ddef756"
      },
      "execution_count": 2,
      "outputs": [
        {
          "output_type": "stream",
          "name": "stdout",
          "text": [
            "Collecting pingouin\n",
            "  Downloading pingouin-0.5.4-py2.py3-none-any.whl.metadata (1.1 kB)\n",
            "Requirement already satisfied: numpy in /usr/local/lib/python3.10/dist-packages (from pingouin) (1.26.4)\n",
            "Requirement already satisfied: scipy in /usr/local/lib/python3.10/dist-packages (from pingouin) (1.13.1)\n",
            "Requirement already satisfied: pandas>=1.5 in /usr/local/lib/python3.10/dist-packages (from pingouin) (2.1.4)\n",
            "Requirement already satisfied: matplotlib in /usr/local/lib/python3.10/dist-packages (from pingouin) (3.7.1)\n",
            "Requirement already satisfied: seaborn in /usr/local/lib/python3.10/dist-packages (from pingouin) (0.13.1)\n",
            "Requirement already satisfied: statsmodels in /usr/local/lib/python3.10/dist-packages (from pingouin) (0.14.2)\n",
            "Requirement already satisfied: scikit-learn in /usr/local/lib/python3.10/dist-packages (from pingouin) (1.3.2)\n",
            "Collecting pandas-flavor (from pingouin)\n",
            "  Downloading pandas_flavor-0.6.0-py3-none-any.whl.metadata (6.3 kB)\n",
            "Requirement already satisfied: tabulate in /usr/local/lib/python3.10/dist-packages (from pingouin) (0.9.0)\n",
            "Requirement already satisfied: python-dateutil>=2.8.2 in /usr/local/lib/python3.10/dist-packages (from pandas>=1.5->pingouin) (2.8.2)\n",
            "Requirement already satisfied: pytz>=2020.1 in /usr/local/lib/python3.10/dist-packages (from pandas>=1.5->pingouin) (2024.1)\n",
            "Requirement already satisfied: tzdata>=2022.1 in /usr/local/lib/python3.10/dist-packages (from pandas>=1.5->pingouin) (2024.1)\n",
            "Requirement already satisfied: contourpy>=1.0.1 in /usr/local/lib/python3.10/dist-packages (from matplotlib->pingouin) (1.2.1)\n",
            "Requirement already satisfied: cycler>=0.10 in /usr/local/lib/python3.10/dist-packages (from matplotlib->pingouin) (0.12.1)\n",
            "Requirement already satisfied: fonttools>=4.22.0 in /usr/local/lib/python3.10/dist-packages (from matplotlib->pingouin) (4.53.1)\n",
            "Requirement already satisfied: kiwisolver>=1.0.1 in /usr/local/lib/python3.10/dist-packages (from matplotlib->pingouin) (1.4.5)\n",
            "Requirement already satisfied: packaging>=20.0 in /usr/local/lib/python3.10/dist-packages (from matplotlib->pingouin) (24.1)\n",
            "Requirement already satisfied: pillow>=6.2.0 in /usr/local/lib/python3.10/dist-packages (from matplotlib->pingouin) (9.4.0)\n",
            "Requirement already satisfied: pyparsing>=2.3.1 in /usr/local/lib/python3.10/dist-packages (from matplotlib->pingouin) (3.1.2)\n",
            "Requirement already satisfied: xarray in /usr/local/lib/python3.10/dist-packages (from pandas-flavor->pingouin) (2024.6.0)\n",
            "Requirement already satisfied: joblib>=1.1.1 in /usr/local/lib/python3.10/dist-packages (from scikit-learn->pingouin) (1.4.2)\n",
            "Requirement already satisfied: threadpoolctl>=2.0.0 in /usr/local/lib/python3.10/dist-packages (from scikit-learn->pingouin) (3.5.0)\n",
            "Requirement already satisfied: patsy>=0.5.6 in /usr/local/lib/python3.10/dist-packages (from statsmodels->pingouin) (0.5.6)\n",
            "Requirement already satisfied: six in /usr/local/lib/python3.10/dist-packages (from patsy>=0.5.6->statsmodels->pingouin) (1.16.0)\n",
            "Downloading pingouin-0.5.4-py2.py3-none-any.whl (198 kB)\n",
            "\u001b[2K   \u001b[90m━━━━━━━━━━━━━━━━━━━━━━━━━━━━━━━━━━━━━━━━\u001b[0m \u001b[32m198.9/198.9 kB\u001b[0m \u001b[31m5.9 MB/s\u001b[0m eta \u001b[36m0:00:00\u001b[0m\n",
            "\u001b[?25hDownloading pandas_flavor-0.6.0-py3-none-any.whl (7.2 kB)\n",
            "Installing collected packages: pandas-flavor, pingouin\n",
            "Successfully installed pandas-flavor-0.6.0 pingouin-0.5.4\n"
          ]
        }
      ]
    },
    {
      "cell_type": "code",
      "source": [
        "import pingouin as pg\n",
        "import pandas as pd\n",
        "\n",
        "# Sample data\n",
        "data = pd.DataFrame({\n",
        "\t'Value': [1, 2, 3, 4, 5, 6, 7, 8, 9, 10, 11, 12],\n",
        "\t'Group': ['A', 'A', 'A', 'A', 'B', 'B', 'B', 'C', 'C', 'D', 'D', 'E']\n",
        "})\n",
        "\n",
        "# Perform ANOVA\n",
        "anova = pg.anova(data=data, dv='Value', between='Group')\n",
        "\n",
        "print(anova)"
      ],
      "metadata": {
        "colab": {
          "base_uri": "https://localhost:8080/"
        },
        "id": "HS75JlIeUpwO",
        "outputId": "8b849c9e-54b1-4969-e175-655805dae1f2"
      },
      "execution_count": 3,
      "outputs": [
        {
          "output_type": "stream",
          "name": "stdout",
          "text": [
            "  Source  ddof1  ddof2         F     p-unc       np2\n",
            "0  Group      4      7  29.53125  0.000178  0.944056\n"
          ]
        }
      ]
    }
  ]
}