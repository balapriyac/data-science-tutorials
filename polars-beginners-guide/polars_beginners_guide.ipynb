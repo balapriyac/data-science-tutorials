{
  "nbformat": 4,
  "nbformat_minor": 0,
  "metadata": {
    "colab": {
      "provenance": []
    },
    "kernelspec": {
      "name": "python3",
      "display_name": "Python 3"
    },
    "language_info": {
      "name": "python"
    }
  },
  "cells": [
    {
      "cell_type": "code",
      "execution_count": null,
      "metadata": {
        "id": "K3KrTpP6Rngo"
      },
      "outputs": [],
      "source": [
        "import polars as pl\n",
        "import numpy as np\n",
        "from datetime import datetime, timedelta"
      ]
    },
    {
      "cell_type": "code",
      "source": [
        "# Set up for consistent results\n",
        "np.random.seed(42)\n",
        "\n",
        "# Create realistic coffee shop data\n",
        "def generate_coffee_data():\n",
        "    n_records = 2000  # 2000 transactions over 6 months\n",
        "\n",
        "    # Coffee menu items with realistic prices\n",
        "    menu_items = ['Espresso', 'Cappuccino', 'Latte', 'Americano', 'Mocha', 'Cold Brew']\n",
        "    prices = [2.50, 4.00, 4.50, 3.00, 5.00, 3.50]\n",
        "\n",
        "    # Generate dates over 6 months\n",
        "    start_date = datetime(2023, 6, 1)\n",
        "    dates = [start_date + timedelta(days=np.random.randint(0, 180))\n",
        "             for _ in range(n_records)]\n",
        "\n",
        "    data = {\n",
        "        'date': dates,\n",
        "        'drink': np.random.choice(menu_items, n_records),\n",
        "        'price': [prices[menu_items.index(drink)] for drink in\n",
        "                  np.random.choice(menu_items, n_records)],\n",
        "        'quantity': np.random.choice([1, 1, 1, 2, 2, 3], n_records),  # Most people buy 1\n",
        "        'customer_type': np.random.choice(['Regular', 'New', 'Tourist'],\n",
        "                                        n_records, p=[0.5, 0.3, 0.2]),\n",
        "        'payment_method': np.random.choice(['Card', 'Cash', 'Mobile'],\n",
        "                                         n_records, p=[0.6, 0.2, 0.2]),\n",
        "        'rating': np.random.choice([2,3, 4, 5], n_records, p=[0.1, 0.4, 0.4, 0.1])\n",
        "    }\n",
        "    return data\n",
        "\n",
        "# Create our coffee shop DataFrame\n",
        "coffee_data = generate_coffee_data()\n",
        "df = pl.DataFrame(coffee_data)\n"
      ],
      "metadata": {
        "id": "Cf94gocPRs6G"
      },
      "execution_count": null,
      "outputs": []
    },
    {
      "cell_type": "code",
      "source": [
        "# Take a peek at your data\n",
        "print(\"First 5 transactions:\")\n",
        "print(df.head())\n",
        "\n",
        "print(\"\\nWhat types of data do we have?\")\n",
        "print(df.schema)\n",
        "\n",
        "print(\"\\nHow big is our dataset?\")\n",
        "print(f\"We have {df.height} transactions and {df.width} columns\")\n"
      ],
      "metadata": {
        "colab": {
          "base_uri": "https://localhost:8080/"
        },
        "id": "C2C6DUyJRw_I",
        "outputId": "e03a5bf1-ee46-451e-f941-1e4fb7d7932d"
      },
      "execution_count": null,
      "outputs": [
        {
          "output_type": "stream",
          "name": "stdout",
          "text": [
            "First 5 transactions:\n",
            "shape: (5, 7)\n",
            "┌─────────────────────┬────────────┬───────┬──────────┬───────────────┬────────────────┬────────┐\n",
            "│ date                ┆ drink      ┆ price ┆ quantity ┆ customer_type ┆ payment_method ┆ rating │\n",
            "│ ---                 ┆ ---        ┆ ---   ┆ ---      ┆ ---           ┆ ---            ┆ ---    │\n",
            "│ datetime[μs]        ┆ str        ┆ f64   ┆ i64      ┆ str           ┆ str            ┆ i64    │\n",
            "╞═════════════════════╪════════════╪═══════╪══════════╪═══════════════╪════════════════╪════════╡\n",
            "│ 2023-09-11 00:00:00 ┆ Cold Brew  ┆ 5.0   ┆ 1        ┆ New           ┆ Cash           ┆ 4      │\n",
            "│ 2023-11-27 00:00:00 ┆ Cappuccino ┆ 4.5   ┆ 1        ┆ New           ┆ Card           ┆ 4      │\n",
            "│ 2023-09-01 00:00:00 ┆ Espresso   ┆ 4.5   ┆ 1        ┆ Regular       ┆ Card           ┆ 3      │\n",
            "│ 2023-06-15 00:00:00 ┆ Cappuccino ┆ 5.0   ┆ 1        ┆ New           ┆ Card           ┆ 4      │\n",
            "│ 2023-09-15 00:00:00 ┆ Mocha      ┆ 5.0   ┆ 2        ┆ Regular       ┆ Card           ┆ 3      │\n",
            "└─────────────────────┴────────────┴───────┴──────────┴───────────────┴────────────────┴────────┘\n",
            "\n",
            "What types of data do we have?\n",
            "Schema({'date': Datetime(time_unit='us', time_zone=None), 'drink': String, 'price': Float64, 'quantity': Int64, 'customer_type': String, 'payment_method': String, 'rating': Int64})\n",
            "\n",
            "How big is our dataset?\n",
            "We have 2000 transactions and 7 columns\n"
          ]
        }
      ]
    },
    {
      "cell_type": "code",
      "source": [
        "# Calculate total sales amount and add useful date information\n",
        "df_enhanced = df.with_columns([\n",
        "    # Calculate revenue per transaction\n",
        "    (pl.col('price') * pl.col('quantity')).alias('total_sale'),\n",
        "\n",
        "    # Extract useful date components\n",
        "    pl.col('date').dt.weekday().alias('day_of_week'),\n",
        "    pl.col('date').dt.month().alias('month'),\n",
        "    pl.col('date').dt.hour().alias('hour_of_day')\n",
        "])\n",
        "\n",
        "print(\"Sample of enhanced data:\")\n",
        "print(df_enhanced.head())\n"
      ],
      "metadata": {
        "colab": {
          "base_uri": "https://localhost:8080/"
        },
        "id": "Y3qpJ3HISSA5",
        "outputId": "764b5d79-7fbc-448c-ea16-933ebf5298ab"
      },
      "execution_count": null,
      "outputs": [
        {
          "output_type": "stream",
          "name": "stdout",
          "text": [
            "Sample of enhanced data:\n",
            "shape: (5, 11)\n",
            "┌─────────────┬────────────┬───────┬──────────┬───┬────────────┬─────────────┬───────┬─────────────┐\n",
            "│ date        ┆ drink      ┆ price ┆ quantity ┆ … ┆ total_sale ┆ day_of_week ┆ month ┆ hour_of_day │\n",
            "│ ---         ┆ ---        ┆ ---   ┆ ---      ┆   ┆ ---        ┆ ---         ┆ ---   ┆ ---         │\n",
            "│ datetime[μs ┆ str        ┆ f64   ┆ i64      ┆   ┆ f64        ┆ i8          ┆ i8    ┆ i8          │\n",
            "│ ]           ┆            ┆       ┆          ┆   ┆            ┆             ┆       ┆             │\n",
            "╞═════════════╪════════════╪═══════╪══════════╪═══╪════════════╪═════════════╪═══════╪═════════════╡\n",
            "│ 2023-09-11  ┆ Cold Brew  ┆ 5.0   ┆ 1        ┆ … ┆ 5.0        ┆ 1           ┆ 9     ┆ 0           │\n",
            "│ 00:00:00    ┆            ┆       ┆          ┆   ┆            ┆             ┆       ┆             │\n",
            "│ 2023-11-27  ┆ Cappuccino ┆ 4.5   ┆ 1        ┆ … ┆ 4.5        ┆ 1           ┆ 11    ┆ 0           │\n",
            "│ 00:00:00    ┆            ┆       ┆          ┆   ┆            ┆             ┆       ┆             │\n",
            "│ 2023-09-01  ┆ Espresso   ┆ 4.5   ┆ 1        ┆ … ┆ 4.5        ┆ 5           ┆ 9     ┆ 0           │\n",
            "│ 00:00:00    ┆            ┆       ┆          ┆   ┆            ┆             ┆       ┆             │\n",
            "│ 2023-06-15  ┆ Cappuccino ┆ 5.0   ┆ 1        ┆ … ┆ 5.0        ┆ 4           ┆ 6     ┆ 0           │\n",
            "│ 00:00:00    ┆            ┆       ┆          ┆   ┆            ┆             ┆       ┆             │\n",
            "│ 2023-09-15  ┆ Mocha      ┆ 5.0   ┆ 2        ┆ … ┆ 10.0       ┆ 5           ┆ 9     ┆ 0           │\n",
            "│ 00:00:00    ┆            ┆       ┆          ┆   ┆            ┆             ┆       ┆             │\n",
            "└─────────────┴────────────┴───────┴──────────┴───┴────────────┴─────────────┴───────┴─────────────┘\n"
          ]
        }
      ]
    },
    {
      "cell_type": "code",
      "source": [
        "drink_performance = (df_enhanced\n",
        "    .group_by('drink')\n",
        "    .agg([\n",
        "        pl.col('total_sale').sum().alias('total_revenue'),\n",
        "        pl.col('quantity').sum().alias('total_sold'),\n",
        "        pl.col('rating').mean().alias('avg_rating')\n",
        "    ])\n",
        "    .sort('total_revenue', descending=True)\n",
        ")\n",
        "\n",
        "print(\"Drink performance ranking:\")\n",
        "print(drink_performance)\n"
      ],
      "metadata": {
        "colab": {
          "base_uri": "https://localhost:8080/"
        },
        "id": "erlQJN4PR1HV",
        "outputId": "4a7e648d-21d1-43dc-b715-152f35414b07"
      },
      "execution_count": null,
      "outputs": [
        {
          "output_type": "stream",
          "name": "stdout",
          "text": [
            "Drink performance ranking:\n",
            "shape: (6, 4)\n",
            "┌────────────┬───────────────┬────────────┬────────────┐\n",
            "│ drink      ┆ total_revenue ┆ total_sold ┆ avg_rating │\n",
            "│ ---        ┆ ---           ┆ ---        ┆ ---        │\n",
            "│ str        ┆ f64           ┆ i64        ┆ f64        │\n",
            "╞════════════╪═══════════════╪════════════╪════════════╡\n",
            "│ Americano  ┆ 2242.0        ┆ 595        ┆ 3.476454   │\n",
            "│ Mocha      ┆ 2204.0        ┆ 591        ┆ 3.492711   │\n",
            "│ Espresso   ┆ 2119.5        ┆ 570        ┆ 3.514793   │\n",
            "│ Cold Brew  ┆ 2035.5        ┆ 556        ┆ 3.475758   │\n",
            "│ Cappuccino ┆ 1962.5        ┆ 521        ┆ 3.541139   │\n",
            "│ Latte      ┆ 1949.5        ┆ 514        ┆ 3.528846   │\n",
            "└────────────┴───────────────┴────────────┴────────────┘\n"
          ]
        }
      ]
    },
    {
      "cell_type": "code",
      "source": [
        "daily_patterns = (df_enhanced\n",
        "    .group_by('day_of_week')\n",
        "    .agg([\n",
        "        pl.col('total_sale').sum().alias('daily_revenue'),\n",
        "        pl.len().alias('number_of_transactions')\n",
        "    ])\n",
        "    .sort('day_of_week')\n",
        ")\n",
        "\n",
        "print(\"Daily business patterns:\")\n",
        "print(daily_patterns)\n"
      ],
      "metadata": {
        "colab": {
          "base_uri": "https://localhost:8080/"
        },
        "id": "Jm-yw7aMSMLA",
        "outputId": "9d7d033e-c427-4da4-82e4-9b219364b8be"
      },
      "execution_count": null,
      "outputs": [
        {
          "output_type": "stream",
          "name": "stdout",
          "text": [
            "Daily business patterns:\n",
            "shape: (7, 3)\n",
            "┌─────────────┬───────────────┬────────────────────────┐\n",
            "│ day_of_week ┆ daily_revenue ┆ number_of_transactions │\n",
            "│ ---         ┆ ---           ┆ ---                    │\n",
            "│ i8          ┆ f64           ┆ u32                    │\n",
            "╞═════════════╪═══════════════╪════════════════════════╡\n",
            "│ 1           ┆ 2061.0        ┆ 324                    │\n",
            "│ 2           ┆ 1761.0        ┆ 276                    │\n",
            "│ 3           ┆ 1710.0        ┆ 278                    │\n",
            "│ 4           ┆ 1784.0        ┆ 288                    │\n",
            "│ 5           ┆ 1651.5        ┆ 265                    │\n",
            "│ 6           ┆ 1596.0        ┆ 259                    │\n",
            "│ 7           ┆ 1949.5        ┆ 310                    │\n",
            "└─────────────┴───────────────┴────────────────────────┘\n"
          ]
        }
      ]
    },
    {
      "cell_type": "code",
      "source": [
        "# Find transactions over $10 (multiple items or expensive drinks)\n",
        "big_orders = (df_enhanced\n",
        "    .filter(pl.col('total_sale') > 10.0)\n",
        "    .sort('total_sale', descending=True)\n",
        ")\n",
        "\n",
        "print(f\"We have {big_orders.height} orders over $10\")\n",
        "print(\"Top 5 biggest orders:\")\n",
        "print(big_orders.head())\n"
      ],
      "metadata": {
        "colab": {
          "base_uri": "https://localhost:8080/"
        },
        "id": "6J1y-ivUSe17",
        "outputId": "6f2e1b56-4f2b-449d-9e83-97cc4b6246ec"
      },
      "execution_count": null,
      "outputs": [
        {
          "output_type": "stream",
          "name": "stdout",
          "text": [
            "We have 204 orders over $10\n",
            "Top 5 biggest orders:\n",
            "shape: (5, 11)\n",
            "┌─────────────┬────────────┬───────┬──────────┬───┬────────────┬─────────────┬───────┬─────────────┐\n",
            "│ date        ┆ drink      ┆ price ┆ quantity ┆ … ┆ total_sale ┆ day_of_week ┆ month ┆ hour_of_day │\n",
            "│ ---         ┆ ---        ┆ ---   ┆ ---      ┆   ┆ ---        ┆ ---         ┆ ---   ┆ ---         │\n",
            "│ datetime[μs ┆ str        ┆ f64   ┆ i64      ┆   ┆ f64        ┆ i8          ┆ i8    ┆ i8          │\n",
            "│ ]           ┆            ┆       ┆          ┆   ┆            ┆             ┆       ┆             │\n",
            "╞═════════════╪════════════╪═══════╪══════════╪═══╪════════════╪═════════════╪═══════╪═════════════╡\n",
            "│ 2023-07-21  ┆ Cappuccino ┆ 5.0   ┆ 3        ┆ … ┆ 15.0       ┆ 5           ┆ 7     ┆ 0           │\n",
            "│ 00:00:00    ┆            ┆       ┆          ┆   ┆            ┆             ┆       ┆             │\n",
            "│ 2023-08-02  ┆ Latte      ┆ 5.0   ┆ 3        ┆ … ┆ 15.0       ┆ 3           ┆ 8     ┆ 0           │\n",
            "│ 00:00:00    ┆            ┆       ┆          ┆   ┆            ┆             ┆       ┆             │\n",
            "│ 2023-07-21  ┆ Cappuccino ┆ 5.0   ┆ 3        ┆ … ┆ 15.0       ┆ 5           ┆ 7     ┆ 0           │\n",
            "│ 00:00:00    ┆            ┆       ┆          ┆   ┆            ┆             ┆       ┆             │\n",
            "│ 2023-10-08  ┆ Cappuccino ┆ 5.0   ┆ 3        ┆ … ┆ 15.0       ┆ 7           ┆ 10    ┆ 0           │\n",
            "│ 00:00:00    ┆            ┆       ┆          ┆   ┆            ┆             ┆       ┆             │\n",
            "│ 2023-09-07  ┆ Latte      ┆ 5.0   ┆ 3        ┆ … ┆ 15.0       ┆ 4           ┆ 9     ┆ 0           │\n",
            "│ 00:00:00    ┆            ┆       ┆          ┆   ┆            ┆             ┆       ┆             │\n",
            "└─────────────┴────────────┴───────┴──────────┴───┴────────────┴─────────────┴───────┴─────────────┘\n"
          ]
        }
      ]
    },
    {
      "cell_type": "code",
      "source": [
        "# Analyze customer behavior by type\n",
        "customer_analysis = (df_enhanced\n",
        "    .group_by('customer_type')\n",
        "    .agg([\n",
        "        pl.col('total_sale').mean().alias('avg_spending'),\n",
        "        pl.col('total_sale').sum().alias('total_revenue'),\n",
        "        pl.len().alias('visit_count'),\n",
        "        pl.col('rating').mean().alias('avg_satisfaction')\n",
        "    ])\n",
        "    .with_columns([\n",
        "        # Calculate revenue per visit\n",
        "        (pl.col('total_revenue') / pl.col('visit_count')).alias('revenue_per_visit')\n",
        "    ])\n",
        ")\n",
        "\n",
        "print(\"Customer behavior analysis:\")\n",
        "print(customer_analysis)\n"
      ],
      "metadata": {
        "colab": {
          "base_uri": "https://localhost:8080/"
        },
        "id": "nDRbh3nvSze0",
        "outputId": "b1b99f56-9228-4b1d-ac8f-9fbb93addbed"
      },
      "execution_count": null,
      "outputs": [
        {
          "output_type": "stream",
          "name": "stdout",
          "text": [
            "Customer behavior analysis:\n",
            "shape: (3, 6)\n",
            "┌───────────────┬──────────────┬───────────────┬─────────────┬──────────────────┬──────────────────┐\n",
            "│ customer_type ┆ avg_spending ┆ total_revenue ┆ visit_count ┆ avg_satisfaction ┆ revenue_per_visi │\n",
            "│ ---           ┆ ---          ┆ ---           ┆ ---         ┆ ---              ┆ t                │\n",
            "│ str           ┆ f64          ┆ f64           ┆ u32         ┆ f64              ┆ ---              │\n",
            "│               ┆              ┆               ┆             ┆                  ┆ f64              │\n",
            "╞═══════════════╪══════════════╪═══════════════╪═════════════╪══════════════════╪══════════════════╡\n",
            "│ Regular       ┆ 6.277832     ┆ 6428.5        ┆ 1024        ┆ 3.499023         ┆ 6.277832         │\n",
            "│ Tourist       ┆ 6.185185     ┆ 2505.0        ┆ 405         ┆ 3.518519         ┆ 6.185185         │\n",
            "│ New           ┆ 6.268827     ┆ 3579.5        ┆ 571         ┆ 3.502627         ┆ 6.268827         │\n",
            "└───────────────┴──────────────┴───────────────┴─────────────┴──────────────────┴──────────────────┘\n"
          ]
        }
      ]
    },
    {
      "cell_type": "code",
      "source": [
        "# Create a complete business summary\n",
        "business_summary = {\n",
        "    'total_revenue': df_enhanced['total_sale'].sum(),\n",
        "    'total_transactions': df_enhanced.height,\n",
        "    'average_transaction': df_enhanced['total_sale'].mean(),\n",
        "    'best_selling_drink': drink_performance.row(0)[0],  # First row, first column\n",
        "    'customer_satisfaction': df_enhanced['rating'].mean()\n",
        "}\n",
        "\n",
        "print(\"\\n=== BEAN THERE COFFEE SHOP - SUMMARY ===\")\n",
        "for key, value in business_summary.items():\n",
        "    if isinstance(value, float) and key != 'customer_satisfaction':\n",
        "        print(f\"{key.replace('_', ' ').title()}: ${value:.2f}\")\n",
        "    else:\n",
        "        print(f\"{key.replace('_', ' ').title()}: {value}\")\n"
      ],
      "metadata": {
        "colab": {
          "base_uri": "https://localhost:8080/"
        },
        "id": "6PLIUTPBYGMJ",
        "outputId": "c9a8065c-c16a-4b8e-cd9e-8c1e49e93433"
      },
      "execution_count": null,
      "outputs": [
        {
          "output_type": "stream",
          "name": "stdout",
          "text": [
            "\n",
            "=== BEAN THERE COFFEE SHOP - SUMMARY ===\n",
            "Total Revenue: $12513.00\n",
            "Total Transactions: 2000\n",
            "Average Transaction: $6.26\n",
            "Best Selling Drink: Americano\n",
            "Customer Satisfaction: 3.504\n"
          ]
        }
      ]
    }
  ]
}