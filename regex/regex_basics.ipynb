{
  "nbformat": 4,
  "nbformat_minor": 0,
  "metadata": {
    "colab": {
      "provenance": []
    },
    "kernelspec": {
      "name": "python3",
      "display_name": "Python 3"
    },
    "language_info": {
      "name": "python"
    }
  },
  "cells": [
    {
      "cell_type": "code",
      "execution_count": 15,
      "metadata": {
        "id": "4Kgk8fm-Gl62"
      },
      "outputs": [],
      "source": [
        "import re"
      ]
    },
    {
      "cell_type": "markdown",
      "source": [
        "## Literal Characters"
      ],
      "metadata": {
        "id": "_OEHuAM4LqbD"
      }
    },
    {
      "cell_type": "code",
      "source": [
        "text = \"Data science is cool as you get to work with real-world data\"\n",
        "matches = re.findall(r\"data\", text)\n",
        "print(matches)"
      ],
      "metadata": {
        "colab": {
          "base_uri": "https://localhost:8080/"
        },
        "id": "7YinijGNHGPr",
        "outputId": "0b7f3076-708d-4366-df70-55ecf74f7926"
      },
      "execution_count": 16,
      "outputs": [
        {
          "output_type": "stream",
          "name": "stdout",
          "text": [
            "['data']\n"
          ]
        }
      ]
    },
    {
      "cell_type": "code",
      "source": [
        "matches = re.findall(r\"data\", text, re.IGNORECASE)\n",
        "print(matches)"
      ],
      "metadata": {
        "colab": {
          "base_uri": "https://localhost:8080/"
        },
        "id": "jsN4FjAcHRW0",
        "outputId": "17ae65cd-55eb-4c02-f7d1-df61ea5994c5"
      },
      "execution_count": 17,
      "outputs": [
        {
          "output_type": "stream",
          "name": "stdout",
          "text": [
            "['Data', 'data']\n"
          ]
        }
      ]
    },
    {
      "cell_type": "markdown",
      "source": [
        "## Metacharacters"
      ],
      "metadata": {
        "id": "k5VRBo4uMtAW"
      }
    },
    {
      "cell_type": "code",
      "source": [
        "text = \"The cat sat on the mat. The bat flew over the rat.\"\n",
        "pattern = r\"The ... \"\n",
        "matches = re.findall(pattern, text)\n",
        "print(matches)"
      ],
      "metadata": {
        "colab": {
          "base_uri": "https://localhost:8080/"
        },
        "id": "xrUpq6UsJ_NY",
        "outputId": "532e76b9-6c99-49de-915d-1afe8a0eb8c1"
      },
      "execution_count": 18,
      "outputs": [
        {
          "output_type": "stream",
          "name": "stdout",
          "text": [
            "['The cat ', 'The bat ']\n"
          ]
        }
      ]
    },
    {
      "cell_type": "code",
      "source": [
        "text = \"The cat sat on the mat. The bat flew over the rat.\"\n",
        "pattern = r\"[cb]at\"\n",
        "matches = re.findall(pattern, text)\n",
        "print(matches)"
      ],
      "metadata": {
        "colab": {
          "base_uri": "https://localhost:8080/"
        },
        "id": "-HmeMBRdKAeI",
        "outputId": "9ad21d68-90e5-4f6c-c150-5bcd3b6233d5"
      },
      "execution_count": 19,
      "outputs": [
        {
          "output_type": "stream",
          "name": "stdout",
          "text": [
            "['cat', 'bat']\n"
          ]
        }
      ]
    },
    {
      "cell_type": "code",
      "source": [
        "# Find all lowercase words that start with a-d\n",
        "pattern = r\"\\b[a-d][a-z]*\\b\"\n",
        "text = \"apple banana cherry date elephant fig grape kiwi lemon mango orange\"\n",
        "matches = re.findall(pattern, text)\n",
        "print(matches)"
      ],
      "metadata": {
        "colab": {
          "base_uri": "https://localhost:8080/"
        },
        "id": "mG8NusxoKPIO",
        "outputId": "dd5a109c-3b7c-4614-cb57-a317ebddd7eb"
      },
      "execution_count": 20,
      "outputs": [
        {
          "output_type": "stream",
          "name": "stdout",
          "text": [
            "['apple', 'banana', 'cherry', 'date']\n"
          ]
        }
      ]
    },
    {
      "cell_type": "code",
      "source": [
        "text = \"Phone numbers: 555-1234, 555-5678, 5551234\"\n",
        "pattern = r\"\\b\\d{3}-?\\d{4}\\b\"\n",
        "matches = re.findall(pattern, text)\n",
        "print(matches)"
      ],
      "metadata": {
        "colab": {
          "base_uri": "https://localhost:8080/"
        },
        "id": "fV0l2pr3KgoV",
        "outputId": "04b8b125-91b7-495b-dd06-fe5b2cfb6fca"
      },
      "execution_count": 21,
      "outputs": [
        {
          "output_type": "stream",
          "name": "stdout",
          "text": [
            "['555-1234', '555-5678', '5551234']\n"
          ]
        }
      ]
    },
    {
      "cell_type": "markdown",
      "source": [
        "## Anchors"
      ],
      "metadata": {
        "id": "o-5zXUVIMyMo"
      }
    },
    {
      "cell_type": "code",
      "source": [
        "text = \"Python is popular in data science.\"\n",
        "\n",
        "# ^ anchors to the start of the string\n",
        "start_matches = re.findall(r\"^Python\", text)\n",
        "print(start_matches)\n",
        "\n",
        "# $ anchors to the end of the string\n",
        "end_matches = re.findall(r\"science\\.$\", text)\n",
        "print(end_matches)"
      ],
      "metadata": {
        "colab": {
          "base_uri": "https://localhost:8080/"
        },
        "id": "l8AoE1MsLV_p",
        "outputId": "2c2968a0-792e-4f48-c696-77c1269b15bb"
      },
      "execution_count": 22,
      "outputs": [
        {
          "output_type": "stream",
          "name": "stdout",
          "text": [
            "['Python']\n",
            "['science.']\n"
          ]
        }
      ]
    },
    {
      "cell_type": "markdown",
      "source": [
        "## Capturing Groups"
      ],
      "metadata": {
        "id": "saT34V8XM2D9"
      }
    },
    {
      "cell_type": "code",
      "source": [
        "text = \"Dates: 2023-10-15, 2022-05-22\"\n",
        "pattern = r\"(\\d{4})-(\\d{2})-(\\d{2})\"\n",
        "\n",
        "# findall returns tuples of the captured groups\n",
        "matches = re.findall(pattern, text)\n",
        "print(matches)\n",
        "\n",
        "# You can use these to create structured data\n",
        "for year, month, day in matches:\n",
        "    print(f\"Year: {year}, Month: {month}, Day: {day}\")"
      ],
      "metadata": {
        "colab": {
          "base_uri": "https://localhost:8080/"
        },
        "id": "aUgP6sCbLZxL",
        "outputId": "7e9270b7-8648-434e-e8c0-6f96f3f09c6e"
      },
      "execution_count": 23,
      "outputs": [
        {
          "output_type": "stream",
          "name": "stdout",
          "text": [
            "[('2023', '10', '15'), ('2022', '05', '22')]\n",
            "Year: 2023, Month: 10, Day: 15\n",
            "Year: 2022, Month: 05, Day: 22\n"
          ]
        }
      ]
    },
    {
      "cell_type": "markdown",
      "source": [
        "## Named Groups"
      ],
      "metadata": {
        "id": "5OC-KsrtM9V9"
      }
    },
    {
      "cell_type": "code",
      "source": [
        "text = \"Contact: john.doe@example.com\"\n",
        "pattern = r\"(?P<username>[\\w.]+)@(?P<domain>[\\w.]+)\"\n",
        "\n",
        "match = re.search(pattern, text)\n",
        "if match:\n",
        "    print(f\"Username: {match.group('username')}\")\n",
        "    print(f\"Domain: {match.group('domain')}\")\n"
      ],
      "metadata": {
        "colab": {
          "base_uri": "https://localhost:8080/"
        },
        "id": "L9FOB0uiLexp",
        "outputId": "c73b8c7f-af37-4016-b404-d9ad7502514f"
      },
      "execution_count": 24,
      "outputs": [
        {
          "output_type": "stream",
          "name": "stdout",
          "text": [
            "Username: john.doe\n",
            "Domain: example.com\n"
          ]
        }
      ]
    }
  ]
}