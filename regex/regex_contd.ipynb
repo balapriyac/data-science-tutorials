{
  "nbformat": 4,
  "nbformat_minor": 0,
  "metadata": {
    "colab": {
      "provenance": []
    },
    "kernelspec": {
      "name": "python3",
      "display_name": "Python 3"
    },
    "language_info": {
      "name": "python"
    }
  },
  "cells": [
    {
      "cell_type": "code",
      "execution_count": 1,
      "metadata": {
        "id": "VxllMcawIjlB"
      },
      "outputs": [],
      "source": [
        "import re"
      ]
    },
    {
      "cell_type": "code",
      "source": [
        "text = \"<div>First content</div><div>Second content</div>\"\n",
        "\n",
        "# Greedy matching (default)\n",
        "greedy = re.findall(r\"<div>(.*)</div>\", text)\n",
        "print(f\"Greedy: {greedy}\")\n",
        "\n",
        "# Non-greedy matching\n",
        "non_greedy = re.findall(r\"<div>(.*?)</div>\", text)\n",
        "print(f\"Non-greedy: {non_greedy}\")\n"
      ],
      "metadata": {
        "colab": {
          "base_uri": "https://localhost:8080/"
        },
        "id": "Cb35InjGIzW3",
        "outputId": "cf4f7b63-8e9c-4ad0-f4f7-a0c6bbd52a03"
      },
      "execution_count": 2,
      "outputs": [
        {
          "output_type": "stream",
          "name": "stdout",
          "text": [
            "Greedy: ['First content</div><div>Second content']\n",
            "Non-greedy: ['First content', 'Second content']\n"
          ]
        }
      ]
    },
    {
      "cell_type": "code",
      "source": [
        "# Password validation\n",
        "password = \"Password123\"\n",
        "has_uppercase = bool(re.search(r\"(?=.*[A-Z])\", password))\n",
        "has_lowercase = bool(re.search(r\"(?=.*[a-z])\", password))\n",
        "has_digit = bool(re.search(r\"(?=.*\\d)\", password))\n",
        "is_long_enough = len(password) >= 8\n",
        "\n",
        "if all([has_uppercase, has_lowercase, has_digit, is_long_enough]):\n",
        "    print(\"Password meets requirements\")\n",
        "else:\n",
        "    print(\"Password does not meet all requirements\")\n"
      ],
      "metadata": {
        "colab": {
          "base_uri": "https://localhost:8080/"
        },
        "id": "N21dkm8NI-TG",
        "outputId": "4c0b31c3-422c-4145-e07f-aff64c4a5950"
      },
      "execution_count": 3,
      "outputs": [
        {
          "output_type": "stream",
          "name": "stdout",
          "text": [
            "Password meets requirements\n"
          ]
        }
      ]
    },
    {
      "cell_type": "code",
      "source": [],
      "metadata": {
        "id": "VNTuYz1bI-Jc"
      },
      "execution_count": 3,
      "outputs": []
    }
  ]
}