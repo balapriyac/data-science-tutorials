{
  "nbformat": 4,
  "nbformat_minor": 0,
  "metadata": {
    "colab": {
      "provenance": []
    },
    "kernelspec": {
      "name": "python3",
      "display_name": "Python 3"
    },
    "language_info": {
      "name": "python"
    }
  },
  "cells": [
    {
      "cell_type": "code",
      "execution_count": null,
      "metadata": {
        "colab": {
          "base_uri": "https://localhost:8080/"
        },
        "id": "YPKB2a5Hsw02",
        "outputId": "3da0932d-8614-477c-b6a6-d202c795f3da"
      },
      "outputs": [
        {
          "output_type": "stream",
          "name": "stdout",
          "text": [
            "Contact info: 1234567890 and 9876543210.\n"
          ]
        }
      ],
      "source": [
        "import re\n",
        "\n",
        "text = \"Contact info: (123)-456-7890 and 987-654-3210.\"\n",
        "cleaned_text = re.sub(r'[()-]', '', text)\n",
        "print(cleaned_text)\n"
      ]
    },
    {
      "cell_type": "code",
      "source": [
        "text = \"Please reach out to us at support@example.org or help@example.org.\"\n",
        "emails = re.findall(r'\\b[\\w.-]+?@\\w+?\\.\\w+?\\b', text)\n",
        "print(emails)\n"
      ],
      "metadata": {
        "colab": {
          "base_uri": "https://localhost:8080/"
        },
        "id": "eGS7s-zTs-9T",
        "outputId": "74a8b91b-5af7-48f6-9dd3-d690b9f36b21"
      },
      "execution_count": null,
      "outputs": [
        {
          "output_type": "stream",
          "name": "stdout",
          "text": [
            "['support@example.org', 'help@example.org']\n"
          ]
        }
      ]
    },
    {
      "cell_type": "code",
      "source": [
        "text = \"This\tis\ta\tstring   with   multiple   unnecessary    spaces.\"\n",
        "cleaned_text = re.sub(r'\\s+', ' ', text)\n",
        "print(cleaned_text)\n"
      ],
      "metadata": {
        "colab": {
          "base_uri": "https://localhost:8080/"
        },
        "id": "dd0K0-LrtmBi",
        "outputId": "5436543f-4b19-4081-f8d4-5ec6f64d6d6b"
      },
      "execution_count": null,
      "outputs": [
        {
          "output_type": "stream",
          "name": "stdout",
          "text": [
            "This is a string with multiple unnecessary spaces.\n"
          ]
        }
      ]
    },
    {
      "cell_type": "code",
      "source": [
        "email = \"test@example.com\"\n",
        "if re.match(r'^\\b[\\w.-]+?@\\w+?\\.\\w+?\\b$', email):\n",
        "    print(\"Valid email\")  # Output: Valid email\n",
        "else:\n",
        "    print(\"Invalid email\")\n"
      ],
      "metadata": {
        "colab": {
          "base_uri": "https://localhost:8080/"
        },
        "id": "j05fGS1UyCfe",
        "outputId": "402a5319-ba31-44d8-e870-ccbc35535af3"
      },
      "execution_count": null,
      "outputs": [
        {
          "output_type": "stream",
          "name": "stdout",
          "text": [
            "Valid email\n"
          ]
        }
      ]
    },
    {
      "cell_type": "code",
      "source": [
        "text = \"This is sentence one. And this is sentence two! Is this sentence three?\"\n",
        "sentences = re.split(r'[.!?]', text)\n",
        "print(sentences)  # Output: ['This is sentence one', ' And this is sentence two', ' Is this sentence three', '']\n"
      ],
      "metadata": {
        "colab": {
          "base_uri": "https://localhost:8080/"
        },
        "id": "7f68JqnBzBX9",
        "outputId": "455de3e7-3cd0-4ffc-ad69-d058e9ecedff"
      },
      "execution_count": null,
      "outputs": [
        {
          "output_type": "stream",
          "name": "stdout",
          "text": [
            "['This is sentence one', ' And this is sentence two', ' Is this sentence three', '']\n"
          ]
        }
      ]
    },
    {
      "cell_type": "code",
      "source": [
        "import pandas as pd\n",
        "\n",
        "data = {\n",
        "\t'names': ['Alice123', 'Bob!@#', 'Charlie$$$'],\n",
        "\t'emails': ['alice@example.com', 'bob_at_example.com', 'charlie@example.com']\n",
        "}\n",
        "df = pd.DataFrame(data)\n",
        "\n",
        "# Remove non-alphabetic characters from names\n",
        "df['names'] = df['names'].str.replace(r'[^a-zA-Z]', '', regex=True)\n",
        "\n",
        "# Validate email addresses\n",
        "df['valid_email'] = df['emails'].apply(lambda x: bool(re.match(r'^\\b[\\w.-]+?@\\w+?\\.\\w+?\\b$', x)))\n",
        "\n",
        "print(df)\n"
      ],
      "metadata": {
        "colab": {
          "base_uri": "https://localhost:8080/"
        },
        "id": "qboHFiS30UMQ",
        "outputId": "eeb42cb5-ebcf-4ebe-f301-74c2c1ac184a"
      },
      "execution_count": null,
      "outputs": [
        {
          "output_type": "stream",
          "name": "stdout",
          "text": [
            "     names               emails  valid_email\n",
            "0    Alice    alice@example.com         True\n",
            "1      Bob   bob_at_example.com        False\n",
            "2  Charlie  charlie@example.com         True\n"
          ]
        }
      ]
    },
    {
      "cell_type": "code",
      "source": [],
      "metadata": {
        "id": "la5oKWfX0U2Z"
      },
      "execution_count": null,
      "outputs": []
    }
  ]
}