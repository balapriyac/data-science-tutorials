{
  "nbformat": 4,
  "nbformat_minor": 0,
  "metadata": {
    "colab": {
      "provenance": []
    },
    "kernelspec": {
      "name": "python3",
      "display_name": "Python 3"
    },
    "language_info": {
      "name": "python"
    }
  },
  "cells": [
    {
      "cell_type": "code",
      "execution_count": 10,
      "metadata": {
        "id": "FeDeZaYVYxI9"
      },
      "outputs": [],
      "source": [
        "path = \"/content/data.csv\""
      ]
    },
    {
      "cell_type": "code",
      "source": [
        "print(f\"Total: ${sum(float(r[3]) for r in __import__('csv').reader(open(path)) if r[0] != 'transaction_id'):,.2f}\")"
      ],
      "metadata": {
        "colab": {
          "base_uri": "https://localhost:8080/"
        },
        "id": "QsU-XaTKZCZS",
        "outputId": "2d4e3f06-2206-4985-cc03-f01746a7930f"
      },
      "execution_count": 11,
      "outputs": [
        {
          "output_type": "stream",
          "name": "stdout",
          "text": [
            "Total: $1,814,359.75\n"
          ]
        }
      ]
    },
    {
      "cell_type": "code",
      "source": [
        "print(max({r[5]:sum(float(row[3]) for row in __import__('csv').reader(open(path)) if row[5]==r[5] and row[0]!='transaction_id') for r in __import__('csv').reader(open(path)) if r[0]!='transaction_id'}.items(), key=lambda x:x[1]))"
      ],
      "metadata": {
        "colab": {
          "base_uri": "https://localhost:8080/"
        },
        "id": "qbAmq0tLZHzo",
        "outputId": "329b80c2-5e53-4d31-9311-104e1f676a93"
      },
      "execution_count": 24,
      "outputs": [
        {
          "output_type": "stream",
          "name": "stdout",
          "text": [
            "('Mike Rodriguez', 502252.0)\n"
          ]
        }
      ]
    },
    {
      "cell_type": "code",
      "source": [
        "[print(f\"{r[1]}: ${float(r[3]):,.2f}\") for r in __import__('csv').reader(open(path)) if r[7]=='Enterprise' and r[0]!='transaction_id']"
      ],
      "metadata": {
        "colab": {
          "base_uri": "https://localhost:8080/"
        },
        "id": "3wN_QlVLZPGz",
        "outputId": "f91b8829-b8a9-4b77-a707-0b832caaa9ec"
      },
      "execution_count": 13,
      "outputs": [
        {
          "output_type": "stream",
          "name": "stdout",
          "text": [
            "Acme Corp: $45,000.00\n",
            "Gamma Solutions: $78,900.00\n",
            "Zeta Systems: $156,000.00\n",
            "Iota Industries: $67,500.25\n",
            "Kappa LLC: $91,200.75\n",
            "Nu Technologies: $76,800.25\n",
            "Omicron LLC: $128,900.00\n",
            "Sigma Corp: $89,700.75\n",
            "Phi Corp: $176,500.25\n",
            "Omega Technologies: $134,600.50\n",
            "Alpha Solutions: $71,200.25\n",
            "Matrix Systems: $105,600.25\n"
          ]
        },
        {
          "output_type": "execute_result",
          "data": {
            "text/plain": [
              "[None, None, None, None, None, None, None, None, None, None, None, None]"
            ]
          },
          "metadata": {},
          "execution_count": 13
        }
      ]
    },
    {
      "cell_type": "code",
      "source": [
        "print({r:f\"${sum(float(row[3]) for row in __import__('csv').reader(open(path)) if row[6]==r and row[0]!='transaction_id'):,.2f}\" for r in set(row[6] for row in __import__('csv').reader(open(path)) if row[0]!='transaction_id')})"
      ],
      "metadata": {
        "colab": {
          "base_uri": "https://localhost:8080/"
        },
        "id": "V5QnV2S2ZV0x",
        "outputId": "f37361e4-e47e-47fc-aa59-826a1506f5f8"
      },
      "execution_count": 25,
      "outputs": [
        {
          "output_type": "stream",
          "name": "stdout",
          "text": [
            "{'Asia Pacific': '$326,551.75', 'Europe': '$502,252.00', 'North America': '$985,556.00'}\n"
          ]
        }
      ]
    },
    {
      "cell_type": "code",
      "source": [
        "print(sorted([(r[1], f\"${float(r[3]):,.2f}\") for r in list(__import__('csv').reader(open(path)))[1:] if float(r[3]) > 100000], key=lambda x: float(x[1][1:].replace(',','')), reverse=True))"
      ],
      "metadata": {
        "colab": {
          "base_uri": "https://localhost:8080/"
        },
        "id": "289EiP22ZfB-",
        "outputId": "0e3d8a1e-0ed1-443b-a662-b99d5c044de5"
      },
      "execution_count": 15,
      "outputs": [
        {
          "output_type": "stream",
          "name": "stdout",
          "text": [
            "[('Phi Corp', '$176,500.25'), ('Zeta Systems', '$156,000.00'), ('Omega Technologies', '$134,600.50'), ('Omicron LLC', '$128,900.00'), ('Matrix Systems', '$105,600.25')]\n"
          ]
        }
      ]
    },
    {
      "cell_type": "code",
      "source": [
        "print(len(set(r[2] for r in __import__('csv').reader(open(path)) if r[0] != 'transaction_id')))\n"
      ],
      "metadata": {
        "colab": {
          "base_uri": "https://localhost:8080/"
        },
        "id": "Ejn8x2_DZj7U",
        "outputId": "47f03b43-75ba-4b8c-a4c0-f758ad72c440"
      },
      "execution_count": 26,
      "outputs": [
        {
          "output_type": "stream",
          "name": "stdout",
          "text": [
            "3\n"
          ]
        }
      ]
    },
    {
      "cell_type": "code",
      "source": [
        "print(f\"Average: ${sum(float(r[3]) for r in __import__('csv').reader(open(path)) if r[6]=='North America' and r[0]!='transaction_id') / len([r for r in __import__('csv').reader(open('data.csv')) if r[6]=='North America' and r[0]!='transaction_id']):,.2f}\")"
      ],
      "metadata": {
        "id": "kQ9WQkCwZ2t3",
        "colab": {
          "base_uri": "https://localhost:8080/"
        },
        "outputId": "cb5da2dc-8297-499d-bee4-b022daebbd4e"
      },
      "execution_count": 17,
      "outputs": [
        {
          "output_type": "stream",
          "name": "stdout",
          "text": [
            "Average: $70,396.86\n"
          ]
        }
      ]
    },
    {
      "cell_type": "code",
      "source": [
        "[print(f\"{r[1]} | {r[2]} | ${r[3]}\") for r in __import__('csv').reader(open(path)) if r[2]=='Software' and float(r[3]) > 50000 and r[0] != 'transaction_id']"
      ],
      "metadata": {
        "colab": {
          "base_uri": "https://localhost:8080/"
        },
        "id": "fimi40RkjhDo",
        "outputId": "6d47b986-d975-42d1-eb15-70e5e600d3b0"
      },
      "execution_count": 18,
      "outputs": [
        {
          "output_type": "stream",
          "name": "stdout",
          "text": [
            "Zeta Systems | Software | $156000.00\n",
            "Iota Industries | Software | $67500.25\n",
            "Omicron LLC | Software | $128900.00\n",
            "Sigma Corp | Software | $89700.75\n",
            "Phi Corp | Software | $176500.25\n",
            "Omega Technologies | Software | $134600.50\n",
            "Nexus Corp | Software | $92300.75\n",
            "Apex Industries | Software | $57800.00\n"
          ]
        },
        {
          "output_type": "execute_result",
          "data": {
            "text/plain": [
              "[None, None, None, None, None, None, None, None]"
            ]
          },
          "metadata": {},
          "execution_count": 18
        }
      ]
    },
    {
      "cell_type": "code",
      "source": [
        "vals=[float(r[3]) for r in __import__('csv').reader(open(path)) if r[0]!='transaction_id']; print(f\"Min: ${min(vals):,.2f} | Max: ${max(vals):,.2f} | Avg: ${sum(vals)/len(vals):,.2f}\")\n",
        "print(vals)"
      ],
      "metadata": {
        "colab": {
          "base_uri": "https://localhost:8080/"
        },
        "id": "nDsP5qbdjrFw",
        "outputId": "1a26768a-0f3e-4c0d-abf5-2edeaaca395a"
      },
      "execution_count": 19,
      "outputs": [
        {
          "output_type": "stream",
          "name": "stdout",
          "text": [
            "Min: $8,750.25 | Max: $176,500.25 | Avg: $62,564.13\n",
            "[45000.0, 12500.5, 78900.0, 23400.75, 8750.25, 156000.0, 34500.5, 19800.0, 67500.25, 91200.75, 28750.0, 43200.5, 76800.25, 15600.75, 128900.0, 52300.5, 31200.25, 89700.75, 64800.0, 22450.5, 176500.25, 38900.75, 27300.0, 134600.5, 71200.25, 92300.75, 18900.5, 105600.25, 57800.0]\n"
          ]
        }
      ]
    },
    {
      "cell_type": "code",
      "source": [
        "__import__('csv').writer(open('filtered.csv','w',newline='')).writerows([r for r in list(__import__('csv').reader(open(path)))[1:] if float(r[3]) > 75000])"
      ],
      "metadata": {
        "id": "mzFUzf0PjuZB"
      },
      "execution_count": 22,
      "outputs": []
    },
    {
      "cell_type": "code",
      "source": [],
      "metadata": {
        "id": "Dq62X-bgj8oi"
      },
      "execution_count": null,
      "outputs": []
    }
  ]
}