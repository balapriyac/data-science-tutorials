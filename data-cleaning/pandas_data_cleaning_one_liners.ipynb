{
  "nbformat": 4,
  "nbformat_minor": 0,
  "metadata": {
    "colab": {
      "provenance": []
    },
    "kernelspec": {
      "name": "python3",
      "display_name": "Python 3"
    },
    "language_info": {
      "name": "python"
    }
  },
  "cells": [
    {
      "cell_type": "code",
      "source": [
        "import pandas as pd\n",
        "import numpy as np\n",
        "from datetime import datetime, timedelta\n",
        "\n",
        "# Set seed for reproducibility\n",
        "np.random.seed(42)\n",
        "\n",
        "# Create a sample dataset of customer orders\n",
        "n_rows = 1000\n",
        "\n",
        "# Generate random dates in the last year\n",
        "start_date = datetime(2024, 1, 1)\n",
        "end_date = datetime(2025, 3, 1)\n",
        "dates = [start_date + timedelta(days=np.random.randint(0, (end_date - start_date).days)) for _ in range(n_rows)]\n",
        "\n",
        "# Generate customer IDs with some duplicates and inconsistent formats\n",
        "customer_formats = ['CUS-{}', 'C{}', 'CUST-{}', 'Customer {}', '{}']\n",
        "customer_ids = [np.random.choice(customer_formats).format(np.random.randint(1000, 9999)) for _ in range(n_rows)]\n",
        "\n",
        "# Generate email addresses with some errors\n",
        "email_domains = ['gmail.com', 'yahoo.com', 'outlook.com', 'hotmail.com', 'company.com']\n",
        "emails = []\n",
        "for i in range(n_rows):\n",
        "    username = f\"user{np.random.randint(100, 999)}\"\n",
        "    domain = np.random.choice(email_domains)\n",
        "    # Introduce some errors\n",
        "    if np.random.random() < 0.05:  # Missing @ symbol\n",
        "        emails.append(f\"{username}{domain}\")\n",
        "    elif np.random.random() < 0.05:  # Extra spaces\n",
        "        emails.append(f\" {username}@{domain} \")\n",
        "    elif np.random.random() < 0.05:  # Typos\n",
        "        emails.append(f\"{username}@{domain.replace('com', 'cm')}\")\n",
        "    else:\n",
        "        emails.append(f\"{username}@{domain}\")\n",
        "\n",
        "# Generate product IDs with some missing values\n",
        "product_ids = [f\"PROD-{np.random.randint(100, 999)}\" if np.random.random() > 0.03 else np.nan for _ in range(n_rows)]\n",
        "\n",
        "# Generate quantities with some outliers\n",
        "quantities = [np.random.randint(1, 10) if np.random.random() > 0.02 else np.random.randint(100, 1000) for _ in range(n_rows)]\n",
        "\n",
        "# Generate prices with some negative values and inconsistent formats\n",
        "prices = []\n",
        "for _ in range(n_rows):\n",
        "    price = np.random.uniform(9.99, 199.99)\n",
        "    if np.random.random() < 0.02:  # Negative price\n",
        "        price = -price\n",
        "    if np.random.random() < 0.1:  # String format\n",
        "        prices.append(f\"${price:.2f}\")\n",
        "    elif np.random.random() < 0.1:  # Integer format\n",
        "        prices.append(int(price))\n",
        "    else:\n",
        "        prices.append(price)\n",
        "\n",
        "# Generate shipping status with some inconsistent values\n",
        "status_options = ['Shipped', 'shipped', 'SHIPPED', 'In Transit', 'in transit', 'In-Transit', 'Delivered', 'delivered', 'DELIVERED', 'Pending', 'pending']\n",
        "shipping_status = [np.random.choice(status_options) for _ in range(n_rows)]\n",
        "\n",
        "# Create the DataFrame\n",
        "df = pd.DataFrame({\n",
        "    'order_date': dates,\n",
        "    'customer_id': customer_ids,\n",
        "    'email': emails,\n",
        "    'product_id': product_ids,\n",
        "    'quantity': quantities,\n",
        "    'price': prices,\n",
        "    'shipping_status': shipping_status\n",
        "})\n",
        "\n",
        "# Add some completely blank rows\n",
        "blank_indices = np.random.choice(range(n_rows), size=5, replace=False)\n",
        "for idx in blank_indices:\n",
        "    df.loc[idx, :] = np.nan\n",
        "\n",
        "# Add some duplicate rows\n",
        "dup_indices = np.random.choice(range(n_rows), size=10, replace=False)\n",
        "df = pd.concat([df, df.loc[dup_indices]], ignore_index=True)\n",
        "\n",
        "# Print the first few rows to see the data\n",
        "print(df.head())"
      ],
      "metadata": {
        "colab": {
          "base_uri": "https://localhost:8080/"
        },
        "id": "S5wETrxHxAo2",
        "outputId": "f5a6bb48-efb2-485d-f70c-896b30d7f0f1"
      },
      "execution_count": 1,
      "outputs": [
        {
          "output_type": "stream",
          "name": "stdout",
          "text": [
            "  order_date    customer_id                  email product_id  quantity  \\\n",
            "0 2024-04-12           7376    user208@hotmail.com   PROD-642       5.0   \n",
            "1 2024-12-14  Customer 3393     user349company.com   PROD-626       9.0   \n",
            "2 2024-09-27          C8240   user958@company.com    PROD-645     874.0   \n",
            "3 2024-04-16          C7190      user951@yahoo.com   PROD-942       1.0   \n",
            "4 2024-03-12       CUS-7493      user519@yahoo.com   PROD-115       7.0   \n",
            "\n",
            "        price shipping_status  \n",
            "0   27.347234       DELIVERED  \n",
            "1   99.343948         Shipped  \n",
            "2   77.172318      In Transit  \n",
            "3  147.403597         Shipped  \n",
            "4         159       delivered  \n"
          ]
        }
      ]
    },
    {
      "cell_type": "code",
      "source": [
        "df_clean = df.dropna(how='all')"
      ],
      "metadata": {
        "id": "xZytiE424mbd"
      },
      "execution_count": 2,
      "outputs": []
    },
    {
      "cell_type": "code",
      "source": [
        "df_clean.loc[:, 'shipping_status'] = df_clean['shipping_status'].str.lower().str.strip()"
      ],
      "metadata": {
        "id": "El2mHquT9Ize"
      },
      "execution_count": 3,
      "outputs": []
    },
    {
      "cell_type": "code",
      "source": [
        "df_clean['shipping_status']"
      ],
      "metadata": {
        "colab": {
          "base_uri": "https://localhost:8080/",
          "height": 458
        },
        "id": "uxqEUi2l8pOe",
        "outputId": "bc97d02d-f16a-48fc-abc7-82848a254aa2"
      },
      "execution_count": 4,
      "outputs": [
        {
          "output_type": "execute_result",
          "data": {
            "text/plain": [
              "0        delivered\n",
              "1          shipped\n",
              "2       in transit\n",
              "3          shipped\n",
              "4        delivered\n",
              "           ...    \n",
              "1005     delivered\n",
              "1006       shipped\n",
              "1007    in transit\n",
              "1008    in transit\n",
              "1009       pending\n",
              "Name: shipping_status, Length: 1005, dtype: object"
            ],
            "text/html": [
              "<div>\n",
              "<style scoped>\n",
              "    .dataframe tbody tr th:only-of-type {\n",
              "        vertical-align: middle;\n",
              "    }\n",
              "\n",
              "    .dataframe tbody tr th {\n",
              "        vertical-align: top;\n",
              "    }\n",
              "\n",
              "    .dataframe thead th {\n",
              "        text-align: right;\n",
              "    }\n",
              "</style>\n",
              "<table border=\"1\" class=\"dataframe\">\n",
              "  <thead>\n",
              "    <tr style=\"text-align: right;\">\n",
              "      <th></th>\n",
              "      <th>shipping_status</th>\n",
              "    </tr>\n",
              "  </thead>\n",
              "  <tbody>\n",
              "    <tr>\n",
              "      <th>0</th>\n",
              "      <td>delivered</td>\n",
              "    </tr>\n",
              "    <tr>\n",
              "      <th>1</th>\n",
              "      <td>shipped</td>\n",
              "    </tr>\n",
              "    <tr>\n",
              "      <th>2</th>\n",
              "      <td>in transit</td>\n",
              "    </tr>\n",
              "    <tr>\n",
              "      <th>3</th>\n",
              "      <td>shipped</td>\n",
              "    </tr>\n",
              "    <tr>\n",
              "      <th>4</th>\n",
              "      <td>delivered</td>\n",
              "    </tr>\n",
              "    <tr>\n",
              "      <th>...</th>\n",
              "      <td>...</td>\n",
              "    </tr>\n",
              "    <tr>\n",
              "      <th>1005</th>\n",
              "      <td>delivered</td>\n",
              "    </tr>\n",
              "    <tr>\n",
              "      <th>1006</th>\n",
              "      <td>shipped</td>\n",
              "    </tr>\n",
              "    <tr>\n",
              "      <th>1007</th>\n",
              "      <td>in transit</td>\n",
              "    </tr>\n",
              "    <tr>\n",
              "      <th>1008</th>\n",
              "      <td>in transit</td>\n",
              "    </tr>\n",
              "    <tr>\n",
              "      <th>1009</th>\n",
              "      <td>pending</td>\n",
              "    </tr>\n",
              "  </tbody>\n",
              "</table>\n",
              "<p>1005 rows × 1 columns</p>\n",
              "</div><br><label><b>dtype:</b> object</label>"
            ]
          },
          "metadata": {},
          "execution_count": 4
        }
      ]
    },
    {
      "cell_type": "code",
      "source": [
        "df_clean.loc[:,'customer_id'] = 'CUS-' + df_clean['customer_id'].str.extract(r'(\\d+)').fillna('0000')"
      ],
      "metadata": {
        "id": "gduSgzNr8vBq"
      },
      "execution_count": 5,
      "outputs": []
    },
    {
      "cell_type": "code",
      "source": [
        "df_clean.loc[:,'price'] = pd.to_numeric(df_clean['price'].astype(str).str.replace('$', ''), errors='coerce')"
      ],
      "metadata": {
        "id": "IhuuxY6y9QkF"
      },
      "execution_count": 6,
      "outputs": []
    },
    {
      "cell_type": "code",
      "source": [
        "df_clean.loc[:,'email'] = df_clean['email'].str.strip().str.replace(r'([^@]+)([^@]*\\.com)', r'\\1@\\2')"
      ],
      "metadata": {
        "id": "YPX8m0rA9h1g"
      },
      "execution_count": 7,
      "outputs": []
    },
    {
      "cell_type": "code",
      "source": [
        "df_clean.loc[:,'quantity'] = df_clean['quantity'].clip(upper=df_clean['quantity'].quantile(0.75) + \\\n",
        "                                                       1.5 * (df_clean['quantity'].quantile(0.75) - \\\n",
        "                                                              df_clean['quantity'].quantile(0.25)))"
      ],
      "metadata": {
        "id": "624A9pca90zf"
      },
      "execution_count": 8,
      "outputs": []
    },
    {
      "cell_type": "code",
      "source": [
        "df_clean.loc[:,'shipping_status'] = df_clean['shipping_status'].replace({'in transit': 'in_transit', 'in-transit': 'in_transit', 'shipped': 'shipped', 'delivered': 'delivered', 'pending': 'pending'})"
      ],
      "metadata": {
        "id": "kQuQH2tw-Dsg"
      },
      "execution_count": 9,
      "outputs": []
    },
    {
      "cell_type": "code",
      "source": [
        "df_clean = df_clean.drop_duplicates(subset=['customer_id', 'order_date', 'product_id'])"
      ],
      "metadata": {
        "id": "twloK9z1-gRL"
      },
      "execution_count": 10,
      "outputs": []
    },
    {
      "cell_type": "code",
      "source": [
        "df_clean['is_valid_email'] = df_clean['email'].str.contains(r'^[a-zA-Z0-9._%+-]+@[a-zA-Z0-9.-]+\\.[a-zA-Z]{2,}$')\n"
      ],
      "metadata": {
        "id": "f7lWN6ep-zcS"
      },
      "execution_count": 11,
      "outputs": []
    },
    {
      "cell_type": "code",
      "source": [
        "df_clean = df_clean.sort_values('order_date').groupby('customer_id').ffill()"
      ],
      "metadata": {
        "id": "9M7Zi7f2--xR"
      },
      "execution_count": 12,
      "outputs": []
    },
    {
      "cell_type": "code",
      "source": [],
      "metadata": {
        "id": "rnm9w9TA_H32"
      },
      "execution_count": 12,
      "outputs": []
    }
  ]
}