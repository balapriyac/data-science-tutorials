{
  "nbformat": 4,
  "nbformat_minor": 0,
  "metadata": {
    "colab": {
      "provenance": []
    },
    "kernelspec": {
      "name": "python3",
      "display_name": "Python 3"
    },
    "language_info": {
      "name": "python"
    }
  },
  "cells": [
    {
      "cell_type": "markdown",
      "source": [
        "## Install PySpark"
      ],
      "metadata": {
        "id": "rsnBVqAGEUX-"
      }
    },
    {
      "cell_type": "code",
      "execution_count": 1,
      "metadata": {
        "colab": {
          "base_uri": "https://localhost:8080/"
        },
        "id": "nmFnWlbOB6lk",
        "outputId": "157e06fd-ad57-4541-dec5-3052ad9563fd"
      },
      "outputs": [
        {
          "output_type": "stream",
          "name": "stdout",
          "text": [
            "Collecting pyspark\n",
            "  Downloading pyspark-3.5.2.tar.gz (317.3 MB)\n",
            "\u001b[2K     \u001b[90m━━━━━━━━━━━━━━━━━━━━━━━━━━━━━━━━━━━━━━━━\u001b[0m \u001b[32m317.3/317.3 MB\u001b[0m \u001b[31m2.8 MB/s\u001b[0m eta \u001b[36m0:00:00\u001b[0m\n",
            "\u001b[?25h  Preparing metadata (setup.py) ... \u001b[?25l\u001b[?25hdone\n",
            "Requirement already satisfied: py4j==0.10.9.7 in /usr/local/lib/python3.10/dist-packages (from pyspark) (0.10.9.7)\n",
            "Building wheels for collected packages: pyspark\n",
            "  Building wheel for pyspark (setup.py) ... \u001b[?25l\u001b[?25hdone\n",
            "  Created wheel for pyspark: filename=pyspark-3.5.2-py2.py3-none-any.whl size=317812365 sha256=bb3917a42031cc2863a57c06e481281d96d8b540fd03498d256aff244f0d14ae\n",
            "  Stored in directory: /root/.cache/pip/wheels/34/34/bd/03944534c44b677cd5859f248090daa9fb27b3c8f8e5f49574\n",
            "Successfully built pyspark\n",
            "Installing collected packages: pyspark\n",
            "Successfully installed pyspark-3.5.2\n"
          ]
        }
      ],
      "source": [
        "! pip install pyspark"
      ]
    },
    {
      "cell_type": "markdown",
      "source": [
        "## 1. Start a PySpark Session"
      ],
      "metadata": {
        "id": "rcqidYgeEX69"
      }
    },
    {
      "cell_type": "code",
      "source": [
        "from pyspark.sql import SparkSession\n",
        "\n",
        "# Initialize a Spark session\n",
        "spark = SparkSession.builder \\\n",
        "\t.appName(\"WriteToParquet\") \\\n",
        "\t.getOrCreate()\n"
      ],
      "metadata": {
        "id": "PCL06Q0oB92P"
      },
      "execution_count": 2,
      "outputs": []
    },
    {
      "cell_type": "markdown",
      "source": [
        "## 2. Generating a Sample Dataset"
      ],
      "metadata": {
        "id": "ngfWs7IKEbvs"
      }
    },
    {
      "cell_type": "code",
      "source": [
        "import random\n",
        "import pandas as pd\n",
        "\n",
        "# Function to generate random transaction data\n",
        "def generate_data(n):\n",
        "    customer_ids = [f'C{str(i).zfill(5)}' for i in range(1, 101)]\n",
        "    product_categories = ['Electronics', 'Books', 'Clothing', 'Groceries', 'Furniture']\n",
        "\n",
        "    data = []\n",
        "    for _ in range(n):\n",
        "        customer_id = random.choice(customer_ids)\n",
        "        transaction_id = f'T{str(random.randint(10000, 99999))}'\n",
        "        transaction_date = pd.Timestamp('2023-01-01') + pd.to_timedelta(random.randint(0, 180), unit='d')\n",
        "        amount = round(random.uniform(5, 500), 2)\n",
        "        product_category = random.choice(product_categories)\n",
        "        data.append((customer_id, transaction_id, transaction_date, amount, product_category))\n",
        "\n",
        "    return data\n"
      ],
      "metadata": {
        "id": "RIOrcXxoCCoc"
      },
      "execution_count": 3,
      "outputs": []
    },
    {
      "cell_type": "code",
      "source": [
        "# Generate 100,000 rows of transaction data\n",
        "data = generate_data(100_000)\n",
        "\n",
        "# Convert to a Pandas DataFrame\n",
        "columns = ['CustomerID', 'TransactionID', 'TransactionDate', 'Amount', 'ProductCategory']\n",
        "df = pd.DataFrame(data, columns=columns)\n",
        "\n",
        "# Convert to a PySpark DataFrame\n",
        "spark_df = spark.createDataFrame(df)\n",
        "spark_df.show(5)\n"
      ],
      "metadata": {
        "colab": {
          "base_uri": "https://localhost:8080/"
        },
        "id": "COM3xnQsCE7l",
        "outputId": "e8850727-55a3-4b8c-fb68-913195b81b26"
      },
      "execution_count": 4,
      "outputs": [
        {
          "output_type": "stream",
          "name": "stdout",
          "text": [
            "+----------+-------------+-------------------+------+---------------+\n",
            "|CustomerID|TransactionID|    TransactionDate|Amount|ProductCategory|\n",
            "+----------+-------------+-------------------+------+---------------+\n",
            "|    C00012|       T36462|2023-05-05 00:00:00| 90.91|      Furniture|\n",
            "|    C00037|       T81031|2023-03-19 00:00:00|465.54|    Electronics|\n",
            "|    C00092|       T98628|2023-02-25 00:00:00| 180.9|       Clothing|\n",
            "|    C00050|       T46850|2023-04-16 00:00:00|494.67|      Furniture|\n",
            "|    C00097|       T79766|2023-04-11 00:00:00|179.65|      Groceries|\n",
            "+----------+-------------+-------------------+------+---------------+\n",
            "only showing top 5 rows\n",
            "\n"
          ]
        }
      ]
    },
    {
      "cell_type": "markdown",
      "source": [
        "## 3. Writing DataFrames to Parquet Files"
      ],
      "metadata": {
        "id": "QXoDo2PdEetE"
      }
    },
    {
      "cell_type": "code",
      "source": [
        "# Specify the path to the Parquet file\n",
        "output_path = \"transactions.parquet\"\n",
        "\n",
        "# Write the DataFrame to Parquet format\n",
        "spark_df.write.parquet(output_path)\n"
      ],
      "metadata": {
        "id": "USrdKz9zCH3-"
      },
      "execution_count": 5,
      "outputs": []
    },
    {
      "cell_type": "code",
      "source": [
        "! ls"
      ],
      "metadata": {
        "colab": {
          "base_uri": "https://localhost:8080/"
        },
        "id": "nWc4bKgJCKek",
        "outputId": "a522d32b-831e-42b9-d38e-027d7bea5123"
      },
      "execution_count": 6,
      "outputs": [
        {
          "output_type": "stream",
          "name": "stdout",
          "text": [
            "sample_data  transactions.parquet\n"
          ]
        }
      ]
    },
    {
      "cell_type": "markdown",
      "source": [
        "## 4. Writing Partitioned Parquet Files\n"
      ],
      "metadata": {
        "id": "jCzZVwHlElYG"
      }
    },
    {
      "cell_type": "code",
      "source": [
        "# Write the dataframe to Parquet format, partitioned by 'ProductCategory'\n",
        "partitioned_output_path = \"transactions_partitioned.parquet\"\n",
        "spark_df.write.partitionBy(\"ProductCategory\").parquet(partitioned_output_path)\n"
      ],
      "metadata": {
        "id": "AE9MaBStCLXH"
      },
      "execution_count": 7,
      "outputs": []
    },
    {
      "cell_type": "code",
      "source": [
        "! ls"
      ],
      "metadata": {
        "colab": {
          "base_uri": "https://localhost:8080/"
        },
        "id": "n3JMnfYIDoaP",
        "outputId": "cda8bdc6-f319-4fcf-fddc-1a7aeca95b40"
      },
      "execution_count": 8,
      "outputs": [
        {
          "output_type": "stream",
          "name": "stdout",
          "text": [
            "sample_data  transactions.parquet  transactions_partitioned.parquet\n"
          ]
        }
      ]
    },
    {
      "cell_type": "code",
      "source": [
        "! ls transactions_partitioned.parquet"
      ],
      "metadata": {
        "colab": {
          "base_uri": "https://localhost:8080/"
        },
        "id": "dHS4VW8qD8nI",
        "outputId": "3acd5f08-79d8-4a69-9667-adc1f07ad114"
      },
      "execution_count": 10,
      "outputs": [
        {
          "output_type": "stream",
          "name": "stdout",
          "text": [
            "'ProductCategory=Books'     'ProductCategory=Electronics'  'ProductCategory=Groceries'\n",
            "'ProductCategory=Clothing'  'ProductCategory=Furniture'     _SUCCESS\n"
          ]
        }
      ]
    },
    {
      "cell_type": "markdown",
      "source": [
        "## 5. Reading Parquet Files"
      ],
      "metadata": {
        "id": "gJdb3rHwEosV"
      }
    },
    {
      "cell_type": "code",
      "source": [
        "# Read in the Parquet file\n",
        "df_read = spark.read.parquet(output_path)\n",
        "\n",
        "# Show the content of the DataFrame\n",
        "df_read.show(5)\n"
      ],
      "metadata": {
        "colab": {
          "base_uri": "https://localhost:8080/"
        },
        "id": "xyH_5SMxCNww",
        "outputId": "2091c0ba-0c2a-4552-b07a-f439d4ce9502"
      },
      "execution_count": 11,
      "outputs": [
        {
          "output_type": "stream",
          "name": "stdout",
          "text": [
            "+----------+-------------+-------------------+------+---------------+\n",
            "|CustomerID|TransactionID|    TransactionDate|Amount|ProductCategory|\n",
            "+----------+-------------+-------------------+------+---------------+\n",
            "|    C00012|       T36462|2023-05-05 00:00:00| 90.91|      Furniture|\n",
            "|    C00037|       T81031|2023-03-19 00:00:00|465.54|    Electronics|\n",
            "|    C00092|       T98628|2023-02-25 00:00:00| 180.9|       Clothing|\n",
            "|    C00050|       T46850|2023-04-16 00:00:00|494.67|      Furniture|\n",
            "|    C00097|       T79766|2023-04-11 00:00:00|179.65|      Groceries|\n",
            "+----------+-------------+-------------------+------+---------------+\n",
            "only showing top 5 rows\n",
            "\n"
          ]
        }
      ]
    }
  ]
}